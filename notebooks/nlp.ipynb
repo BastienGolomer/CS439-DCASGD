{
  "nbformat": 4,
  "nbformat_minor": 0,
  "metadata": {
    "colab": {
      "name": "nlp.ipynb",
      "provenance": [],
      "collapsed_sections": [
        "n6oqkLbBvtHG",
        "dD8WkphovwG2",
        "2uZkI89K7X7T",
        "LjQ75Q8rTwS6",
        "eYxY4AZC_RU_"
      ]
    },
    "kernelspec": {
      "name": "python3",
      "display_name": "Python 3"
    },
    "language_info": {
      "name": "python"
    }
  },
  "cells": [
    {
      "cell_type": "markdown",
      "source": [
        "The code for the nlp task is greatly inspired from https://coderzcolumn.com/."
      ],
      "metadata": {
        "id": "kiTFAgqMsDl0"
      }
    },
    {
      "cell_type": "code",
      "execution_count": 1,
      "metadata": {
        "colab": {
          "base_uri": "https://localhost:8080/"
        },
        "id": "FRIQV97Zrx8T",
        "outputId": "b1a75c7e-9245-45f1-dac3-568bbde647b7"
      },
      "outputs": [
        {
          "output_type": "stream",
          "name": "stdout",
          "text": [
            "Looking in indexes: https://pypi.org/simple, https://us-python.pkg.dev/colab-wheels/public/simple/\n",
            "Requirement already satisfied: mxnet-cu110 in /usr/local/lib/python3.7/dist-packages (1.9.1)\n",
            "Requirement already satisfied: numpy<2.0.0,>1.16.0 in /usr/local/lib/python3.7/dist-packages (from mxnet-cu110) (1.21.6)\n",
            "Requirement already satisfied: requests<3,>=2.20.0 in /usr/local/lib/python3.7/dist-packages (from mxnet-cu110) (2.23.0)\n",
            "Requirement already satisfied: graphviz<0.9.0,>=0.8.1 in /usr/local/lib/python3.7/dist-packages (from mxnet-cu110) (0.8.4)\n",
            "Requirement already satisfied: certifi>=2017.4.17 in /usr/local/lib/python3.7/dist-packages (from requests<3,>=2.20.0->mxnet-cu110) (2022.5.18.1)\n",
            "Requirement already satisfied: urllib3!=1.25.0,!=1.25.1,<1.26,>=1.21.1 in /usr/local/lib/python3.7/dist-packages (from requests<3,>=2.20.0->mxnet-cu110) (1.24.3)\n",
            "Requirement already satisfied: chardet<4,>=3.0.2 in /usr/local/lib/python3.7/dist-packages (from requests<3,>=2.20.0->mxnet-cu110) (3.0.4)\n",
            "Requirement already satisfied: idna<3,>=2.5 in /usr/local/lib/python3.7/dist-packages (from requests<3,>=2.20.0->mxnet-cu110) (2.10)\n",
            "Looking in indexes: https://pypi.org/simple, https://us-python.pkg.dev/colab-wheels/public/simple/\n",
            "Requirement already satisfied: shap in /usr/local/lib/python3.7/dist-packages (0.41.0)\n",
            "Requirement already satisfied: scikit-learn in /usr/local/lib/python3.7/dist-packages (from shap) (1.0.2)\n",
            "Requirement already satisfied: slicer==0.0.7 in /usr/local/lib/python3.7/dist-packages (from shap) (0.0.7)\n",
            "Requirement already satisfied: tqdm>4.25.0 in /usr/local/lib/python3.7/dist-packages (from shap) (4.64.0)\n",
            "Requirement already satisfied: numba in /usr/local/lib/python3.7/dist-packages (from shap) (0.51.2)\n",
            "Requirement already satisfied: scipy in /usr/local/lib/python3.7/dist-packages (from shap) (1.4.1)\n",
            "Requirement already satisfied: numpy in /usr/local/lib/python3.7/dist-packages (from shap) (1.21.6)\n",
            "Requirement already satisfied: cloudpickle in /usr/local/lib/python3.7/dist-packages (from shap) (1.3.0)\n",
            "Requirement already satisfied: pandas in /usr/local/lib/python3.7/dist-packages (from shap) (1.3.5)\n",
            "Requirement already satisfied: packaging>20.9 in /usr/local/lib/python3.7/dist-packages (from shap) (21.3)\n",
            "Requirement already satisfied: pyparsing!=3.0.5,>=2.0.2 in /usr/local/lib/python3.7/dist-packages (from packaging>20.9->shap) (3.0.9)\n",
            "Requirement already satisfied: llvmlite<0.35,>=0.34.0.dev0 in /usr/local/lib/python3.7/dist-packages (from numba->shap) (0.34.0)\n",
            "Requirement already satisfied: setuptools in /usr/local/lib/python3.7/dist-packages (from numba->shap) (57.4.0)\n",
            "Requirement already satisfied: python-dateutil>=2.7.3 in /usr/local/lib/python3.7/dist-packages (from pandas->shap) (2.8.2)\n",
            "Requirement already satisfied: pytz>=2017.3 in /usr/local/lib/python3.7/dist-packages (from pandas->shap) (2022.1)\n",
            "Requirement already satisfied: six>=1.5 in /usr/local/lib/python3.7/dist-packages (from python-dateutil>=2.7.3->pandas->shap) (1.15.0)\n",
            "Requirement already satisfied: joblib>=0.11 in /usr/local/lib/python3.7/dist-packages (from scikit-learn->shap) (1.1.0)\n",
            "Requirement already satisfied: threadpoolctl>=2.0.0 in /usr/local/lib/python3.7/dist-packages (from scikit-learn->shap) (3.1.0)\n",
            "Looking in indexes: https://pypi.org/simple, https://us-python.pkg.dev/colab-wheels/public/simple/\n",
            "Requirement already satisfied: gluonnlp in /usr/local/lib/python3.7/dist-packages (0.10.0)\n",
            "Requirement already satisfied: numpy>=1.16.0 in /usr/local/lib/python3.7/dist-packages (from gluonnlp) (1.21.6)\n",
            "Requirement already satisfied: packaging in /usr/local/lib/python3.7/dist-packages (from gluonnlp) (21.3)\n",
            "Requirement already satisfied: cython in /usr/local/lib/python3.7/dist-packages (from gluonnlp) (0.29.30)\n",
            "Requirement already satisfied: pyparsing!=3.0.5,>=2.0.2 in /usr/local/lib/python3.7/dist-packages (from packaging->gluonnlp) (3.0.9)\n",
            "Looking in indexes: https://pypi.org/simple, https://us-python.pkg.dev/colab-wheels/public/simple/\n",
            "Requirement already satisfied: scikit-plot in /usr/local/lib/python3.7/dist-packages (0.3.7)\n",
            "Requirement already satisfied: scipy>=0.9 in /usr/local/lib/python3.7/dist-packages (from scikit-plot) (1.4.1)\n",
            "Requirement already satisfied: joblib>=0.10 in /usr/local/lib/python3.7/dist-packages (from scikit-plot) (1.1.0)\n",
            "Requirement already satisfied: scikit-learn>=0.18 in /usr/local/lib/python3.7/dist-packages (from scikit-plot) (1.0.2)\n",
            "Requirement already satisfied: matplotlib>=1.4.0 in /usr/local/lib/python3.7/dist-packages (from scikit-plot) (3.2.2)\n",
            "Requirement already satisfied: python-dateutil>=2.1 in /usr/local/lib/python3.7/dist-packages (from matplotlib>=1.4.0->scikit-plot) (2.8.2)\n",
            "Requirement already satisfied: numpy>=1.11 in /usr/local/lib/python3.7/dist-packages (from matplotlib>=1.4.0->scikit-plot) (1.21.6)\n",
            "Requirement already satisfied: pyparsing!=2.0.4,!=2.1.2,!=2.1.6,>=2.0.1 in /usr/local/lib/python3.7/dist-packages (from matplotlib>=1.4.0->scikit-plot) (3.0.9)\n",
            "Requirement already satisfied: kiwisolver>=1.0.1 in /usr/local/lib/python3.7/dist-packages (from matplotlib>=1.4.0->scikit-plot) (1.4.2)\n",
            "Requirement already satisfied: cycler>=0.10 in /usr/local/lib/python3.7/dist-packages (from matplotlib>=1.4.0->scikit-plot) (0.11.0)\n",
            "Requirement already satisfied: typing-extensions in /usr/local/lib/python3.7/dist-packages (from kiwisolver>=1.0.1->matplotlib>=1.4.0->scikit-plot) (4.2.0)\n",
            "Requirement already satisfied: six>=1.5 in /usr/local/lib/python3.7/dist-packages (from python-dateutil>=2.1->matplotlib>=1.4.0->scikit-plot) (1.15.0)\n",
            "Requirement already satisfied: threadpoolctl>=2.0.0 in /usr/local/lib/python3.7/dist-packages (from scikit-learn>=0.18->scikit-plot) (3.1.0)\n"
          ]
        }
      ],
      "source": [
        "!pip install mxnet-cu110\n",
        "!pip install shap\n",
        "!pip install gluonnlp\n",
        "!pip install scikit-plot\n",
        "import mxnet\n",
        "import gluonnlp \n",
        "import shap\n",
        "import numpy as np\n",
        "from sklearn import datasets\n",
        "import gc\n",
        "import re\n",
        "from functools import partial\n",
        "from collections import Counter\n",
        "import gluonnlp.data.batchify as bf\n",
        "from mxnet import nd,init, initializer,autograd,optimizer\n",
        "from sklearn.feature_extraction.text import CountVectorizer\n",
        "from mxnet.gluon.data import DataLoader , ArrayDataset\n",
        "from mxnet.gluon import nn\n",
        "from tqdm import tqdm\n",
        "from sklearn.metrics import accuracy_score\n",
        "from mxnet import gluon\n",
        "from mxnet.gluon import loss\n",
        "\n",
        "from sklearn.metrics import accuracy_score, confusion_matrix, classification_report\n",
        "import matplotlib.pyplot as plt\n",
        "import scikitplot as skplt\n",
        "\n",
        "\n",
        "\n"
      ]
    },
    {
      "cell_type": "code",
      "source": [
        "all_categories = ['alt.atheism','comp.graphics','comp.os.ms-windows.misc','comp.sys.ibm.pc.hardware',\n",
        "                  'comp.sys.mac.hardware','comp.windows.x', 'misc.forsale','rec.autos','rec.motorcycles',\n",
        "                  'rec.sport.baseball','rec.sport.hockey','sci.crypt','sci.electronics','sci.med',\n",
        "                  'sci.space','soc.religion.christian','talk.politics.guns','talk.politics.mideast',\n",
        "                  'talk.politics.misc','talk.religion.misc']\n",
        "\n",
        "selected_categories = ['alt.atheism','comp.graphics','rec.sport.hockey','sci.space','talk.politics.misc']\n",
        "\n",
        "X_train, Y_train = datasets.fetch_20newsgroups(subset=\"train\", categories=selected_categories, return_X_y=True)\n",
        "X_test , Y_test  = datasets.fetch_20newsgroups(subset=\"test\", categories=selected_categories, return_X_y=True)\n",
        "\n",
        "classes = np.unique(Y_train)\n",
        "mapping = dict(zip(classes, selected_categories))\n",
        "\n",
        "len(X_train), len(X_test), classes, mapping"
      ],
      "metadata": {
        "colab": {
          "base_uri": "https://localhost:8080/"
        },
        "id": "oEmKyWYbr4qQ",
        "outputId": "1dba9e93-9541-4edc-ac0f-3885ed60a7cd"
      },
      "execution_count": 2,
      "outputs": [
        {
          "output_type": "execute_result",
          "data": {
            "text/plain": [
              "(2722,\n",
              " 1811,\n",
              " array([0, 1, 2, 3, 4]),\n",
              " {0: 'alt.atheism',\n",
              "  1: 'comp.graphics',\n",
              "  2: 'rec.sport.hockey',\n",
              "  3: 'sci.space',\n",
              "  4: 'talk.politics.misc'})"
            ]
          },
          "metadata": {},
          "execution_count": 2
        }
      ]
    },
    {
      "cell_type": "code",
      "source": [
        "train_dataset = ArrayDataset(X_train, Y_train)\n",
        "test_dataset  = ArrayDataset(X_test, Y_test)"
      ],
      "metadata": {
        "id": "7B8GEp91sMSA"
      },
      "execution_count": 3,
      "outputs": []
    },
    {
      "cell_type": "code",
      "source": [
        "tokenizer = partial(lambda X: re.findall(r\"\\w+\", X))\n",
        "\n",
        "tokenizer(\"Hello, How are you?\")"
      ],
      "metadata": {
        "colab": {
          "base_uri": "https://localhost:8080/"
        },
        "id": "Xd38s8v6smhs",
        "outputId": "148c559d-c919-4c96-87a3-a3baa8094478"
      },
      "execution_count": 4,
      "outputs": [
        {
          "output_type": "execute_result",
          "data": {
            "text/plain": [
              "['Hello', 'How', 'are', 'you']"
            ]
          },
          "metadata": {},
          "execution_count": 4
        }
      ]
    },
    {
      "cell_type": "code",
      "source": [
        "counter = Counter()\n",
        "\n",
        "for dataset in [train_dataset, test_dataset]:\n",
        "    for X, Y in dataset:\n",
        "        gluonnlp.data.count_tokens(tokenizer(X), to_lower=True, counter=counter)\n",
        "\n",
        "vocab = gluonnlp.Vocab(counter=counter, min_freq=1)\n",
        "\n",
        "print(\"Vocabulary Size : {}\".format(len(vocab)))"
      ],
      "metadata": {
        "colab": {
          "base_uri": "https://localhost:8080/"
        },
        "id": "N-hZrRX_soDk",
        "outputId": "6d5671a9-750c-4cd0-a03e-5f679ab72e1d"
      },
      "execution_count": 5,
      "outputs": [
        {
          "output_type": "stream",
          "name": "stdout",
          "text": [
            "Vocabulary Size : 52114\n"
          ]
        }
      ]
    },
    {
      "cell_type": "code",
      "source": [
        "vocab.idx_to_token[:10]"
      ],
      "metadata": {
        "colab": {
          "base_uri": "https://localhost:8080/"
        },
        "id": "yIHrl40XsqeZ",
        "outputId": "f20a12fa-8536-4f08-a5da-9b9014c4c347"
      },
      "execution_count": 6,
      "outputs": [
        {
          "output_type": "execute_result",
          "data": {
            "text/plain": [
              "['<unk>', '<pad>', '<bos>', '<eos>', 'the', 'to', 'of', 'a', 'and', 'in']"
            ]
          },
          "metadata": {},
          "execution_count": 6
        }
      ]
    },
    {
      "cell_type": "code",
      "source": [
        "vectorizer = CountVectorizer(vocabulary=vocab.idx_to_token, tokenizer=tokenizer)\n",
        "\n",
        "def vectorize(batch):\n",
        "    X, Y = list(zip(*batch))\n",
        "    X = vectorizer.transform(X).todense()\n",
        "    return nd.array(X, dtype=np.float32), nd.array(Y, dtype=np.int32)\n",
        "\n",
        "vectorize([[\"how are you\", 1]])"
      ],
      "metadata": {
        "colab": {
          "base_uri": "https://localhost:8080/"
        },
        "id": "mMPOClrisscI",
        "outputId": "827480da-10bd-4e5a-cc8a-88286b1c4d32"
      },
      "execution_count": 7,
      "outputs": [
        {
          "output_type": "execute_result",
          "data": {
            "text/plain": [
              "(\n",
              " [[0. 0. 0. ... 0. 0. 0.]]\n",
              " <NDArray 1x52114 @cpu(0)>, \n",
              " [1]\n",
              " <NDArray 1 @cpu(0)>)"
            ]
          },
          "metadata": {},
          "execution_count": 7
        }
      ]
    },
    {
      "cell_type": "code",
      "source": [
        "train_loader = DataLoader(train_dataset, batch_size=128, batchify_fn=vectorize)\n",
        "test_loader  = DataLoader(test_dataset,  batch_size=128, batchify_fn=vectorize)"
      ],
      "metadata": {
        "id": "uCiy3U_KsvSg"
      },
      "execution_count": 8,
      "outputs": []
    },
    {
      "cell_type": "code",
      "source": [
        "for X, Y in train_loader:\n",
        "    print(X.shape, Y.shape)\n",
        "    break"
      ],
      "metadata": {
        "colab": {
          "base_uri": "https://localhost:8080/"
        },
        "id": "-KrgEq89sx-2",
        "outputId": "1f087f92-3d17-474b-b49a-8c7453cfb319"
      },
      "execution_count": 9,
      "outputs": [
        {
          "output_type": "stream",
          "name": "stdout",
          "text": [
            "(128, 52114) (128,)\n"
          ]
        }
      ]
    },
    {
      "cell_type": "markdown",
      "source": [
        "# Define network"
      ],
      "metadata": {
        "id": "N47BW9GCsz7L"
      }
    },
    {
      "cell_type": "code",
      "source": [
        "class TextClassifier(nn.Block):\n",
        "    def __init__(self, **kwargs):\n",
        "        super(TextClassifier, self).__init__(**kwargs)\n",
        "        self.seq  = nn.Sequential()\n",
        "        self.seq.add(nn.Dense(128, activation=\"relu\"))\n",
        "        self.seq.add(nn.Dense(64, activation=\"relu\"))\n",
        "        self.seq.add(nn.Dense(len(selected_categories)))\n",
        "\n",
        "    def forward(self, x):\n",
        "        logits = self.seq(x)\n",
        "        return logits #nd.softmax(logits)\n",
        "\n",
        "model = TextClassifier()\n",
        "\n",
        "model"
      ],
      "metadata": {
        "colab": {
          "base_uri": "https://localhost:8080/"
        },
        "id": "M0kP3oZaszU0",
        "outputId": "91dbd72f-35bf-447f-c018-47a7b318c5cb"
      },
      "execution_count": 10,
      "outputs": [
        {
          "output_type": "execute_result",
          "data": {
            "text/plain": [
              "TextClassifier(\n",
              "  (seq): Sequential(\n",
              "    (0): Dense(None -> 128, Activation(relu))\n",
              "    (1): Dense(None -> 64, Activation(relu))\n",
              "    (2): Dense(None -> 5, linear)\n",
              "  )\n",
              ")"
            ]
          },
          "metadata": {},
          "execution_count": 10
        }
      ]
    },
    {
      "cell_type": "code",
      "source": [
        "model.initialize(initializer.Xavier())\n",
        "\n",
        "preds = model(nd.random.randn(10,len(vocab)))\n",
        "\n",
        "preds.shape"
      ],
      "metadata": {
        "colab": {
          "base_uri": "https://localhost:8080/"
        },
        "id": "aisDh10Is26B",
        "outputId": "60e7aab0-7430-43ad-98d3-65aa8784482e"
      },
      "execution_count": 11,
      "outputs": [
        {
          "output_type": "execute_result",
          "data": {
            "text/plain": [
              "(10, 5)"
            ]
          },
          "metadata": {},
          "execution_count": 11
        }
      ]
    },
    {
      "cell_type": "code",
      "source": [
        "def MakePredictions(model, val_loader):\n",
        "    Y_actuals, Y_preds = [], []\n",
        "    for X_batch, Y_batch in val_loader:\n",
        "        preds = model(X_batch)\n",
        "        preds = nd.softmax(preds)\n",
        "        Y_actuals.append(Y_batch)\n",
        "        Y_preds.append(preds.argmax(axis=-1))\n",
        "\n",
        "    Y_actuals, Y_preds = nd.concatenate(Y_actuals), nd.concatenate(Y_preds)\n",
        "    return Y_actuals, Y_preds\n",
        "\n",
        "def CalcValLoss(model, val_loader):\n",
        "    losses = []\n",
        "    for X_batch, Y_batch in val_loader:\n",
        "        val_loss = loss_func(model(X_batch), Y_batch)\n",
        "        val_loss = val_loss.mean().asscalar()\n",
        "        losses.append(val_loss)\n",
        "    print(\"Valid CrossEntropyLoss : {:.3f}\".format(np.array(losses).mean()))\n",
        "\n",
        "def TrainModelInBatches(trainer, train_loader, val_loader, epochs):\n",
        "    accuracies = []\n",
        "    for i in range(1, epochs+1):\n",
        "        losses = [] ## Record loss of each batch\n",
        "        for X_batch, Y_batch in tqdm(train_loader):\n",
        "            with autograd.record():\n",
        "                preds = model(X_batch) ## Forward pass to make predictions\n",
        "                train_loss = loss_func(preds.squeeze(), Y_batch) ## Calculate Loss\n",
        "            train_loss.backward() ## Calculate Gradients\n",
        "\n",
        "            train_loss = train_loss.mean().asscalar()\n",
        "            losses.append(train_loss)\n",
        "\n",
        "            trainer.step(len(X_batch)) ## Update weights\n",
        "\n",
        "        print(\"Train CrossEntropyLoss : {:.3f}\".format(np.array(losses).mean()))\n",
        "        CalcValLoss(model, val_loader)\n",
        "        Y_actuals, Y_preds = MakePredictions(model, val_loader)\n",
        "        print(\"Valid Accuracy : {:.3f}\".format(accuracy_score(Y_actuals.asnumpy(), Y_preds.asnumpy())))\n",
        "        accuracies.append(accuracy_score(Y_actuals.asnumpy(), Y_preds.asnumpy()))\n",
        "    return accuracies"
      ],
      "metadata": {
        "id": "vgJyPlmQs5FD"
      },
      "execution_count": 25,
      "outputs": []
    },
    {
      "cell_type": "markdown",
      "source": [
        "# Adam"
      ],
      "metadata": {
        "id": "n6oqkLbBvtHG"
      }
    },
    {
      "cell_type": "code",
      "source": [
        "epochs=8\n",
        "learning_rate = 0.001\n",
        "\n",
        "model = TextClassifier()\n",
        "model.initialize()\n",
        "loss_func = loss.SoftmaxCrossEntropyLoss()\n",
        "adam_optimizer = optimizer.Adam(learning_rate=learning_rate)\n",
        "\n",
        "trainer = gluon.Trainer(model.collect_params(), adam_optimizer)\n",
        "\n",
        "TrainModelInBatches(trainer, train_loader, test_loader, epochs)"
      ],
      "metadata": {
        "colab": {
          "base_uri": "https://localhost:8080/"
        },
        "id": "cG2VhH34s9P0",
        "outputId": "a9357fdb-dfa2-4db4-92f0-319fd76cf733"
      },
      "execution_count": 14,
      "outputs": [
        {
          "output_type": "stream",
          "name": "stderr",
          "text": [
            "100%|██████████| 22/22 [00:06<00:00,  3.56it/s]\n"
          ]
        },
        {
          "output_type": "stream",
          "name": "stdout",
          "text": [
            "Train CrossEntropyLoss : 1.393\n",
            "Valid CrossEntropyLoss : 1.073\n",
            "Valid Accuracy : 0.821\n"
          ]
        },
        {
          "output_type": "stream",
          "name": "stderr",
          "text": [
            "100%|██████████| 22/22 [00:06<00:00,  3.37it/s]\n"
          ]
        },
        {
          "output_type": "stream",
          "name": "stdout",
          "text": [
            "Train CrossEntropyLoss : 0.508\n",
            "Valid CrossEntropyLoss : 0.391\n",
            "Valid Accuracy : 0.922\n"
          ]
        },
        {
          "output_type": "stream",
          "name": "stderr",
          "text": [
            "100%|██████████| 22/22 [00:05<00:00,  4.27it/s]\n"
          ]
        },
        {
          "output_type": "stream",
          "name": "stdout",
          "text": [
            "Train CrossEntropyLoss : 0.080\n",
            "Valid CrossEntropyLoss : 0.264\n",
            "Valid Accuracy : 0.935\n"
          ]
        },
        {
          "output_type": "stream",
          "name": "stderr",
          "text": [
            "100%|██████████| 22/22 [00:03<00:00,  6.63it/s]\n"
          ]
        },
        {
          "output_type": "stream",
          "name": "stdout",
          "text": [
            "Train CrossEntropyLoss : 0.023\n",
            "Valid CrossEntropyLoss : 0.245\n",
            "Valid Accuracy : 0.934\n"
          ]
        },
        {
          "output_type": "stream",
          "name": "stderr",
          "text": [
            "100%|██████████| 22/22 [00:03<00:00,  6.63it/s]\n"
          ]
        },
        {
          "output_type": "stream",
          "name": "stdout",
          "text": [
            "Train CrossEntropyLoss : 0.011\n",
            "Valid CrossEntropyLoss : 0.242\n",
            "Valid Accuracy : 0.938\n"
          ]
        },
        {
          "output_type": "stream",
          "name": "stderr",
          "text": [
            "100%|██████████| 22/22 [00:03<00:00,  6.59it/s]\n"
          ]
        },
        {
          "output_type": "stream",
          "name": "stdout",
          "text": [
            "Train CrossEntropyLoss : 0.006\n",
            "Valid CrossEntropyLoss : 0.241\n",
            "Valid Accuracy : 0.936\n"
          ]
        },
        {
          "output_type": "stream",
          "name": "stderr",
          "text": [
            "100%|██████████| 22/22 [00:03<00:00,  6.69it/s]\n"
          ]
        },
        {
          "output_type": "stream",
          "name": "stdout",
          "text": [
            "Train CrossEntropyLoss : 0.004\n",
            "Valid CrossEntropyLoss : 0.242\n",
            "Valid Accuracy : 0.937\n"
          ]
        },
        {
          "output_type": "stream",
          "name": "stderr",
          "text": [
            "100%|██████████| 22/22 [00:03<00:00,  6.71it/s]\n"
          ]
        },
        {
          "output_type": "stream",
          "name": "stdout",
          "text": [
            "Train CrossEntropyLoss : 0.003\n",
            "Valid CrossEntropyLoss : 0.244\n",
            "Valid Accuracy : 0.938\n"
          ]
        }
      ]
    },
    {
      "cell_type": "code",
      "source": [
        "Y_actuals, Y_preds = MakePredictions(model, test_loader)\n",
        "\n",
        "print(\"Test Accuracy : {}\".format(accuracy_score(Y_actuals.asnumpy(), Y_preds.asnumpy())))\n",
        "print(\"Classification Report : \")\n",
        "print(classification_report(Y_actuals.asnumpy(), Y_preds.asnumpy(), target_names=selected_categories))\n",
        "print(\"\\nConfusion Matrix : \")\n",
        "print(confusion_matrix(Y_actuals.asnumpy(), Y_preds.asnumpy()))\n",
        "\n",
        "\n",
        "skplt.metrics.plot_confusion_matrix([selected_categories[i] for i in Y_actuals.asnumpy().astype(int)], [selected_categories[i] for i in Y_preds.asnumpy().astype(int)],\n",
        "                                    normalize=True,\n",
        "                                    title=\"Confusion Matrix\",\n",
        "                                    cmap=\"Blues\",\n",
        "                                    hide_zeros=True,\n",
        "                                    figsize=(5,5)\n",
        "                                    );\n",
        "plt.xticks(rotation=90);"
      ],
      "metadata": {
        "colab": {
          "base_uri": "https://localhost:8080/",
          "height": 747
        },
        "id": "hXEu2tmstKKG",
        "outputId": "574142a2-31a4-4955-8af7-dc59e5f12d54"
      },
      "execution_count": 15,
      "outputs": [
        {
          "output_type": "stream",
          "name": "stdout",
          "text": [
            "Test Accuracy : 0.9381557150745444\n",
            "Classification Report : \n",
            "                    precision    recall  f1-score   support\n",
            "\n",
            "       alt.atheism       0.95      0.92      0.94       319\n",
            "     comp.graphics       0.91      0.96      0.93       389\n",
            "  rec.sport.hockey       0.98      0.97      0.97       399\n",
            "         sci.space       0.93      0.93      0.93       394\n",
            "talk.politics.misc       0.92      0.89      0.91       310\n",
            "\n",
            "          accuracy                           0.94      1811\n",
            "         macro avg       0.94      0.94      0.94      1811\n",
            "      weighted avg       0.94      0.94      0.94      1811\n",
            "\n",
            "\n",
            "Confusion Matrix : \n",
            "[[295   9   2   6   7]\n",
            " [  3 373   3   5   5]\n",
            " [  1   5 388   0   5]\n",
            " [  1  18   2 367   6]\n",
            " [  9   7   2  16 276]]\n"
          ]
        },
        {
          "output_type": "display_data",
          "data": {
            "text/plain": [
              "<Figure size 360x360 with 2 Axes>"
            ],
            "image/png": "[encoded data removed]"
          },
          "metadata": {
            "needs_background": "light"
          }
        }
      ]
    },
    {
      "cell_type": "markdown",
      "source": [
        "# DCASGD"
      ],
      "metadata": {
        "id": "dD8WkphovwG2"
      }
    },
    {
      "cell_type": "markdown",
      "source": [
        "### 1st test"
      ],
      "metadata": {
        "id": "2uZkI89K7X7T"
      }
    },
    {
      "cell_type": "code",
      "source": [
        "epochs=8\n",
        "results = []\n",
        "for lr in np.logspace(-4,-1,5) : \n",
        "  row = []\n",
        "  for lamda in np.logspace(-4,-1,5) :\n",
        "    model = TextClassifier()\n",
        "    model.initialize()\n",
        "    loss_func = loss.SoftmaxCrossEntropyLoss()\n",
        "    dcasgd_optimizer = optimizer.DCASGD(learning_rate=lr, lamda = 0)\n",
        "\n",
        "    trainer = gluon.Trainer(model.collect_params(), dcasgd_optimizer)\n",
        "\n",
        "    accuracies = TrainModelInBatches(trainer, train_loader, test_loader, epochs)\n",
        "    row.append(accuracies)\n",
        "  results.append(row)"
      ],
      "metadata": {
        "colab": {
          "base_uri": "https://localhost:8080/"
        },
        "id": "GDzUvL3-6P5b",
        "outputId": "76f1cba5-20db-4a82-e3df-bc89870fb790"
      },
      "execution_count": 47,
      "outputs": [
        {
          "output_type": "stream",
          "name": "stderr",
          "text": [
            "100%|██████████| 22/22 [00:03<00:00,  5.53it/s]\n"
          ]
        },
        {
          "output_type": "stream",
          "name": "stdout",
          "text": [
            "Train CrossEntropyLoss : 1.627\n",
            "Valid CrossEntropyLoss : 1.630\n",
            "Valid Accuracy : 0.176\n"
          ]
        },
        {
          "output_type": "stream",
          "name": "stderr",
          "text": [
            "100%|██████████| 22/22 [00:07<00:00,  3.13it/s]\n"
          ]
        },
        {
          "output_type": "stream",
          "name": "stdout",
          "text": [
            "Train CrossEntropyLoss : 1.626\n",
            "Valid CrossEntropyLoss : 1.630\n",
            "Valid Accuracy : 0.176\n"
          ]
        },
        {
          "output_type": "stream",
          "name": "stderr",
          "text": [
            "100%|██████████| 22/22 [00:04<00:00,  4.55it/s]\n"
          ]
        },
        {
          "output_type": "stream",
          "name": "stdout",
          "text": [
            "Train CrossEntropyLoss : 1.626\n",
            "Valid CrossEntropyLoss : 1.629\n",
            "Valid Accuracy : 0.176\n"
          ]
        },
        {
          "output_type": "stream",
          "name": "stderr",
          "text": [
            "100%|██████████| 22/22 [00:05<00:00,  3.85it/s]\n"
          ]
        },
        {
          "output_type": "stream",
          "name": "stdout",
          "text": [
            "Train CrossEntropyLoss : 1.625\n",
            "Valid CrossEntropyLoss : 1.629\n",
            "Valid Accuracy : 0.176\n"
          ]
        },
        {
          "output_type": "stream",
          "name": "stderr",
          "text": [
            "100%|██████████| 22/22 [00:05<00:00,  3.82it/s]\n"
          ]
        },
        {
          "output_type": "stream",
          "name": "stdout",
          "text": [
            "Train CrossEntropyLoss : 1.625\n",
            "Valid CrossEntropyLoss : 1.628\n",
            "Valid Accuracy : 0.177\n"
          ]
        },
        {
          "output_type": "stream",
          "name": "stderr",
          "text": [
            "100%|██████████| 22/22 [00:03<00:00,  5.65it/s]\n"
          ]
        },
        {
          "output_type": "stream",
          "name": "stdout",
          "text": [
            "Train CrossEntropyLoss : 1.624\n",
            "Valid CrossEntropyLoss : 1.628\n",
            "Valid Accuracy : 0.177\n"
          ]
        },
        {
          "output_type": "stream",
          "name": "stderr",
          "text": [
            "100%|██████████| 22/22 [00:03<00:00,  5.67it/s]\n"
          ]
        },
        {
          "output_type": "stream",
          "name": "stdout",
          "text": [
            "Train CrossEntropyLoss : 1.624\n",
            "Valid CrossEntropyLoss : 1.627\n",
            "Valid Accuracy : 0.177\n"
          ]
        },
        {
          "output_type": "stream",
          "name": "stderr",
          "text": [
            "100%|██████████| 22/22 [00:03<00:00,  5.69it/s]\n"
          ]
        },
        {
          "output_type": "stream",
          "name": "stdout",
          "text": [
            "Train CrossEntropyLoss : 1.623\n",
            "Valid CrossEntropyLoss : 1.627\n",
            "Valid Accuracy : 0.175\n"
          ]
        },
        {
          "output_type": "stream",
          "name": "stderr",
          "text": [
            "100%|██████████| 22/22 [00:03<00:00,  5.56it/s]\n"
          ]
        },
        {
          "output_type": "stream",
          "name": "stdout",
          "text": [
            "Train CrossEntropyLoss : 1.609\n",
            "Valid CrossEntropyLoss : 1.615\n",
            "Valid Accuracy : 0.213\n"
          ]
        },
        {
          "output_type": "stream",
          "name": "stderr",
          "text": [
            "100%|██████████| 22/22 [00:03<00:00,  5.72it/s]\n"
          ]
        },
        {
          "output_type": "stream",
          "name": "stdout",
          "text": [
            "Train CrossEntropyLoss : 1.609\n",
            "Valid CrossEntropyLoss : 1.615\n",
            "Valid Accuracy : 0.211\n"
          ]
        },
        {
          "output_type": "stream",
          "name": "stderr",
          "text": [
            "100%|██████████| 22/22 [00:03<00:00,  5.76it/s]\n"
          ]
        },
        {
          "output_type": "stream",
          "name": "stdout",
          "text": [
            "Train CrossEntropyLoss : 1.608\n",
            "Valid CrossEntropyLoss : 1.614\n",
            "Valid Accuracy : 0.212\n"
          ]
        },
        {
          "output_type": "stream",
          "name": "stderr",
          "text": [
            "100%|██████████| 22/22 [00:03<00:00,  5.71it/s]\n"
          ]
        },
        {
          "output_type": "stream",
          "name": "stdout",
          "text": [
            "Train CrossEntropyLoss : 1.608\n",
            "Valid CrossEntropyLoss : 1.614\n",
            "Valid Accuracy : 0.214\n"
          ]
        },
        {
          "output_type": "stream",
          "name": "stderr",
          "text": [
            "100%|██████████| 22/22 [00:03<00:00,  5.72it/s]\n"
          ]
        },
        {
          "output_type": "stream",
          "name": "stdout",
          "text": [
            "Train CrossEntropyLoss : 1.608\n",
            "Valid CrossEntropyLoss : 1.613\n",
            "Valid Accuracy : 0.214\n"
          ]
        },
        {
          "output_type": "stream",
          "name": "stderr",
          "text": [
            "100%|██████████| 22/22 [00:03<00:00,  5.64it/s]\n"
          ]
        },
        {
          "output_type": "stream",
          "name": "stdout",
          "text": [
            "Train CrossEntropyLoss : 1.607\n",
            "Valid CrossEntropyLoss : 1.613\n",
            "Valid Accuracy : 0.215\n"
          ]
        },
        {
          "output_type": "stream",
          "name": "stderr",
          "text": [
            "100%|██████████| 22/22 [00:03<00:00,  5.73it/s]\n"
          ]
        },
        {
          "output_type": "stream",
          "name": "stdout",
          "text": [
            "Train CrossEntropyLoss : 1.607\n",
            "Valid CrossEntropyLoss : 1.613\n",
            "Valid Accuracy : 0.216\n"
          ]
        },
        {
          "output_type": "stream",
          "name": "stderr",
          "text": [
            "100%|██████████| 22/22 [00:03<00:00,  5.72it/s]\n"
          ]
        },
        {
          "output_type": "stream",
          "name": "stdout",
          "text": [
            "Train CrossEntropyLoss : 1.606\n",
            "Valid CrossEntropyLoss : 1.612\n",
            "Valid Accuracy : 0.217\n"
          ]
        },
        {
          "output_type": "stream",
          "name": "stderr",
          "text": [
            "100%|██████████| 22/22 [00:03<00:00,  5.58it/s]\n"
          ]
        },
        {
          "output_type": "stream",
          "name": "stdout",
          "text": [
            "Train CrossEntropyLoss : 1.621\n",
            "Valid CrossEntropyLoss : 1.622\n",
            "Valid Accuracy : 0.232\n"
          ]
        },
        {
          "output_type": "stream",
          "name": "stderr",
          "text": [
            "100%|██████████| 22/22 [00:04<00:00,  4.74it/s]\n"
          ]
        },
        {
          "output_type": "stream",
          "name": "stdout",
          "text": [
            "Train CrossEntropyLoss : 1.621\n",
            "Valid CrossEntropyLoss : 1.621\n",
            "Valid Accuracy : 0.232\n"
          ]
        },
        {
          "output_type": "stream",
          "name": "stderr",
          "text": [
            "100%|██████████| 22/22 [00:03<00:00,  5.76it/s]\n"
          ]
        },
        {
          "output_type": "stream",
          "name": "stdout",
          "text": [
            "Train CrossEntropyLoss : 1.620\n",
            "Valid CrossEntropyLoss : 1.621\n",
            "Valid Accuracy : 0.232\n"
          ]
        },
        {
          "output_type": "stream",
          "name": "stderr",
          "text": [
            "100%|██████████| 22/22 [00:03<00:00,  5.74it/s]\n"
          ]
        },
        {
          "output_type": "stream",
          "name": "stdout",
          "text": [
            "Train CrossEntropyLoss : 1.619\n",
            "Valid CrossEntropyLoss : 1.620\n",
            "Valid Accuracy : 0.234\n"
          ]
        },
        {
          "output_type": "stream",
          "name": "stderr",
          "text": [
            "100%|██████████| 22/22 [00:03<00:00,  5.77it/s]\n"
          ]
        },
        {
          "output_type": "stream",
          "name": "stdout",
          "text": [
            "Train CrossEntropyLoss : 1.618\n",
            "Valid CrossEntropyLoss : 1.619\n",
            "Valid Accuracy : 0.234\n"
          ]
        },
        {
          "output_type": "stream",
          "name": "stderr",
          "text": [
            "100%|██████████| 22/22 [00:03<00:00,  5.67it/s]\n"
          ]
        },
        {
          "output_type": "stream",
          "name": "stdout",
          "text": [
            "Train CrossEntropyLoss : 1.618\n",
            "Valid CrossEntropyLoss : 1.619\n",
            "Valid Accuracy : 0.235\n"
          ]
        },
        {
          "output_type": "stream",
          "name": "stderr",
          "text": [
            "100%|██████████| 22/22 [00:03<00:00,  5.72it/s]\n"
          ]
        },
        {
          "output_type": "stream",
          "name": "stdout",
          "text": [
            "Train CrossEntropyLoss : 1.617\n",
            "Valid CrossEntropyLoss : 1.618\n",
            "Valid Accuracy : 0.236\n"
          ]
        },
        {
          "output_type": "stream",
          "name": "stderr",
          "text": [
            "100%|██████████| 22/22 [00:03<00:00,  5.73it/s]\n"
          ]
        },
        {
          "output_type": "stream",
          "name": "stdout",
          "text": [
            "Train CrossEntropyLoss : 1.616\n",
            "Valid CrossEntropyLoss : 1.618\n",
            "Valid Accuracy : 0.236\n"
          ]
        },
        {
          "output_type": "stream",
          "name": "stderr",
          "text": [
            "100%|██████████| 22/22 [00:03<00:00,  5.67it/s]\n"
          ]
        },
        {
          "output_type": "stream",
          "name": "stdout",
          "text": [
            "Train CrossEntropyLoss : 1.614\n",
            "Valid CrossEntropyLoss : 1.610\n",
            "Valid Accuracy : 0.181\n"
          ]
        },
        {
          "output_type": "stream",
          "name": "stderr",
          "text": [
            "100%|██████████| 22/22 [00:03<00:00,  5.84it/s]\n"
          ]
        },
        {
          "output_type": "stream",
          "name": "stdout",
          "text": [
            "Train CrossEntropyLoss : 1.614\n",
            "Valid CrossEntropyLoss : 1.610\n",
            "Valid Accuracy : 0.181\n"
          ]
        },
        {
          "output_type": "stream",
          "name": "stderr",
          "text": [
            "100%|██████████| 22/22 [00:03<00:00,  5.79it/s]\n"
          ]
        },
        {
          "output_type": "stream",
          "name": "stdout",
          "text": [
            "Train CrossEntropyLoss : 1.613\n",
            "Valid CrossEntropyLoss : 1.610\n",
            "Valid Accuracy : 0.182\n"
          ]
        },
        {
          "output_type": "stream",
          "name": "stderr",
          "text": [
            "100%|██████████| 22/22 [00:03<00:00,  5.82it/s]\n"
          ]
        },
        {
          "output_type": "stream",
          "name": "stdout",
          "text": [
            "Train CrossEntropyLoss : 1.613\n",
            "Valid CrossEntropyLoss : 1.609\n",
            "Valid Accuracy : 0.182\n"
          ]
        },
        {
          "output_type": "stream",
          "name": "stderr",
          "text": [
            "100%|██████████| 22/22 [00:03<00:00,  5.75it/s]\n"
          ]
        },
        {
          "output_type": "stream",
          "name": "stdout",
          "text": [
            "Train CrossEntropyLoss : 1.613\n",
            "Valid CrossEntropyLoss : 1.609\n",
            "Valid Accuracy : 0.184\n"
          ]
        },
        {
          "output_type": "stream",
          "name": "stderr",
          "text": [
            "100%|██████████| 22/22 [00:03<00:00,  5.76it/s]\n"
          ]
        },
        {
          "output_type": "stream",
          "name": "stdout",
          "text": [
            "Train CrossEntropyLoss : 1.612\n",
            "Valid CrossEntropyLoss : 1.609\n",
            "Valid Accuracy : 0.182\n"
          ]
        },
        {
          "output_type": "stream",
          "name": "stderr",
          "text": [
            "100%|██████████| 22/22 [00:03<00:00,  5.78it/s]\n"
          ]
        },
        {
          "output_type": "stream",
          "name": "stdout",
          "text": [
            "Train CrossEntropyLoss : 1.612\n",
            "Valid CrossEntropyLoss : 1.609\n",
            "Valid Accuracy : 0.184\n"
          ]
        },
        {
          "output_type": "stream",
          "name": "stderr",
          "text": [
            "100%|██████████| 22/22 [00:04<00:00,  5.30it/s]\n"
          ]
        },
        {
          "output_type": "stream",
          "name": "stdout",
          "text": [
            "Train CrossEntropyLoss : 1.612\n",
            "Valid CrossEntropyLoss : 1.608\n",
            "Valid Accuracy : 0.184\n"
          ]
        },
        {
          "output_type": "stream",
          "name": "stderr",
          "text": [
            "100%|██████████| 22/22 [00:03<00:00,  5.66it/s]\n"
          ]
        },
        {
          "output_type": "stream",
          "name": "stdout",
          "text": [
            "Train CrossEntropyLoss : 1.623\n",
            "Valid CrossEntropyLoss : 1.615\n",
            "Valid Accuracy : 0.190\n"
          ]
        },
        {
          "output_type": "stream",
          "name": "stderr",
          "text": [
            "100%|██████████| 22/22 [00:03<00:00,  5.79it/s]\n"
          ]
        },
        {
          "output_type": "stream",
          "name": "stdout",
          "text": [
            "Train CrossEntropyLoss : 1.623\n",
            "Valid CrossEntropyLoss : 1.615\n",
            "Valid Accuracy : 0.191\n"
          ]
        },
        {
          "output_type": "stream",
          "name": "stderr",
          "text": [
            "100%|██████████| 22/22 [00:03<00:00,  5.78it/s]\n"
          ]
        },
        {
          "output_type": "stream",
          "name": "stdout",
          "text": [
            "Train CrossEntropyLoss : 1.622\n",
            "Valid CrossEntropyLoss : 1.614\n",
            "Valid Accuracy : 0.191\n"
          ]
        },
        {
          "output_type": "stream",
          "name": "stderr",
          "text": [
            "100%|██████████| 22/22 [00:03<00:00,  5.78it/s]\n"
          ]
        },
        {
          "output_type": "stream",
          "name": "stdout",
          "text": [
            "Train CrossEntropyLoss : 1.621\n",
            "Valid CrossEntropyLoss : 1.614\n",
            "Valid Accuracy : 0.191\n"
          ]
        },
        {
          "output_type": "stream",
          "name": "stderr",
          "text": [
            "100%|██████████| 22/22 [00:03<00:00,  5.77it/s]\n"
          ]
        },
        {
          "output_type": "stream",
          "name": "stdout",
          "text": [
            "Train CrossEntropyLoss : 1.621\n",
            "Valid CrossEntropyLoss : 1.613\n",
            "Valid Accuracy : 0.191\n"
          ]
        },
        {
          "output_type": "stream",
          "name": "stderr",
          "text": [
            "100%|██████████| 22/22 [00:03<00:00,  5.79it/s]\n"
          ]
        },
        {
          "output_type": "stream",
          "name": "stdout",
          "text": [
            "Train CrossEntropyLoss : 1.620\n",
            "Valid CrossEntropyLoss : 1.613\n",
            "Valid Accuracy : 0.193\n"
          ]
        },
        {
          "output_type": "stream",
          "name": "stderr",
          "text": [
            "100%|██████████| 22/22 [00:03<00:00,  5.77it/s]\n"
          ]
        },
        {
          "output_type": "stream",
          "name": "stdout",
          "text": [
            "Train CrossEntropyLoss : 1.620\n",
            "Valid CrossEntropyLoss : 1.612\n",
            "Valid Accuracy : 0.193\n"
          ]
        },
        {
          "output_type": "stream",
          "name": "stderr",
          "text": [
            "100%|██████████| 22/22 [00:03<00:00,  5.77it/s]\n"
          ]
        },
        {
          "output_type": "stream",
          "name": "stdout",
          "text": [
            "Train CrossEntropyLoss : 1.619\n",
            "Valid CrossEntropyLoss : 1.612\n",
            "Valid Accuracy : 0.200\n"
          ]
        },
        {
          "output_type": "stream",
          "name": "stderr",
          "text": [
            "100%|██████████| 22/22 [00:03<00:00,  5.65it/s]\n"
          ]
        },
        {
          "output_type": "stream",
          "name": "stdout",
          "text": [
            "Train CrossEntropyLoss : 1.626\n",
            "Valid CrossEntropyLoss : 1.629\n",
            "Valid Accuracy : 0.196\n"
          ]
        },
        {
          "output_type": "stream",
          "name": "stderr",
          "text": [
            "100%|██████████| 22/22 [00:03<00:00,  5.70it/s]\n"
          ]
        },
        {
          "output_type": "stream",
          "name": "stdout",
          "text": [
            "Train CrossEntropyLoss : 1.622\n",
            "Valid CrossEntropyLoss : 1.626\n",
            "Valid Accuracy : 0.203\n"
          ]
        },
        {
          "output_type": "stream",
          "name": "stderr",
          "text": [
            "100%|██████████| 22/22 [00:03<00:00,  5.68it/s]\n"
          ]
        },
        {
          "output_type": "stream",
          "name": "stdout",
          "text": [
            "Train CrossEntropyLoss : 1.618\n",
            "Valid CrossEntropyLoss : 1.624\n",
            "Valid Accuracy : 0.205\n"
          ]
        },
        {
          "output_type": "stream",
          "name": "stderr",
          "text": [
            "100%|██████████| 22/22 [00:03<00:00,  5.77it/s]\n"
          ]
        },
        {
          "output_type": "stream",
          "name": "stdout",
          "text": [
            "Train CrossEntropyLoss : 1.615\n",
            "Valid CrossEntropyLoss : 1.621\n",
            "Valid Accuracy : 0.200\n"
          ]
        },
        {
          "output_type": "stream",
          "name": "stderr",
          "text": [
            "100%|██████████| 22/22 [00:03<00:00,  5.76it/s]\n"
          ]
        },
        {
          "output_type": "stream",
          "name": "stdout",
          "text": [
            "Train CrossEntropyLoss : 1.613\n",
            "Valid CrossEntropyLoss : 1.620\n",
            "Valid Accuracy : 0.200\n"
          ]
        },
        {
          "output_type": "stream",
          "name": "stderr",
          "text": [
            "100%|██████████| 22/22 [00:03<00:00,  5.70it/s]\n"
          ]
        },
        {
          "output_type": "stream",
          "name": "stdout",
          "text": [
            "Train CrossEntropyLoss : 1.611\n",
            "Valid CrossEntropyLoss : 1.618\n",
            "Valid Accuracy : 0.200\n"
          ]
        },
        {
          "output_type": "stream",
          "name": "stderr",
          "text": [
            "100%|██████████| 22/22 [00:03<00:00,  5.74it/s]\n"
          ]
        },
        {
          "output_type": "stream",
          "name": "stdout",
          "text": [
            "Train CrossEntropyLoss : 1.608\n",
            "Valid CrossEntropyLoss : 1.616\n",
            "Valid Accuracy : 0.203\n"
          ]
        },
        {
          "output_type": "stream",
          "name": "stderr",
          "text": [
            "100%|██████████| 22/22 [00:03<00:00,  5.66it/s]\n"
          ]
        },
        {
          "output_type": "stream",
          "name": "stdout",
          "text": [
            "Train CrossEntropyLoss : 1.607\n",
            "Valid CrossEntropyLoss : 1.615\n",
            "Valid Accuracy : 0.205\n"
          ]
        },
        {
          "output_type": "stream",
          "name": "stderr",
          "text": [
            "100%|██████████| 22/22 [00:03<00:00,  5.59it/s]\n"
          ]
        },
        {
          "output_type": "stream",
          "name": "stdout",
          "text": [
            "Train CrossEntropyLoss : 1.611\n",
            "Valid CrossEntropyLoss : 1.605\n",
            "Valid Accuracy : 0.208\n"
          ]
        },
        {
          "output_type": "stream",
          "name": "stderr",
          "text": [
            "100%|██████████| 22/22 [00:03<00:00,  5.75it/s]\n"
          ]
        },
        {
          "output_type": "stream",
          "name": "stdout",
          "text": [
            "Train CrossEntropyLoss : 1.609\n",
            "Valid CrossEntropyLoss : 1.604\n",
            "Valid Accuracy : 0.215\n"
          ]
        },
        {
          "output_type": "stream",
          "name": "stderr",
          "text": [
            "100%|██████████| 22/22 [00:03<00:00,  5.81it/s]\n"
          ]
        },
        {
          "output_type": "stream",
          "name": "stdout",
          "text": [
            "Train CrossEntropyLoss : 1.607\n",
            "Valid CrossEntropyLoss : 1.603\n",
            "Valid Accuracy : 0.218\n"
          ]
        },
        {
          "output_type": "stream",
          "name": "stderr",
          "text": [
            "100%|██████████| 22/22 [00:03<00:00,  5.77it/s]\n"
          ]
        },
        {
          "output_type": "stream",
          "name": "stdout",
          "text": [
            "Train CrossEntropyLoss : 1.606\n",
            "Valid CrossEntropyLoss : 1.602\n",
            "Valid Accuracy : 0.220\n"
          ]
        },
        {
          "output_type": "stream",
          "name": "stderr",
          "text": [
            "100%|██████████| 22/22 [00:03<00:00,  5.76it/s]\n"
          ]
        },
        {
          "output_type": "stream",
          "name": "stdout",
          "text": [
            "Train CrossEntropyLoss : 1.605\n",
            "Valid CrossEntropyLoss : 1.601\n",
            "Valid Accuracy : 0.225\n"
          ]
        },
        {
          "output_type": "stream",
          "name": "stderr",
          "text": [
            "100%|██████████| 22/22 [00:03<00:00,  5.76it/s]\n"
          ]
        },
        {
          "output_type": "stream",
          "name": "stdout",
          "text": [
            "Train CrossEntropyLoss : 1.603\n",
            "Valid CrossEntropyLoss : 1.600\n",
            "Valid Accuracy : 0.227\n"
          ]
        },
        {
          "output_type": "stream",
          "name": "stderr",
          "text": [
            "100%|██████████| 22/22 [00:03<00:00,  5.76it/s]\n"
          ]
        },
        {
          "output_type": "stream",
          "name": "stdout",
          "text": [
            "Train CrossEntropyLoss : 1.602\n",
            "Valid CrossEntropyLoss : 1.599\n",
            "Valid Accuracy : 0.230\n"
          ]
        },
        {
          "output_type": "stream",
          "name": "stderr",
          "text": [
            "100%|██████████| 22/22 [00:03<00:00,  5.72it/s]\n"
          ]
        },
        {
          "output_type": "stream",
          "name": "stdout",
          "text": [
            "Train CrossEntropyLoss : 1.601\n",
            "Valid CrossEntropyLoss : 1.598\n",
            "Valid Accuracy : 0.232\n"
          ]
        },
        {
          "output_type": "stream",
          "name": "stderr",
          "text": [
            "100%|██████████| 22/22 [00:03<00:00,  5.58it/s]\n"
          ]
        },
        {
          "output_type": "stream",
          "name": "stdout",
          "text": [
            "Train CrossEntropyLoss : 1.623\n",
            "Valid CrossEntropyLoss : 1.617\n",
            "Valid Accuracy : 0.181\n"
          ]
        },
        {
          "output_type": "stream",
          "name": "stderr",
          "text": [
            "100%|██████████| 22/22 [00:03<00:00,  5.76it/s]\n"
          ]
        },
        {
          "output_type": "stream",
          "name": "stdout",
          "text": [
            "Train CrossEntropyLoss : 1.621\n",
            "Valid CrossEntropyLoss : 1.616\n",
            "Valid Accuracy : 0.182\n"
          ]
        },
        {
          "output_type": "stream",
          "name": "stderr",
          "text": [
            "100%|██████████| 22/22 [00:03<00:00,  5.75it/s]\n"
          ]
        },
        {
          "output_type": "stream",
          "name": "stdout",
          "text": [
            "Train CrossEntropyLoss : 1.618\n",
            "Valid CrossEntropyLoss : 1.614\n",
            "Valid Accuracy : 0.183\n"
          ]
        },
        {
          "output_type": "stream",
          "name": "stderr",
          "text": [
            "100%|██████████| 22/22 [00:03<00:00,  5.72it/s]\n"
          ]
        },
        {
          "output_type": "stream",
          "name": "stdout",
          "text": [
            "Train CrossEntropyLoss : 1.617\n",
            "Valid CrossEntropyLoss : 1.613\n",
            "Valid Accuracy : 0.186\n"
          ]
        },
        {
          "output_type": "stream",
          "name": "stderr",
          "text": [
            "100%|██████████| 22/22 [00:03<00:00,  5.74it/s]\n"
          ]
        },
        {
          "output_type": "stream",
          "name": "stdout",
          "text": [
            "Train CrossEntropyLoss : 1.615\n",
            "Valid CrossEntropyLoss : 1.611\n",
            "Valid Accuracy : 0.191\n"
          ]
        },
        {
          "output_type": "stream",
          "name": "stderr",
          "text": [
            "100%|██████████| 22/22 [00:03<00:00,  5.72it/s]\n"
          ]
        },
        {
          "output_type": "stream",
          "name": "stdout",
          "text": [
            "Train CrossEntropyLoss : 1.613\n",
            "Valid CrossEntropyLoss : 1.610\n",
            "Valid Accuracy : 0.191\n"
          ]
        },
        {
          "output_type": "stream",
          "name": "stderr",
          "text": [
            "100%|██████████| 22/22 [00:03<00:00,  5.72it/s]\n"
          ]
        },
        {
          "output_type": "stream",
          "name": "stdout",
          "text": [
            "Train CrossEntropyLoss : 1.612\n",
            "Valid CrossEntropyLoss : 1.609\n",
            "Valid Accuracy : 0.194\n"
          ]
        },
        {
          "output_type": "stream",
          "name": "stderr",
          "text": [
            "100%|██████████| 22/22 [00:03<00:00,  5.74it/s]\n"
          ]
        },
        {
          "output_type": "stream",
          "name": "stdout",
          "text": [
            "Train CrossEntropyLoss : 1.610\n",
            "Valid CrossEntropyLoss : 1.608\n",
            "Valid Accuracy : 0.198\n"
          ]
        },
        {
          "output_type": "stream",
          "name": "stderr",
          "text": [
            "100%|██████████| 22/22 [00:03<00:00,  5.56it/s]\n"
          ]
        },
        {
          "output_type": "stream",
          "name": "stdout",
          "text": [
            "Train CrossEntropyLoss : 1.628\n",
            "Valid CrossEntropyLoss : 1.634\n",
            "Valid Accuracy : 0.209\n"
          ]
        },
        {
          "output_type": "stream",
          "name": "stderr",
          "text": [
            "100%|██████████| 22/22 [00:03<00:00,  5.77it/s]\n"
          ]
        },
        {
          "output_type": "stream",
          "name": "stdout",
          "text": [
            "Train CrossEntropyLoss : 1.623\n",
            "Valid CrossEntropyLoss : 1.630\n",
            "Valid Accuracy : 0.209\n"
          ]
        },
        {
          "output_type": "stream",
          "name": "stderr",
          "text": [
            "100%|██████████| 22/22 [00:03<00:00,  5.75it/s]\n"
          ]
        },
        {
          "output_type": "stream",
          "name": "stdout",
          "text": [
            "Train CrossEntropyLoss : 1.619\n",
            "Valid CrossEntropyLoss : 1.626\n",
            "Valid Accuracy : 0.210\n"
          ]
        },
        {
          "output_type": "stream",
          "name": "stderr",
          "text": [
            "100%|██████████| 22/22 [00:03<00:00,  5.76it/s]\n"
          ]
        },
        {
          "output_type": "stream",
          "name": "stdout",
          "text": [
            "Train CrossEntropyLoss : 1.615\n",
            "Valid CrossEntropyLoss : 1.622\n",
            "Valid Accuracy : 0.212\n"
          ]
        },
        {
          "output_type": "stream",
          "name": "stderr",
          "text": [
            "100%|██████████| 22/22 [00:03<00:00,  5.73it/s]\n"
          ]
        },
        {
          "output_type": "stream",
          "name": "stdout",
          "text": [
            "Train CrossEntropyLoss : 1.612\n",
            "Valid CrossEntropyLoss : 1.619\n",
            "Valid Accuracy : 0.214\n"
          ]
        },
        {
          "output_type": "stream",
          "name": "stderr",
          "text": [
            "100%|██████████| 22/22 [00:03<00:00,  5.78it/s]\n"
          ]
        },
        {
          "output_type": "stream",
          "name": "stdout",
          "text": [
            "Train CrossEntropyLoss : 1.609\n",
            "Valid CrossEntropyLoss : 1.617\n",
            "Valid Accuracy : 0.216\n"
          ]
        },
        {
          "output_type": "stream",
          "name": "stderr",
          "text": [
            "100%|██████████| 22/22 [00:03<00:00,  5.78it/s]\n"
          ]
        },
        {
          "output_type": "stream",
          "name": "stdout",
          "text": [
            "Train CrossEntropyLoss : 1.607\n",
            "Valid CrossEntropyLoss : 1.614\n",
            "Valid Accuracy : 0.220\n"
          ]
        },
        {
          "output_type": "stream",
          "name": "stderr",
          "text": [
            "100%|██████████| 22/22 [00:03<00:00,  5.78it/s]\n"
          ]
        },
        {
          "output_type": "stream",
          "name": "stdout",
          "text": [
            "Train CrossEntropyLoss : 1.605\n",
            "Valid CrossEntropyLoss : 1.612\n",
            "Valid Accuracy : 0.223\n"
          ]
        },
        {
          "output_type": "stream",
          "name": "stderr",
          "text": [
            "100%|██████████| 22/22 [00:03<00:00,  5.60it/s]\n"
          ]
        },
        {
          "output_type": "stream",
          "name": "stdout",
          "text": [
            "Train CrossEntropyLoss : 1.613\n",
            "Valid CrossEntropyLoss : 1.607\n",
            "Valid Accuracy : 0.187\n"
          ]
        },
        {
          "output_type": "stream",
          "name": "stderr",
          "text": [
            "100%|██████████| 22/22 [00:03<00:00,  5.74it/s]\n"
          ]
        },
        {
          "output_type": "stream",
          "name": "stdout",
          "text": [
            "Train CrossEntropyLoss : 1.611\n",
            "Valid CrossEntropyLoss : 1.606\n",
            "Valid Accuracy : 0.186\n"
          ]
        },
        {
          "output_type": "stream",
          "name": "stderr",
          "text": [
            "100%|██████████| 22/22 [00:03<00:00,  5.73it/s]\n"
          ]
        },
        {
          "output_type": "stream",
          "name": "stdout",
          "text": [
            "Train CrossEntropyLoss : 1.609\n",
            "Valid CrossEntropyLoss : 1.604\n",
            "Valid Accuracy : 0.192\n"
          ]
        },
        {
          "output_type": "stream",
          "name": "stderr",
          "text": [
            "100%|██████████| 22/22 [00:03<00:00,  5.67it/s]\n"
          ]
        },
        {
          "output_type": "stream",
          "name": "stdout",
          "text": [
            "Train CrossEntropyLoss : 1.607\n",
            "Valid CrossEntropyLoss : 1.603\n",
            "Valid Accuracy : 0.198\n"
          ]
        },
        {
          "output_type": "stream",
          "name": "stderr",
          "text": [
            "100%|██████████| 22/22 [00:03<00:00,  5.72it/s]\n"
          ]
        },
        {
          "output_type": "stream",
          "name": "stdout",
          "text": [
            "Train CrossEntropyLoss : 1.606\n",
            "Valid CrossEntropyLoss : 1.602\n",
            "Valid Accuracy : 0.201\n"
          ]
        },
        {
          "output_type": "stream",
          "name": "stderr",
          "text": [
            "100%|██████████| 22/22 [00:03<00:00,  5.71it/s]\n"
          ]
        },
        {
          "output_type": "stream",
          "name": "stdout",
          "text": [
            "Train CrossEntropyLoss : 1.604\n",
            "Valid CrossEntropyLoss : 1.601\n",
            "Valid Accuracy : 0.203\n"
          ]
        },
        {
          "output_type": "stream",
          "name": "stderr",
          "text": [
            "100%|██████████| 22/22 [00:04<00:00,  4.58it/s]\n"
          ]
        },
        {
          "output_type": "stream",
          "name": "stdout",
          "text": [
            "Train CrossEntropyLoss : 1.603\n",
            "Valid CrossEntropyLoss : 1.600\n",
            "Valid Accuracy : 0.199\n"
          ]
        },
        {
          "output_type": "stream",
          "name": "stderr",
          "text": [
            "100%|██████████| 22/22 [00:03<00:00,  5.72it/s]\n"
          ]
        },
        {
          "output_type": "stream",
          "name": "stdout",
          "text": [
            "Train CrossEntropyLoss : 1.601\n",
            "Valid CrossEntropyLoss : 1.600\n",
            "Valid Accuracy : 0.201\n"
          ]
        },
        {
          "output_type": "stream",
          "name": "stderr",
          "text": [
            "100%|██████████| 22/22 [00:03<00:00,  5.62it/s]\n"
          ]
        },
        {
          "output_type": "stream",
          "name": "stdout",
          "text": [
            "Train CrossEntropyLoss : 1.610\n",
            "Valid CrossEntropyLoss : 1.603\n",
            "Valid Accuracy : 0.211\n"
          ]
        },
        {
          "output_type": "stream",
          "name": "stderr",
          "text": [
            "100%|██████████| 22/22 [00:03<00:00,  5.67it/s]\n"
          ]
        },
        {
          "output_type": "stream",
          "name": "stdout",
          "text": [
            "Train CrossEntropyLoss : 1.602\n",
            "Valid CrossEntropyLoss : 1.598\n",
            "Valid Accuracy : 0.235\n"
          ]
        },
        {
          "output_type": "stream",
          "name": "stderr",
          "text": [
            "100%|██████████| 22/22 [00:03<00:00,  5.64it/s]\n"
          ]
        },
        {
          "output_type": "stream",
          "name": "stdout",
          "text": [
            "Train CrossEntropyLoss : 1.596\n",
            "Valid CrossEntropyLoss : 1.594\n",
            "Valid Accuracy : 0.247\n"
          ]
        },
        {
          "output_type": "stream",
          "name": "stderr",
          "text": [
            "100%|██████████| 22/22 [00:03<00:00,  5.67it/s]\n"
          ]
        },
        {
          "output_type": "stream",
          "name": "stdout",
          "text": [
            "Train CrossEntropyLoss : 1.591\n",
            "Valid CrossEntropyLoss : 1.591\n",
            "Valid Accuracy : 0.263\n"
          ]
        },
        {
          "output_type": "stream",
          "name": "stderr",
          "text": [
            "100%|██████████| 22/22 [00:03<00:00,  5.70it/s]\n"
          ]
        },
        {
          "output_type": "stream",
          "name": "stdout",
          "text": [
            "Train CrossEntropyLoss : 1.587\n",
            "Valid CrossEntropyLoss : 1.588\n",
            "Valid Accuracy : 0.272\n"
          ]
        },
        {
          "output_type": "stream",
          "name": "stderr",
          "text": [
            "100%|██████████| 22/22 [00:03<00:00,  5.75it/s]\n"
          ]
        },
        {
          "output_type": "stream",
          "name": "stdout",
          "text": [
            "Train CrossEntropyLoss : 1.583\n",
            "Valid CrossEntropyLoss : 1.585\n",
            "Valid Accuracy : 0.275\n"
          ]
        },
        {
          "output_type": "stream",
          "name": "stderr",
          "text": [
            "100%|██████████| 22/22 [00:03<00:00,  5.83it/s]\n"
          ]
        },
        {
          "output_type": "stream",
          "name": "stdout",
          "text": [
            "Train CrossEntropyLoss : 1.579\n",
            "Valid CrossEntropyLoss : 1.582\n",
            "Valid Accuracy : 0.284\n"
          ]
        },
        {
          "output_type": "stream",
          "name": "stderr",
          "text": [
            "100%|██████████| 22/22 [00:03<00:00,  5.71it/s]\n"
          ]
        },
        {
          "output_type": "stream",
          "name": "stdout",
          "text": [
            "Train CrossEntropyLoss : 1.576\n",
            "Valid CrossEntropyLoss : 1.579\n",
            "Valid Accuracy : 0.293\n"
          ]
        },
        {
          "output_type": "stream",
          "name": "stderr",
          "text": [
            "100%|██████████| 22/22 [00:04<00:00,  5.47it/s]\n"
          ]
        },
        {
          "output_type": "stream",
          "name": "stdout",
          "text": [
            "Train CrossEntropyLoss : 1.615\n",
            "Valid CrossEntropyLoss : 1.621\n",
            "Valid Accuracy : 0.177\n"
          ]
        },
        {
          "output_type": "stream",
          "name": "stderr",
          "text": [
            "100%|██████████| 22/22 [00:03<00:00,  5.62it/s]\n"
          ]
        },
        {
          "output_type": "stream",
          "name": "stdout",
          "text": [
            "Train CrossEntropyLoss : 1.607\n",
            "Valid CrossEntropyLoss : 1.615\n",
            "Valid Accuracy : 0.186\n"
          ]
        },
        {
          "output_type": "stream",
          "name": "stderr",
          "text": [
            "100%|██████████| 22/22 [00:03<00:00,  5.58it/s]\n"
          ]
        },
        {
          "output_type": "stream",
          "name": "stdout",
          "text": [
            "Train CrossEntropyLoss : 1.601\n",
            "Valid CrossEntropyLoss : 1.610\n",
            "Valid Accuracy : 0.197\n"
          ]
        },
        {
          "output_type": "stream",
          "name": "stderr",
          "text": [
            "100%|██████████| 22/22 [00:03<00:00,  5.60it/s]\n"
          ]
        },
        {
          "output_type": "stream",
          "name": "stdout",
          "text": [
            "Train CrossEntropyLoss : 1.595\n",
            "Valid CrossEntropyLoss : 1.605\n",
            "Valid Accuracy : 0.221\n"
          ]
        },
        {
          "output_type": "stream",
          "name": "stderr",
          "text": [
            "100%|██████████| 22/22 [00:03<00:00,  5.57it/s]\n"
          ]
        },
        {
          "output_type": "stream",
          "name": "stdout",
          "text": [
            "Train CrossEntropyLoss : 1.589\n",
            "Valid CrossEntropyLoss : 1.600\n",
            "Valid Accuracy : 0.233\n"
          ]
        },
        {
          "output_type": "stream",
          "name": "stderr",
          "text": [
            "100%|██████████| 22/22 [00:03<00:00,  5.59it/s]\n"
          ]
        },
        {
          "output_type": "stream",
          "name": "stdout",
          "text": [
            "Train CrossEntropyLoss : 1.584\n",
            "Valid CrossEntropyLoss : 1.595\n",
            "Valid Accuracy : 0.248\n"
          ]
        },
        {
          "output_type": "stream",
          "name": "stderr",
          "text": [
            "100%|██████████| 22/22 [00:03<00:00,  5.57it/s]\n"
          ]
        },
        {
          "output_type": "stream",
          "name": "stdout",
          "text": [
            "Train CrossEntropyLoss : 1.579\n",
            "Valid CrossEntropyLoss : 1.591\n",
            "Valid Accuracy : 0.255\n"
          ]
        },
        {
          "output_type": "stream",
          "name": "stderr",
          "text": [
            "100%|██████████| 22/22 [00:03<00:00,  5.56it/s]\n"
          ]
        },
        {
          "output_type": "stream",
          "name": "stdout",
          "text": [
            "Train CrossEntropyLoss : 1.574\n",
            "Valid CrossEntropyLoss : 1.587\n",
            "Valid Accuracy : 0.272\n"
          ]
        },
        {
          "output_type": "stream",
          "name": "stderr",
          "text": [
            "100%|██████████| 22/22 [00:04<00:00,  5.31it/s]\n"
          ]
        },
        {
          "output_type": "stream",
          "name": "stdout",
          "text": [
            "Train CrossEntropyLoss : 1.614\n",
            "Valid CrossEntropyLoss : 1.608\n",
            "Valid Accuracy : 0.190\n"
          ]
        },
        {
          "output_type": "stream",
          "name": "stderr",
          "text": [
            "100%|██████████| 22/22 [00:04<00:00,  5.43it/s]\n"
          ]
        },
        {
          "output_type": "stream",
          "name": "stdout",
          "text": [
            "Train CrossEntropyLoss : 1.604\n",
            "Valid CrossEntropyLoss : 1.602\n",
            "Valid Accuracy : 0.200\n"
          ]
        },
        {
          "output_type": "stream",
          "name": "stderr",
          "text": [
            "100%|██████████| 22/22 [00:04<00:00,  5.43it/s]\n"
          ]
        },
        {
          "output_type": "stream",
          "name": "stdout",
          "text": [
            "Train CrossEntropyLoss : 1.597\n",
            "Valid CrossEntropyLoss : 1.598\n",
            "Valid Accuracy : 0.226\n"
          ]
        },
        {
          "output_type": "stream",
          "name": "stderr",
          "text": [
            "100%|██████████| 22/22 [00:03<00:00,  5.53it/s]\n"
          ]
        },
        {
          "output_type": "stream",
          "name": "stdout",
          "text": [
            "Train CrossEntropyLoss : 1.591\n",
            "Valid CrossEntropyLoss : 1.595\n",
            "Valid Accuracy : 0.236\n"
          ]
        },
        {
          "output_type": "stream",
          "name": "stderr",
          "text": [
            "100%|██████████| 22/22 [00:04<00:00,  5.46it/s]\n"
          ]
        },
        {
          "output_type": "stream",
          "name": "stdout",
          "text": [
            "Train CrossEntropyLoss : 1.586\n",
            "Valid CrossEntropyLoss : 1.591\n",
            "Valid Accuracy : 0.253\n"
          ]
        },
        {
          "output_type": "stream",
          "name": "stderr",
          "text": [
            "100%|██████████| 22/22 [00:04<00:00,  5.41it/s]\n"
          ]
        },
        {
          "output_type": "stream",
          "name": "stdout",
          "text": [
            "Train CrossEntropyLoss : 1.582\n",
            "Valid CrossEntropyLoss : 1.588\n",
            "Valid Accuracy : 0.271\n"
          ]
        },
        {
          "output_type": "stream",
          "name": "stderr",
          "text": [
            "100%|██████████| 22/22 [00:04<00:00,  5.44it/s]\n"
          ]
        },
        {
          "output_type": "stream",
          "name": "stdout",
          "text": [
            "Train CrossEntropyLoss : 1.577\n",
            "Valid CrossEntropyLoss : 1.584\n",
            "Valid Accuracy : 0.288\n"
          ]
        },
        {
          "output_type": "stream",
          "name": "stderr",
          "text": [
            "100%|██████████| 22/22 [00:04<00:00,  5.40it/s]\n"
          ]
        },
        {
          "output_type": "stream",
          "name": "stdout",
          "text": [
            "Train CrossEntropyLoss : 1.573\n",
            "Valid CrossEntropyLoss : 1.581\n",
            "Valid Accuracy : 0.305\n"
          ]
        },
        {
          "output_type": "stream",
          "name": "stderr",
          "text": [
            "100%|██████████| 22/22 [00:04<00:00,  5.21it/s]\n"
          ]
        },
        {
          "output_type": "stream",
          "name": "stdout",
          "text": [
            "Train CrossEntropyLoss : 1.620\n",
            "Valid CrossEntropyLoss : 1.608\n",
            "Valid Accuracy : 0.247\n"
          ]
        },
        {
          "output_type": "stream",
          "name": "stderr",
          "text": [
            "100%|██████████| 22/22 [00:04<00:00,  5.39it/s]\n"
          ]
        },
        {
          "output_type": "stream",
          "name": "stdout",
          "text": [
            "Train CrossEntropyLoss : 1.599\n",
            "Valid CrossEntropyLoss : 1.600\n",
            "Valid Accuracy : 0.277\n"
          ]
        },
        {
          "output_type": "stream",
          "name": "stderr",
          "text": [
            "100%|██████████| 22/22 [00:04<00:00,  5.33it/s]\n"
          ]
        },
        {
          "output_type": "stream",
          "name": "stdout",
          "text": [
            "Train CrossEntropyLoss : 1.590\n",
            "Valid CrossEntropyLoss : 1.595\n",
            "Valid Accuracy : 0.294\n"
          ]
        },
        {
          "output_type": "stream",
          "name": "stderr",
          "text": [
            "100%|██████████| 22/22 [00:04<00:00,  5.38it/s]\n"
          ]
        },
        {
          "output_type": "stream",
          "name": "stdout",
          "text": [
            "Train CrossEntropyLoss : 1.584\n",
            "Valid CrossEntropyLoss : 1.591\n",
            "Valid Accuracy : 0.297\n"
          ]
        },
        {
          "output_type": "stream",
          "name": "stderr",
          "text": [
            "100%|██████████| 22/22 [00:04<00:00,  5.42it/s]\n"
          ]
        },
        {
          "output_type": "stream",
          "name": "stdout",
          "text": [
            "Train CrossEntropyLoss : 1.579\n",
            "Valid CrossEntropyLoss : 1.587\n",
            "Valid Accuracy : 0.313\n"
          ]
        },
        {
          "output_type": "stream",
          "name": "stderr",
          "text": [
            "100%|██████████| 22/22 [00:04<00:00,  5.40it/s]\n"
          ]
        },
        {
          "output_type": "stream",
          "name": "stdout",
          "text": [
            "Train CrossEntropyLoss : 1.575\n",
            "Valid CrossEntropyLoss : 1.583\n",
            "Valid Accuracy : 0.325\n"
          ]
        },
        {
          "output_type": "stream",
          "name": "stderr",
          "text": [
            "100%|██████████| 22/22 [00:04<00:00,  5.40it/s]\n"
          ]
        },
        {
          "output_type": "stream",
          "name": "stdout",
          "text": [
            "Train CrossEntropyLoss : 1.570\n",
            "Valid CrossEntropyLoss : 1.579\n",
            "Valid Accuracy : 0.337\n"
          ]
        },
        {
          "output_type": "stream",
          "name": "stderr",
          "text": [
            "100%|██████████| 22/22 [00:04<00:00,  5.47it/s]\n"
          ]
        },
        {
          "output_type": "stream",
          "name": "stdout",
          "text": [
            "Train CrossEntropyLoss : 1.566\n",
            "Valid CrossEntropyLoss : 1.575\n",
            "Valid Accuracy : 0.348\n"
          ]
        },
        {
          "output_type": "stream",
          "name": "stderr",
          "text": [
            "100%|██████████| 22/22 [00:04<00:00,  5.26it/s]\n"
          ]
        },
        {
          "output_type": "stream",
          "name": "stdout",
          "text": [
            "Train CrossEntropyLoss : 1.609\n",
            "Valid CrossEntropyLoss : 1.610\n",
            "Valid Accuracy : 0.219\n"
          ]
        },
        {
          "output_type": "stream",
          "name": "stderr",
          "text": [
            "100%|██████████| 22/22 [00:04<00:00,  5.43it/s]\n"
          ]
        },
        {
          "output_type": "stream",
          "name": "stdout",
          "text": [
            "Train CrossEntropyLoss : 1.599\n",
            "Valid CrossEntropyLoss : 1.604\n",
            "Valid Accuracy : 0.230\n"
          ]
        },
        {
          "output_type": "stream",
          "name": "stderr",
          "text": [
            "100%|██████████| 22/22 [00:04<00:00,  5.44it/s]\n"
          ]
        },
        {
          "output_type": "stream",
          "name": "stdout",
          "text": [
            "Train CrossEntropyLoss : 1.594\n",
            "Valid CrossEntropyLoss : 1.600\n",
            "Valid Accuracy : 0.237\n"
          ]
        },
        {
          "output_type": "stream",
          "name": "stderr",
          "text": [
            "100%|██████████| 22/22 [00:04<00:00,  5.43it/s]\n"
          ]
        },
        {
          "output_type": "stream",
          "name": "stdout",
          "text": [
            "Train CrossEntropyLoss : 1.589\n",
            "Valid CrossEntropyLoss : 1.597\n",
            "Valid Accuracy : 0.241\n"
          ]
        },
        {
          "output_type": "stream",
          "name": "stderr",
          "text": [
            "100%|██████████| 22/22 [00:04<00:00,  5.43it/s]\n"
          ]
        },
        {
          "output_type": "stream",
          "name": "stdout",
          "text": [
            "Train CrossEntropyLoss : 1.586\n",
            "Valid CrossEntropyLoss : 1.594\n",
            "Valid Accuracy : 0.252\n"
          ]
        },
        {
          "output_type": "stream",
          "name": "stderr",
          "text": [
            "100%|██████████| 22/22 [00:04<00:00,  5.43it/s]\n"
          ]
        },
        {
          "output_type": "stream",
          "name": "stdout",
          "text": [
            "Train CrossEntropyLoss : 1.582\n",
            "Valid CrossEntropyLoss : 1.591\n",
            "Valid Accuracy : 0.263\n"
          ]
        },
        {
          "output_type": "stream",
          "name": "stderr",
          "text": [
            "100%|██████████| 22/22 [00:04<00:00,  5.41it/s]\n"
          ]
        },
        {
          "output_type": "stream",
          "name": "stdout",
          "text": [
            "Train CrossEntropyLoss : 1.578\n",
            "Valid CrossEntropyLoss : 1.588\n",
            "Valid Accuracy : 0.276\n"
          ]
        },
        {
          "output_type": "stream",
          "name": "stderr",
          "text": [
            "100%|██████████| 22/22 [00:04<00:00,  5.48it/s]\n"
          ]
        },
        {
          "output_type": "stream",
          "name": "stdout",
          "text": [
            "Train CrossEntropyLoss : 1.575\n",
            "Valid CrossEntropyLoss : 1.585\n",
            "Valid Accuracy : 0.284\n"
          ]
        },
        {
          "output_type": "stream",
          "name": "stderr",
          "text": [
            "100%|██████████| 22/22 [00:04<00:00,  5.40it/s]\n"
          ]
        },
        {
          "output_type": "stream",
          "name": "stdout",
          "text": [
            "Train CrossEntropyLoss : 1.605\n",
            "Valid CrossEntropyLoss : 1.592\n",
            "Valid Accuracy : 0.250\n"
          ]
        },
        {
          "output_type": "stream",
          "name": "stderr",
          "text": [
            "100%|██████████| 22/22 [00:03<00:00,  5.56it/s]\n"
          ]
        },
        {
          "output_type": "stream",
          "name": "stdout",
          "text": [
            "Train CrossEntropyLoss : 1.581\n",
            "Valid CrossEntropyLoss : 1.574\n",
            "Valid Accuracy : 0.301\n"
          ]
        },
        {
          "output_type": "stream",
          "name": "stderr",
          "text": [
            "100%|██████████| 22/22 [00:03<00:00,  5.63it/s]\n"
          ]
        },
        {
          "output_type": "stream",
          "name": "stdout",
          "text": [
            "Train CrossEntropyLoss : 1.558\n",
            "Valid CrossEntropyLoss : 1.554\n",
            "Valid Accuracy : 0.359\n"
          ]
        },
        {
          "output_type": "stream",
          "name": "stderr",
          "text": [
            "100%|██████████| 22/22 [00:04<00:00,  5.50it/s]\n"
          ]
        },
        {
          "output_type": "stream",
          "name": "stdout",
          "text": [
            "Train CrossEntropyLoss : 1.534\n",
            "Valid CrossEntropyLoss : 1.533\n",
            "Valid Accuracy : 0.406\n"
          ]
        },
        {
          "output_type": "stream",
          "name": "stderr",
          "text": [
            "100%|██████████| 22/22 [00:03<00:00,  5.60it/s]\n"
          ]
        },
        {
          "output_type": "stream",
          "name": "stdout",
          "text": [
            "Train CrossEntropyLoss : 1.506\n",
            "Valid CrossEntropyLoss : 1.508\n",
            "Valid Accuracy : 0.458\n"
          ]
        },
        {
          "output_type": "stream",
          "name": "stderr",
          "text": [
            "100%|██████████| 22/22 [00:03<00:00,  5.64it/s]\n"
          ]
        },
        {
          "output_type": "stream",
          "name": "stdout",
          "text": [
            "Train CrossEntropyLoss : 1.471\n",
            "Valid CrossEntropyLoss : 1.478\n",
            "Valid Accuracy : 0.489\n"
          ]
        },
        {
          "output_type": "stream",
          "name": "stderr",
          "text": [
            "100%|██████████| 22/22 [00:03<00:00,  5.65it/s]\n"
          ]
        },
        {
          "output_type": "stream",
          "name": "stdout",
          "text": [
            "Train CrossEntropyLoss : 1.430\n",
            "Valid CrossEntropyLoss : 1.443\n",
            "Valid Accuracy : 0.506\n"
          ]
        },
        {
          "output_type": "stream",
          "name": "stderr",
          "text": [
            "100%|██████████| 22/22 [00:03<00:00,  5.64it/s]\n"
          ]
        },
        {
          "output_type": "stream",
          "name": "stdout",
          "text": [
            "Train CrossEntropyLoss : 1.381\n",
            "Valid CrossEntropyLoss : 1.401\n",
            "Valid Accuracy : 0.530\n"
          ]
        },
        {
          "output_type": "stream",
          "name": "stderr",
          "text": [
            "100%|██████████| 22/22 [00:03<00:00,  5.53it/s]\n"
          ]
        },
        {
          "output_type": "stream",
          "name": "stdout",
          "text": [
            "Train CrossEntropyLoss : 1.600\n",
            "Valid CrossEntropyLoss : 1.590\n",
            "Valid Accuracy : 0.309\n"
          ]
        },
        {
          "output_type": "stream",
          "name": "stderr",
          "text": [
            "100%|██████████| 22/22 [00:03<00:00,  5.64it/s]\n"
          ]
        },
        {
          "output_type": "stream",
          "name": "stdout",
          "text": [
            "Train CrossEntropyLoss : 1.567\n",
            "Valid CrossEntropyLoss : 1.567\n",
            "Valid Accuracy : 0.366\n"
          ]
        },
        {
          "output_type": "stream",
          "name": "stderr",
          "text": [
            "100%|██████████| 22/22 [00:03<00:00,  5.61it/s]\n"
          ]
        },
        {
          "output_type": "stream",
          "name": "stdout",
          "text": [
            "Train CrossEntropyLoss : 1.544\n",
            "Valid CrossEntropyLoss : 1.546\n",
            "Valid Accuracy : 0.390\n"
          ]
        },
        {
          "output_type": "stream",
          "name": "stderr",
          "text": [
            "100%|██████████| 22/22 [00:03<00:00,  5.64it/s]\n"
          ]
        },
        {
          "output_type": "stream",
          "name": "stdout",
          "text": [
            "Train CrossEntropyLoss : 1.517\n",
            "Valid CrossEntropyLoss : 1.520\n",
            "Valid Accuracy : 0.419\n"
          ]
        },
        {
          "output_type": "stream",
          "name": "stderr",
          "text": [
            "100%|██████████| 22/22 [00:03<00:00,  5.69it/s]\n"
          ]
        },
        {
          "output_type": "stream",
          "name": "stdout",
          "text": [
            "Train CrossEntropyLoss : 1.486\n",
            "Valid CrossEntropyLoss : 1.490\n",
            "Valid Accuracy : 0.456\n"
          ]
        },
        {
          "output_type": "stream",
          "name": "stderr",
          "text": [
            "100%|██████████| 22/22 [00:03<00:00,  5.63it/s]\n"
          ]
        },
        {
          "output_type": "stream",
          "name": "stdout",
          "text": [
            "Train CrossEntropyLoss : 1.447\n",
            "Valid CrossEntropyLoss : 1.453\n",
            "Valid Accuracy : 0.491\n"
          ]
        },
        {
          "output_type": "stream",
          "name": "stderr",
          "text": [
            "100%|██████████| 22/22 [00:03<00:00,  5.69it/s]\n"
          ]
        },
        {
          "output_type": "stream",
          "name": "stdout",
          "text": [
            "Train CrossEntropyLoss : 1.401\n",
            "Valid CrossEntropyLoss : 1.411\n",
            "Valid Accuracy : 0.514\n"
          ]
        },
        {
          "output_type": "stream",
          "name": "stderr",
          "text": [
            "100%|██████████| 22/22 [00:03<00:00,  5.64it/s]\n"
          ]
        },
        {
          "output_type": "stream",
          "name": "stdout",
          "text": [
            "Train CrossEntropyLoss : 1.347\n",
            "Valid CrossEntropyLoss : 1.363\n",
            "Valid Accuracy : 0.537\n"
          ]
        },
        {
          "output_type": "stream",
          "name": "stderr",
          "text": [
            "100%|██████████| 22/22 [00:03<00:00,  5.55it/s]\n"
          ]
        },
        {
          "output_type": "stream",
          "name": "stdout",
          "text": [
            "Train CrossEntropyLoss : 1.603\n",
            "Valid CrossEntropyLoss : 1.596\n",
            "Valid Accuracy : 0.254\n"
          ]
        },
        {
          "output_type": "stream",
          "name": "stderr",
          "text": [
            "100%|██████████| 22/22 [00:03<00:00,  5.69it/s]\n"
          ]
        },
        {
          "output_type": "stream",
          "name": "stdout",
          "text": [
            "Train CrossEntropyLoss : 1.579\n",
            "Valid CrossEntropyLoss : 1.578\n",
            "Valid Accuracy : 0.291\n"
          ]
        },
        {
          "output_type": "stream",
          "name": "stderr",
          "text": [
            "100%|██████████| 22/22 [00:03<00:00,  5.68it/s]\n"
          ]
        },
        {
          "output_type": "stream",
          "name": "stdout",
          "text": [
            "Train CrossEntropyLoss : 1.559\n",
            "Valid CrossEntropyLoss : 1.560\n",
            "Valid Accuracy : 0.338\n"
          ]
        },
        {
          "output_type": "stream",
          "name": "stderr",
          "text": [
            "100%|██████████| 22/22 [00:03<00:00,  5.64it/s]\n"
          ]
        },
        {
          "output_type": "stream",
          "name": "stdout",
          "text": [
            "Train CrossEntropyLoss : 1.538\n",
            "Valid CrossEntropyLoss : 1.540\n",
            "Valid Accuracy : 0.382\n"
          ]
        },
        {
          "output_type": "stream",
          "name": "stderr",
          "text": [
            "100%|██████████| 22/22 [00:03<00:00,  5.69it/s]\n"
          ]
        },
        {
          "output_type": "stream",
          "name": "stdout",
          "text": [
            "Train CrossEntropyLoss : 1.513\n",
            "Valid CrossEntropyLoss : 1.515\n",
            "Valid Accuracy : 0.422\n"
          ]
        },
        {
          "output_type": "stream",
          "name": "stderr",
          "text": [
            "100%|██████████| 22/22 [00:03<00:00,  5.68it/s]\n"
          ]
        },
        {
          "output_type": "stream",
          "name": "stdout",
          "text": [
            "Train CrossEntropyLoss : 1.482\n",
            "Valid CrossEntropyLoss : 1.486\n",
            "Valid Accuracy : 0.463\n"
          ]
        },
        {
          "output_type": "stream",
          "name": "stderr",
          "text": [
            "100%|██████████| 22/22 [00:03<00:00,  5.68it/s]\n"
          ]
        },
        {
          "output_type": "stream",
          "name": "stdout",
          "text": [
            "Train CrossEntropyLoss : 1.446\n",
            "Valid CrossEntropyLoss : 1.453\n",
            "Valid Accuracy : 0.487\n"
          ]
        },
        {
          "output_type": "stream",
          "name": "stderr",
          "text": [
            "100%|██████████| 22/22 [00:03<00:00,  5.66it/s]\n"
          ]
        },
        {
          "output_type": "stream",
          "name": "stdout",
          "text": [
            "Train CrossEntropyLoss : 1.404\n",
            "Valid CrossEntropyLoss : 1.414\n",
            "Valid Accuracy : 0.525\n"
          ]
        },
        {
          "output_type": "stream",
          "name": "stderr",
          "text": [
            "100%|██████████| 22/22 [00:03<00:00,  5.51it/s]\n"
          ]
        },
        {
          "output_type": "stream",
          "name": "stdout",
          "text": [
            "Train CrossEntropyLoss : 1.600\n",
            "Valid CrossEntropyLoss : 1.586\n",
            "Valid Accuracy : 0.275\n"
          ]
        },
        {
          "output_type": "stream",
          "name": "stderr",
          "text": [
            "100%|██████████| 22/22 [00:03<00:00,  5.69it/s]\n"
          ]
        },
        {
          "output_type": "stream",
          "name": "stdout",
          "text": [
            "Train CrossEntropyLoss : 1.571\n",
            "Valid CrossEntropyLoss : 1.570\n",
            "Valid Accuracy : 0.308\n"
          ]
        },
        {
          "output_type": "stream",
          "name": "stderr",
          "text": [
            "100%|██████████| 22/22 [00:03<00:00,  5.64it/s]\n"
          ]
        },
        {
          "output_type": "stream",
          "name": "stdout",
          "text": [
            "Train CrossEntropyLoss : 1.552\n",
            "Valid CrossEntropyLoss : 1.552\n",
            "Valid Accuracy : 0.334\n"
          ]
        },
        {
          "output_type": "stream",
          "name": "stderr",
          "text": [
            "100%|██████████| 22/22 [00:03<00:00,  5.68it/s]\n"
          ]
        },
        {
          "output_type": "stream",
          "name": "stdout",
          "text": [
            "Train CrossEntropyLoss : 1.531\n",
            "Valid CrossEntropyLoss : 1.532\n",
            "Valid Accuracy : 0.371\n"
          ]
        },
        {
          "output_type": "stream",
          "name": "stderr",
          "text": [
            "100%|██████████| 22/22 [00:03<00:00,  5.69it/s]\n"
          ]
        },
        {
          "output_type": "stream",
          "name": "stdout",
          "text": [
            "Train CrossEntropyLoss : 1.506\n",
            "Valid CrossEntropyLoss : 1.509\n",
            "Valid Accuracy : 0.405\n"
          ]
        },
        {
          "output_type": "stream",
          "name": "stderr",
          "text": [
            "100%|██████████| 22/22 [00:03<00:00,  5.63it/s]\n"
          ]
        },
        {
          "output_type": "stream",
          "name": "stdout",
          "text": [
            "Train CrossEntropyLoss : 1.474\n",
            "Valid CrossEntropyLoss : 1.480\n",
            "Valid Accuracy : 0.445\n"
          ]
        },
        {
          "output_type": "stream",
          "name": "stderr",
          "text": [
            "100%|██████████| 22/22 [00:03<00:00,  5.61it/s]\n"
          ]
        },
        {
          "output_type": "stream",
          "name": "stdout",
          "text": [
            "Train CrossEntropyLoss : 1.436\n",
            "Valid CrossEntropyLoss : 1.446\n",
            "Valid Accuracy : 0.478\n"
          ]
        },
        {
          "output_type": "stream",
          "name": "stderr",
          "text": [
            "100%|██████████| 22/22 [00:03<00:00,  5.63it/s]\n"
          ]
        },
        {
          "output_type": "stream",
          "name": "stdout",
          "text": [
            "Train CrossEntropyLoss : 1.389\n",
            "Valid CrossEntropyLoss : 1.403\n",
            "Valid Accuracy : 0.515\n"
          ]
        },
        {
          "output_type": "stream",
          "name": "stderr",
          "text": [
            "100%|██████████| 22/22 [00:03<00:00,  5.54it/s]\n"
          ]
        },
        {
          "output_type": "stream",
          "name": "stdout",
          "text": [
            "Train CrossEntropyLoss : 1.607\n",
            "Valid CrossEntropyLoss : 1.596\n",
            "Valid Accuracy : 0.257\n"
          ]
        },
        {
          "output_type": "stream",
          "name": "stderr",
          "text": [
            "100%|██████████| 22/22 [00:03<00:00,  5.68it/s]\n"
          ]
        },
        {
          "output_type": "stream",
          "name": "stdout",
          "text": [
            "Train CrossEntropyLoss : 1.576\n",
            "Valid CrossEntropyLoss : 1.577\n",
            "Valid Accuracy : 0.303\n"
          ]
        },
        {
          "output_type": "stream",
          "name": "stderr",
          "text": [
            "100%|██████████| 22/22 [00:03<00:00,  5.67it/s]\n"
          ]
        },
        {
          "output_type": "stream",
          "name": "stdout",
          "text": [
            "Train CrossEntropyLoss : 1.553\n",
            "Valid CrossEntropyLoss : 1.557\n",
            "Valid Accuracy : 0.351\n"
          ]
        },
        {
          "output_type": "stream",
          "name": "stderr",
          "text": [
            "100%|██████████| 22/22 [00:03<00:00,  5.63it/s]\n"
          ]
        },
        {
          "output_type": "stream",
          "name": "stdout",
          "text": [
            "Train CrossEntropyLoss : 1.527\n",
            "Valid CrossEntropyLoss : 1.534\n",
            "Valid Accuracy : 0.380\n"
          ]
        },
        {
          "output_type": "stream",
          "name": "stderr",
          "text": [
            "100%|██████████| 22/22 [00:03<00:00,  5.69it/s]\n"
          ]
        },
        {
          "output_type": "stream",
          "name": "stdout",
          "text": [
            "Train CrossEntropyLoss : 1.498\n",
            "Valid CrossEntropyLoss : 1.508\n",
            "Valid Accuracy : 0.432\n"
          ]
        },
        {
          "output_type": "stream",
          "name": "stderr",
          "text": [
            "100%|██████████| 22/22 [00:03<00:00,  5.66it/s]\n"
          ]
        },
        {
          "output_type": "stream",
          "name": "stdout",
          "text": [
            "Train CrossEntropyLoss : 1.463\n",
            "Valid CrossEntropyLoss : 1.477\n",
            "Valid Accuracy : 0.456\n"
          ]
        },
        {
          "output_type": "stream",
          "name": "stderr",
          "text": [
            "100%|██████████| 22/22 [00:03<00:00,  5.66it/s]\n"
          ]
        },
        {
          "output_type": "stream",
          "name": "stdout",
          "text": [
            "Train CrossEntropyLoss : 1.422\n",
            "Valid CrossEntropyLoss : 1.442\n",
            "Valid Accuracy : 0.482\n"
          ]
        },
        {
          "output_type": "stream",
          "name": "stderr",
          "text": [
            "100%|██████████| 22/22 [00:03<00:00,  5.68it/s]\n"
          ]
        },
        {
          "output_type": "stream",
          "name": "stdout",
          "text": [
            "Train CrossEntropyLoss : 1.374\n",
            "Valid CrossEntropyLoss : 1.402\n",
            "Valid Accuracy : 0.516\n"
          ]
        },
        {
          "output_type": "stream",
          "name": "stderr",
          "text": [
            "100%|██████████| 22/22 [00:04<00:00,  5.43it/s]\n"
          ]
        },
        {
          "output_type": "stream",
          "name": "stdout",
          "text": [
            "Train CrossEntropyLoss : 1.572\n",
            "Valid CrossEntropyLoss : 1.545\n",
            "Valid Accuracy : 0.283\n"
          ]
        },
        {
          "output_type": "stream",
          "name": "stderr",
          "text": [
            "100%|██████████| 22/22 [00:03<00:00,  5.68it/s]\n"
          ]
        },
        {
          "output_type": "stream",
          "name": "stdout",
          "text": [
            "Train CrossEntropyLoss : 1.449\n",
            "Valid CrossEntropyLoss : 1.453\n",
            "Valid Accuracy : 0.330\n"
          ]
        },
        {
          "output_type": "stream",
          "name": "stderr",
          "text": [
            "100%|██████████| 22/22 [00:03<00:00,  5.63it/s]\n"
          ]
        },
        {
          "output_type": "stream",
          "name": "stdout",
          "text": [
            "Train CrossEntropyLoss : 1.484\n",
            "Valid CrossEntropyLoss : 1.550\n",
            "Valid Accuracy : 0.340\n"
          ]
        },
        {
          "output_type": "stream",
          "name": "stderr",
          "text": [
            "100%|██████████| 22/22 [00:03<00:00,  5.71it/s]\n"
          ]
        },
        {
          "output_type": "stream",
          "name": "stdout",
          "text": [
            "Train CrossEntropyLoss : 1.349\n",
            "Valid CrossEntropyLoss : 1.425\n",
            "Valid Accuracy : 0.383\n"
          ]
        },
        {
          "output_type": "stream",
          "name": "stderr",
          "text": [
            "100%|██████████| 22/22 [00:03<00:00,  5.67it/s]\n"
          ]
        },
        {
          "output_type": "stream",
          "name": "stdout",
          "text": [
            "Train CrossEntropyLoss : 1.172\n",
            "Valid CrossEntropyLoss : 0.964\n",
            "Valid Accuracy : 0.726\n"
          ]
        },
        {
          "output_type": "stream",
          "name": "stderr",
          "text": [
            "100%|██████████| 22/22 [00:03<00:00,  5.67it/s]\n"
          ]
        },
        {
          "output_type": "stream",
          "name": "stdout",
          "text": [
            "Train CrossEntropyLoss : 1.336\n",
            "Valid CrossEntropyLoss : 0.987\n",
            "Valid Accuracy : 0.727\n"
          ]
        },
        {
          "output_type": "stream",
          "name": "stderr",
          "text": [
            "100%|██████████| 22/22 [00:03<00:00,  5.67it/s]\n"
          ]
        },
        {
          "output_type": "stream",
          "name": "stdout",
          "text": [
            "Train CrossEntropyLoss : 1.138\n",
            "Valid CrossEntropyLoss : 0.965\n",
            "Valid Accuracy : 0.637\n"
          ]
        },
        {
          "output_type": "stream",
          "name": "stderr",
          "text": [
            "100%|██████████| 22/22 [00:03<00:00,  5.66it/s]\n"
          ]
        },
        {
          "output_type": "stream",
          "name": "stdout",
          "text": [
            "Train CrossEntropyLoss : 0.948\n",
            "Valid CrossEntropyLoss : 0.830\n",
            "Valid Accuracy : 0.736\n"
          ]
        },
        {
          "output_type": "stream",
          "name": "stderr",
          "text": [
            "100%|██████████| 22/22 [00:04<00:00,  4.45it/s]\n"
          ]
        },
        {
          "output_type": "stream",
          "name": "stdout",
          "text": [
            "Train CrossEntropyLoss : 1.559\n",
            "Valid CrossEntropyLoss : 1.526\n",
            "Valid Accuracy : 0.308\n"
          ]
        },
        {
          "output_type": "stream",
          "name": "stderr",
          "text": [
            "100%|██████████| 22/22 [00:03<00:00,  5.67it/s]\n"
          ]
        },
        {
          "output_type": "stream",
          "name": "stdout",
          "text": [
            "Train CrossEntropyLoss : 1.527\n",
            "Valid CrossEntropyLoss : 1.510\n",
            "Valid Accuracy : 0.401\n"
          ]
        },
        {
          "output_type": "stream",
          "name": "stderr",
          "text": [
            "100%|██████████| 22/22 [00:03<00:00,  5.66it/s]\n"
          ]
        },
        {
          "output_type": "stream",
          "name": "stdout",
          "text": [
            "Train CrossEntropyLoss : 1.339\n",
            "Valid CrossEntropyLoss : 1.261\n",
            "Valid Accuracy : 0.500\n"
          ]
        },
        {
          "output_type": "stream",
          "name": "stderr",
          "text": [
            "100%|██████████| 22/22 [00:03<00:00,  5.68it/s]\n"
          ]
        },
        {
          "output_type": "stream",
          "name": "stdout",
          "text": [
            "Train CrossEntropyLoss : 1.104\n",
            "Valid CrossEntropyLoss : 1.312\n",
            "Valid Accuracy : 0.554\n"
          ]
        },
        {
          "output_type": "stream",
          "name": "stderr",
          "text": [
            "100%|██████████| 22/22 [00:03<00:00,  5.71it/s]\n"
          ]
        },
        {
          "output_type": "stream",
          "name": "stdout",
          "text": [
            "Train CrossEntropyLoss : 0.962\n",
            "Valid CrossEntropyLoss : 0.777\n",
            "Valid Accuracy : 0.754\n"
          ]
        },
        {
          "output_type": "stream",
          "name": "stderr",
          "text": [
            "100%|██████████| 22/22 [00:03<00:00,  5.70it/s]\n"
          ]
        },
        {
          "output_type": "stream",
          "name": "stdout",
          "text": [
            "Train CrossEntropyLoss : 1.267\n",
            "Valid CrossEntropyLoss : 1.142\n",
            "Valid Accuracy : 0.564\n"
          ]
        },
        {
          "output_type": "stream",
          "name": "stderr",
          "text": [
            "100%|██████████| 22/22 [00:03<00:00,  5.68it/s]\n"
          ]
        },
        {
          "output_type": "stream",
          "name": "stdout",
          "text": [
            "Train CrossEntropyLoss : 0.874\n",
            "Valid CrossEntropyLoss : 1.315\n",
            "Valid Accuracy : 0.563\n"
          ]
        },
        {
          "output_type": "stream",
          "name": "stderr",
          "text": [
            "100%|██████████| 22/22 [00:03<00:00,  5.64it/s]\n"
          ]
        },
        {
          "output_type": "stream",
          "name": "stdout",
          "text": [
            "Train CrossEntropyLoss : 0.679\n",
            "Valid CrossEntropyLoss : 0.991\n",
            "Valid Accuracy : 0.638\n"
          ]
        },
        {
          "output_type": "stream",
          "name": "stderr",
          "text": [
            "100%|██████████| 22/22 [00:04<00:00,  5.50it/s]\n"
          ]
        },
        {
          "output_type": "stream",
          "name": "stdout",
          "text": [
            "Train CrossEntropyLoss : 1.569\n",
            "Valid CrossEntropyLoss : 1.525\n",
            "Valid Accuracy : 0.311\n"
          ]
        },
        {
          "output_type": "stream",
          "name": "stderr",
          "text": [
            "100%|██████████| 22/22 [00:03<00:00,  5.64it/s]\n"
          ]
        },
        {
          "output_type": "stream",
          "name": "stdout",
          "text": [
            "Train CrossEntropyLoss : 1.463\n",
            "Valid CrossEntropyLoss : 1.420\n",
            "Valid Accuracy : 0.429\n"
          ]
        },
        {
          "output_type": "stream",
          "name": "stderr",
          "text": [
            "100%|██████████| 22/22 [00:03<00:00,  5.68it/s]\n"
          ]
        },
        {
          "output_type": "stream",
          "name": "stdout",
          "text": [
            "Train CrossEntropyLoss : 1.382\n",
            "Valid CrossEntropyLoss : 1.418\n",
            "Valid Accuracy : 0.401\n"
          ]
        },
        {
          "output_type": "stream",
          "name": "stderr",
          "text": [
            "100%|██████████| 22/22 [00:03<00:00,  5.71it/s]\n"
          ]
        },
        {
          "output_type": "stream",
          "name": "stdout",
          "text": [
            "Train CrossEntropyLoss : 1.414\n",
            "Valid CrossEntropyLoss : 1.328\n",
            "Valid Accuracy : 0.518\n"
          ]
        },
        {
          "output_type": "stream",
          "name": "stderr",
          "text": [
            "100%|██████████| 22/22 [00:03<00:00,  5.74it/s]\n"
          ]
        },
        {
          "output_type": "stream",
          "name": "stdout",
          "text": [
            "Train CrossEntropyLoss : 1.154\n",
            "Valid CrossEntropyLoss : 1.069\n",
            "Valid Accuracy : 0.600\n"
          ]
        },
        {
          "output_type": "stream",
          "name": "stderr",
          "text": [
            "100%|██████████| 22/22 [00:03<00:00,  5.68it/s]\n"
          ]
        },
        {
          "output_type": "stream",
          "name": "stdout",
          "text": [
            "Train CrossEntropyLoss : 1.670\n",
            "Valid CrossEntropyLoss : 1.178\n",
            "Valid Accuracy : 0.611\n"
          ]
        },
        {
          "output_type": "stream",
          "name": "stderr",
          "text": [
            "100%|██████████| 22/22 [00:03<00:00,  5.63it/s]\n"
          ]
        },
        {
          "output_type": "stream",
          "name": "stdout",
          "text": [
            "Train CrossEntropyLoss : 1.158\n",
            "Valid CrossEntropyLoss : 0.978\n",
            "Valid Accuracy : 0.649\n"
          ]
        },
        {
          "output_type": "stream",
          "name": "stderr",
          "text": [
            "100%|██████████| 22/22 [00:03<00:00,  5.67it/s]\n"
          ]
        },
        {
          "output_type": "stream",
          "name": "stdout",
          "text": [
            "Train CrossEntropyLoss : 1.414\n",
            "Valid CrossEntropyLoss : 1.460\n",
            "Valid Accuracy : 0.358\n"
          ]
        },
        {
          "output_type": "stream",
          "name": "stderr",
          "text": [
            "100%|██████████| 22/22 [00:03<00:00,  5.52it/s]\n"
          ]
        },
        {
          "output_type": "stream",
          "name": "stdout",
          "text": [
            "Train CrossEntropyLoss : 1.567\n",
            "Valid CrossEntropyLoss : 1.559\n",
            "Valid Accuracy : 0.255\n"
          ]
        },
        {
          "output_type": "stream",
          "name": "stderr",
          "text": [
            "100%|██████████| 22/22 [00:03<00:00,  5.68it/s]\n"
          ]
        },
        {
          "output_type": "stream",
          "name": "stdout",
          "text": [
            "Train CrossEntropyLoss : 1.448\n",
            "Valid CrossEntropyLoss : 1.468\n",
            "Valid Accuracy : 0.309\n"
          ]
        },
        {
          "output_type": "stream",
          "name": "stderr",
          "text": [
            "100%|██████████| 22/22 [00:03<00:00,  5.68it/s]\n"
          ]
        },
        {
          "output_type": "stream",
          "name": "stdout",
          "text": [
            "Train CrossEntropyLoss : 1.382\n",
            "Valid CrossEntropyLoss : 1.280\n",
            "Valid Accuracy : 0.461\n"
          ]
        },
        {
          "output_type": "stream",
          "name": "stderr",
          "text": [
            "100%|██████████| 22/22 [00:03<00:00,  5.73it/s]\n"
          ]
        },
        {
          "output_type": "stream",
          "name": "stdout",
          "text": [
            "Train CrossEntropyLoss : 1.181\n",
            "Valid CrossEntropyLoss : 1.113\n",
            "Valid Accuracy : 0.591\n"
          ]
        },
        {
          "output_type": "stream",
          "name": "stderr",
          "text": [
            "100%|██████████| 22/22 [00:03<00:00,  5.66it/s]\n"
          ]
        },
        {
          "output_type": "stream",
          "name": "stdout",
          "text": [
            "Train CrossEntropyLoss : 1.230\n",
            "Valid CrossEntropyLoss : 1.314\n",
            "Valid Accuracy : 0.537\n"
          ]
        },
        {
          "output_type": "stream",
          "name": "stderr",
          "text": [
            "100%|██████████| 22/22 [00:03<00:00,  5.65it/s]\n"
          ]
        },
        {
          "output_type": "stream",
          "name": "stdout",
          "text": [
            "Train CrossEntropyLoss : 0.888\n",
            "Valid CrossEntropyLoss : 0.810\n",
            "Valid Accuracy : 0.723\n"
          ]
        },
        {
          "output_type": "stream",
          "name": "stderr",
          "text": [
            "100%|██████████| 22/22 [00:03<00:00,  5.62it/s]\n"
          ]
        },
        {
          "output_type": "stream",
          "name": "stdout",
          "text": [
            "Train CrossEntropyLoss : 1.058\n",
            "Valid CrossEntropyLoss : 1.046\n",
            "Valid Accuracy : 0.627\n"
          ]
        },
        {
          "output_type": "stream",
          "name": "stderr",
          "text": [
            "100%|██████████| 22/22 [00:03<00:00,  5.63it/s]\n"
          ]
        },
        {
          "output_type": "stream",
          "name": "stdout",
          "text": [
            "Train CrossEntropyLoss : 0.688\n",
            "Valid CrossEntropyLoss : 1.228\n",
            "Valid Accuracy : 0.629\n"
          ]
        },
        {
          "output_type": "stream",
          "name": "stderr",
          "text": [
            "100%|██████████| 22/22 [00:04<00:00,  5.43it/s]\n"
          ]
        },
        {
          "output_type": "stream",
          "name": "stdout",
          "text": [
            "Train CrossEntropyLoss : 1.563\n",
            "Valid CrossEntropyLoss : 1.541\n",
            "Valid Accuracy : 0.267\n"
          ]
        },
        {
          "output_type": "stream",
          "name": "stderr",
          "text": [
            "100%|██████████| 22/22 [00:03<00:00,  5.59it/s]\n"
          ]
        },
        {
          "output_type": "stream",
          "name": "stdout",
          "text": [
            "Train CrossEntropyLoss : 1.429\n",
            "Valid CrossEntropyLoss : 1.344\n",
            "Valid Accuracy : 0.491\n"
          ]
        },
        {
          "output_type": "stream",
          "name": "stderr",
          "text": [
            "100%|██████████| 22/22 [00:03<00:00,  5.60it/s]\n"
          ]
        },
        {
          "output_type": "stream",
          "name": "stdout",
          "text": [
            "Train CrossEntropyLoss : 1.535\n",
            "Valid CrossEntropyLoss : 1.349\n",
            "Valid Accuracy : 0.532\n"
          ]
        },
        {
          "output_type": "stream",
          "name": "stderr",
          "text": [
            "100%|██████████| 22/22 [00:03<00:00,  5.63it/s]\n"
          ]
        },
        {
          "output_type": "stream",
          "name": "stdout",
          "text": [
            "Train CrossEntropyLoss : 1.331\n",
            "Valid CrossEntropyLoss : 1.233\n",
            "Valid Accuracy : 0.584\n"
          ]
        },
        {
          "output_type": "stream",
          "name": "stderr",
          "text": [
            "100%|██████████| 22/22 [00:03<00:00,  5.61it/s]\n"
          ]
        },
        {
          "output_type": "stream",
          "name": "stdout",
          "text": [
            "Train CrossEntropyLoss : 0.989\n",
            "Valid CrossEntropyLoss : 0.942\n",
            "Valid Accuracy : 0.654\n"
          ]
        },
        {
          "output_type": "stream",
          "name": "stderr",
          "text": [
            "100%|██████████| 22/22 [00:03<00:00,  5.63it/s]\n"
          ]
        },
        {
          "output_type": "stream",
          "name": "stdout",
          "text": [
            "Train CrossEntropyLoss : 1.467\n",
            "Valid CrossEntropyLoss : 1.074\n",
            "Valid Accuracy : 0.534\n"
          ]
        },
        {
          "output_type": "stream",
          "name": "stderr",
          "text": [
            "100%|██████████| 22/22 [00:03<00:00,  5.63it/s]\n"
          ]
        },
        {
          "output_type": "stream",
          "name": "stdout",
          "text": [
            "Train CrossEntropyLoss : 1.006\n",
            "Valid CrossEntropyLoss : 0.859\n",
            "Valid Accuracy : 0.727\n"
          ]
        },
        {
          "output_type": "stream",
          "name": "stderr",
          "text": [
            "100%|██████████| 22/22 [00:03<00:00,  5.61it/s]\n"
          ]
        },
        {
          "output_type": "stream",
          "name": "stdout",
          "text": [
            "Train CrossEntropyLoss : 0.944\n",
            "Valid CrossEntropyLoss : 2.477\n",
            "Valid Accuracy : 0.395\n"
          ]
        }
      ]
    },
    {
      "cell_type": "code",
      "source": [
        "from matplotlib import colors as cl\n",
        "to_plot = []\n",
        "for lr in range(5):\n",
        "  row = []\n",
        "  for lamda in range(5):\n",
        "    row.append(results[lr][lamda][-1])\n",
        "  to_plot.append(row)\n",
        "plt.rcParams[\"figure.figsize\"] = [10, 10]\n",
        "plt.rcParams[\"figure.autolayout\"] = True\n",
        "data2D = results\n",
        "im = plt.imshow(to_plot, cmap=\"copper_r\", norm=cl.LogNorm())\n",
        "plt.xlabel('lambda')\n",
        "plt.ylabel('learning rate')\n",
        "plt.colorbar(im)\n",
        "plt.show()"
      ],
      "metadata": {
        "colab": {
          "base_uri": "https://localhost:8080/",
          "height": 729
        },
        "id": "USG5mOoJ7d3_",
        "outputId": "bbc6b563-0138-42eb-ebd6-2e66caf01437"
      },
      "execution_count": 48,
      "outputs": [
        {
          "output_type": "display_data",
          "data": {
            "text/plain": [
              "<Figure size 720x720 with 2 Axes>"
            ],
            "image/png": "[encoded data removed]"
          },
          "metadata": {
            "needs_background": "light"
          }
        }
      ]
    },
    {
      "cell_type": "markdown",
      "source": [
        "### Increase definition"
      ],
      "metadata": {
        "id": "LjQ75Q8rTwS6"
      }
    },
    {
      "cell_type": "code",
      "source": [
        "epochs=8\n",
        "results_dcasgd = []\n",
        "for lr in np.logspace(-4,0,7) : \n",
        "  row = []\n",
        "  for lamda in np.logspace(-4,-1,5) :\n",
        "    model = TextClassifier()\n",
        "    model.initialize()\n",
        "    loss_func = loss.SoftmaxCrossEntropyLoss()\n",
        "    dcasgd_optimizer = optimizer.DCASGD(learning_rate=lr, lamda = lamda)\n",
        "\n",
        "    trainer = gluon.Trainer(model.collect_params(), dcasgd_optimizer)\n",
        "\n",
        "    accuracies = TrainModelInBatches(trainer, train_loader, test_loader, epochs)\n",
        "    row.append(accuracies)\n",
        "  results_dcasgd.append(row)"
      ],
      "metadata": {
        "colab": {
          "base_uri": "https://localhost:8080/"
        },
        "id": "IM6Wm1TMbBRo",
        "outputId": "e2d5511e-7de0-495a-9544-4ed88a5d61ff"
      },
      "execution_count": 87,
      "outputs": [
        {
          "output_type": "stream",
          "name": "stderr",
          "text": [
            "100%|██████████| 22/22 [00:03<00:00,  5.59it/s]\n"
          ]
        },
        {
          "output_type": "stream",
          "name": "stdout",
          "text": [
            "Train CrossEntropyLoss : 1.654\n",
            "Valid CrossEntropyLoss : 1.658\n",
            "Valid Accuracy : 0.215\n"
          ]
        },
        {
          "output_type": "stream",
          "name": "stderr",
          "text": [
            "100%|██████████| 22/22 [00:03<00:00,  5.78it/s]\n"
          ]
        },
        {
          "output_type": "stream",
          "name": "stdout",
          "text": [
            "Train CrossEntropyLoss : 1.652\n",
            "Valid CrossEntropyLoss : 1.656\n",
            "Valid Accuracy : 0.216\n"
          ]
        },
        {
          "output_type": "stream",
          "name": "stderr",
          "text": [
            "100%|██████████| 22/22 [00:03<00:00,  5.79it/s]\n"
          ]
        },
        {
          "output_type": "stream",
          "name": "stdout",
          "text": [
            "Train CrossEntropyLoss : 1.650\n",
            "Valid CrossEntropyLoss : 1.654\n",
            "Valid Accuracy : 0.215\n"
          ]
        },
        {
          "output_type": "stream",
          "name": "stderr",
          "text": [
            "100%|██████████| 22/22 [00:03<00:00,  5.80it/s]\n"
          ]
        },
        {
          "output_type": "stream",
          "name": "stdout",
          "text": [
            "Train CrossEntropyLoss : 1.648\n",
            "Valid CrossEntropyLoss : 1.653\n",
            "Valid Accuracy : 0.216\n"
          ]
        },
        {
          "output_type": "stream",
          "name": "stderr",
          "text": [
            "100%|██████████| 22/22 [00:03<00:00,  5.81it/s]\n"
          ]
        },
        {
          "output_type": "stream",
          "name": "stdout",
          "text": [
            "Train CrossEntropyLoss : 1.647\n",
            "Valid CrossEntropyLoss : 1.651\n",
            "Valid Accuracy : 0.217\n"
          ]
        },
        {
          "output_type": "stream",
          "name": "stderr",
          "text": [
            "100%|██████████| 22/22 [00:03<00:00,  5.80it/s]\n"
          ]
        },
        {
          "output_type": "stream",
          "name": "stdout",
          "text": [
            "Train CrossEntropyLoss : 1.645\n",
            "Valid CrossEntropyLoss : 1.649\n",
            "Valid Accuracy : 0.216\n"
          ]
        },
        {
          "output_type": "stream",
          "name": "stderr",
          "text": [
            "100%|██████████| 22/22 [00:03<00:00,  5.79it/s]\n"
          ]
        },
        {
          "output_type": "stream",
          "name": "stdout",
          "text": [
            "Train CrossEntropyLoss : 1.644\n",
            "Valid CrossEntropyLoss : 1.648\n",
            "Valid Accuracy : 0.215\n"
          ]
        },
        {
          "output_type": "stream",
          "name": "stderr",
          "text": [
            "100%|██████████| 22/22 [00:03<00:00,  5.80it/s]\n"
          ]
        },
        {
          "output_type": "stream",
          "name": "stdout",
          "text": [
            "Train CrossEntropyLoss : 1.642\n",
            "Valid CrossEntropyLoss : 1.646\n",
            "Valid Accuracy : 0.214\n"
          ]
        },
        {
          "output_type": "stream",
          "name": "stderr",
          "text": [
            "100%|██████████| 22/22 [00:03<00:00,  5.65it/s]\n"
          ]
        },
        {
          "output_type": "stream",
          "name": "stdout",
          "text": [
            "Train CrossEntropyLoss : 1.627\n",
            "Valid CrossEntropyLoss : 1.627\n",
            "Valid Accuracy : 0.175\n"
          ]
        },
        {
          "output_type": "stream",
          "name": "stderr",
          "text": [
            "100%|██████████| 22/22 [00:03<00:00,  5.75it/s]\n"
          ]
        },
        {
          "output_type": "stream",
          "name": "stdout",
          "text": [
            "Train CrossEntropyLoss : 1.627\n",
            "Valid CrossEntropyLoss : 1.626\n",
            "Valid Accuracy : 0.176\n"
          ]
        },
        {
          "output_type": "stream",
          "name": "stderr",
          "text": [
            "100%|██████████| 22/22 [00:03<00:00,  5.79it/s]\n"
          ]
        },
        {
          "output_type": "stream",
          "name": "stdout",
          "text": [
            "Train CrossEntropyLoss : 1.626\n",
            "Valid CrossEntropyLoss : 1.625\n",
            "Valid Accuracy : 0.176\n"
          ]
        },
        {
          "output_type": "stream",
          "name": "stderr",
          "text": [
            "100%|██████████| 22/22 [00:03<00:00,  5.73it/s]\n"
          ]
        },
        {
          "output_type": "stream",
          "name": "stdout",
          "text": [
            "Train CrossEntropyLoss : 1.625\n",
            "Valid CrossEntropyLoss : 1.624\n",
            "Valid Accuracy : 0.177\n"
          ]
        },
        {
          "output_type": "stream",
          "name": "stderr",
          "text": [
            "100%|██████████| 22/22 [00:03<00:00,  5.71it/s]\n"
          ]
        },
        {
          "output_type": "stream",
          "name": "stdout",
          "text": [
            "Train CrossEntropyLoss : 1.624\n",
            "Valid CrossEntropyLoss : 1.624\n",
            "Valid Accuracy : 0.178\n"
          ]
        },
        {
          "output_type": "stream",
          "name": "stderr",
          "text": [
            "100%|██████████| 22/22 [00:03<00:00,  5.71it/s]\n"
          ]
        },
        {
          "output_type": "stream",
          "name": "stdout",
          "text": [
            "Train CrossEntropyLoss : 1.623\n",
            "Valid CrossEntropyLoss : 1.623\n",
            "Valid Accuracy : 0.179\n"
          ]
        },
        {
          "output_type": "stream",
          "name": "stderr",
          "text": [
            "100%|██████████| 22/22 [00:03<00:00,  5.68it/s]\n"
          ]
        },
        {
          "output_type": "stream",
          "name": "stdout",
          "text": [
            "Train CrossEntropyLoss : 1.623\n",
            "Valid CrossEntropyLoss : 1.622\n",
            "Valid Accuracy : 0.179\n"
          ]
        },
        {
          "output_type": "stream",
          "name": "stderr",
          "text": [
            "100%|██████████| 22/22 [00:03<00:00,  5.75it/s]\n"
          ]
        },
        {
          "output_type": "stream",
          "name": "stdout",
          "text": [
            "Train CrossEntropyLoss : 1.622\n",
            "Valid CrossEntropyLoss : 1.622\n",
            "Valid Accuracy : 0.181\n"
          ]
        },
        {
          "output_type": "stream",
          "name": "stderr",
          "text": [
            "100%|██████████| 22/22 [00:03<00:00,  5.58it/s]\n"
          ]
        },
        {
          "output_type": "stream",
          "name": "stdout",
          "text": [
            "Train CrossEntropyLoss : 1.615\n",
            "Valid CrossEntropyLoss : 1.619\n",
            "Valid Accuracy : 0.188\n"
          ]
        },
        {
          "output_type": "stream",
          "name": "stderr",
          "text": [
            "100%|██████████| 22/22 [00:03<00:00,  5.67it/s]\n"
          ]
        },
        {
          "output_type": "stream",
          "name": "stdout",
          "text": [
            "Train CrossEntropyLoss : 1.614\n",
            "Valid CrossEntropyLoss : 1.619\n",
            "Valid Accuracy : 0.192\n"
          ]
        },
        {
          "output_type": "stream",
          "name": "stderr",
          "text": [
            "100%|██████████| 22/22 [00:03<00:00,  5.73it/s]\n"
          ]
        },
        {
          "output_type": "stream",
          "name": "stdout",
          "text": [
            "Train CrossEntropyLoss : 1.614\n",
            "Valid CrossEntropyLoss : 1.618\n",
            "Valid Accuracy : 0.192\n"
          ]
        },
        {
          "output_type": "stream",
          "name": "stderr",
          "text": [
            "100%|██████████| 22/22 [00:03<00:00,  5.68it/s]\n"
          ]
        },
        {
          "output_type": "stream",
          "name": "stdout",
          "text": [
            "Train CrossEntropyLoss : 1.613\n",
            "Valid CrossEntropyLoss : 1.617\n",
            "Valid Accuracy : 0.192\n"
          ]
        },
        {
          "output_type": "stream",
          "name": "stderr",
          "text": [
            "100%|██████████| 22/22 [00:03<00:00,  5.75it/s]\n"
          ]
        },
        {
          "output_type": "stream",
          "name": "stdout",
          "text": [
            "Train CrossEntropyLoss : 1.612\n",
            "Valid CrossEntropyLoss : 1.617\n",
            "Valid Accuracy : 0.193\n"
          ]
        },
        {
          "output_type": "stream",
          "name": "stderr",
          "text": [
            "100%|██████████| 22/22 [00:03<00:00,  5.67it/s]\n"
          ]
        },
        {
          "output_type": "stream",
          "name": "stdout",
          "text": [
            "Train CrossEntropyLoss : 1.612\n",
            "Valid CrossEntropyLoss : 1.616\n",
            "Valid Accuracy : 0.195\n"
          ]
        },
        {
          "output_type": "stream",
          "name": "stderr",
          "text": [
            "100%|██████████| 22/22 [00:03<00:00,  5.69it/s]\n"
          ]
        },
        {
          "output_type": "stream",
          "name": "stdout",
          "text": [
            "Train CrossEntropyLoss : 1.611\n",
            "Valid CrossEntropyLoss : 1.616\n",
            "Valid Accuracy : 0.196\n"
          ]
        },
        {
          "output_type": "stream",
          "name": "stderr",
          "text": [
            "100%|██████████| 22/22 [00:03<00:00,  5.72it/s]\n"
          ]
        },
        {
          "output_type": "stream",
          "name": "stdout",
          "text": [
            "Train CrossEntropyLoss : 1.610\n",
            "Valid CrossEntropyLoss : 1.615\n",
            "Valid Accuracy : 0.196\n"
          ]
        },
        {
          "output_type": "stream",
          "name": "stderr",
          "text": [
            "100%|██████████| 22/22 [00:03<00:00,  5.51it/s]\n"
          ]
        },
        {
          "output_type": "stream",
          "name": "stdout",
          "text": [
            "Train CrossEntropyLoss : 1.640\n",
            "Valid CrossEntropyLoss : 1.637\n",
            "Valid Accuracy : 0.209\n"
          ]
        },
        {
          "output_type": "stream",
          "name": "stderr",
          "text": [
            "100%|██████████| 22/22 [00:03<00:00,  5.67it/s]\n"
          ]
        },
        {
          "output_type": "stream",
          "name": "stdout",
          "text": [
            "Train CrossEntropyLoss : 1.639\n",
            "Valid CrossEntropyLoss : 1.636\n",
            "Valid Accuracy : 0.209\n"
          ]
        },
        {
          "output_type": "stream",
          "name": "stderr",
          "text": [
            "100%|██████████| 22/22 [00:03<00:00,  5.64it/s]\n"
          ]
        },
        {
          "output_type": "stream",
          "name": "stdout",
          "text": [
            "Train CrossEntropyLoss : 1.638\n",
            "Valid CrossEntropyLoss : 1.635\n",
            "Valid Accuracy : 0.210\n"
          ]
        },
        {
          "output_type": "stream",
          "name": "stderr",
          "text": [
            "100%|██████████| 22/22 [00:03<00:00,  5.67it/s]\n"
          ]
        },
        {
          "output_type": "stream",
          "name": "stdout",
          "text": [
            "Train CrossEntropyLoss : 1.637\n",
            "Valid CrossEntropyLoss : 1.635\n",
            "Valid Accuracy : 0.211\n"
          ]
        },
        {
          "output_type": "stream",
          "name": "stderr",
          "text": [
            "100%|██████████| 22/22 [00:03<00:00,  5.69it/s]\n"
          ]
        },
        {
          "output_type": "stream",
          "name": "stdout",
          "text": [
            "Train CrossEntropyLoss : 1.636\n",
            "Valid CrossEntropyLoss : 1.634\n",
            "Valid Accuracy : 0.211\n"
          ]
        },
        {
          "output_type": "stream",
          "name": "stderr",
          "text": [
            "100%|██████████| 22/22 [00:03<00:00,  5.68it/s]\n"
          ]
        },
        {
          "output_type": "stream",
          "name": "stdout",
          "text": [
            "Train CrossEntropyLoss : 1.635\n",
            "Valid CrossEntropyLoss : 1.633\n",
            "Valid Accuracy : 0.213\n"
          ]
        },
        {
          "output_type": "stream",
          "name": "stderr",
          "text": [
            "100%|██████████| 22/22 [00:03<00:00,  5.71it/s]\n"
          ]
        },
        {
          "output_type": "stream",
          "name": "stdout",
          "text": [
            "Train CrossEntropyLoss : 1.634\n",
            "Valid CrossEntropyLoss : 1.632\n",
            "Valid Accuracy : 0.214\n"
          ]
        },
        {
          "output_type": "stream",
          "name": "stderr",
          "text": [
            "100%|██████████| 22/22 [00:03<00:00,  5.65it/s]\n"
          ]
        },
        {
          "output_type": "stream",
          "name": "stdout",
          "text": [
            "Train CrossEntropyLoss : 1.633\n",
            "Valid CrossEntropyLoss : 1.632\n",
            "Valid Accuracy : 0.218\n"
          ]
        },
        {
          "output_type": "stream",
          "name": "stderr",
          "text": [
            "100%|██████████| 22/22 [00:03<00:00,  5.56it/s]\n"
          ]
        },
        {
          "output_type": "stream",
          "name": "stdout",
          "text": [
            "Train CrossEntropyLoss : 1.624\n",
            "Valid CrossEntropyLoss : 1.618\n",
            "Valid Accuracy : 0.204\n"
          ]
        },
        {
          "output_type": "stream",
          "name": "stderr",
          "text": [
            "100%|██████████| 22/22 [00:03<00:00,  5.70it/s]\n"
          ]
        },
        {
          "output_type": "stream",
          "name": "stdout",
          "text": [
            "Train CrossEntropyLoss : 1.624\n",
            "Valid CrossEntropyLoss : 1.617\n",
            "Valid Accuracy : 0.207\n"
          ]
        },
        {
          "output_type": "stream",
          "name": "stderr",
          "text": [
            "100%|██████████| 22/22 [00:03<00:00,  5.66it/s]\n"
          ]
        },
        {
          "output_type": "stream",
          "name": "stdout",
          "text": [
            "Train CrossEntropyLoss : 1.623\n",
            "Valid CrossEntropyLoss : 1.617\n",
            "Valid Accuracy : 0.208\n"
          ]
        },
        {
          "output_type": "stream",
          "name": "stderr",
          "text": [
            "100%|██████████| 22/22 [00:03<00:00,  5.68it/s]\n"
          ]
        },
        {
          "output_type": "stream",
          "name": "stdout",
          "text": [
            "Train CrossEntropyLoss : 1.622\n",
            "Valid CrossEntropyLoss : 1.616\n",
            "Valid Accuracy : 0.207\n"
          ]
        },
        {
          "output_type": "stream",
          "name": "stderr",
          "text": [
            "100%|██████████| 22/22 [00:03<00:00,  5.64it/s]\n"
          ]
        },
        {
          "output_type": "stream",
          "name": "stdout",
          "text": [
            "Train CrossEntropyLoss : 1.622\n",
            "Valid CrossEntropyLoss : 1.616\n",
            "Valid Accuracy : 0.208\n"
          ]
        },
        {
          "output_type": "stream",
          "name": "stderr",
          "text": [
            "100%|██████████| 22/22 [00:03<00:00,  5.72it/s]\n"
          ]
        },
        {
          "output_type": "stream",
          "name": "stdout",
          "text": [
            "Train CrossEntropyLoss : 1.621\n",
            "Valid CrossEntropyLoss : 1.615\n",
            "Valid Accuracy : 0.210\n"
          ]
        },
        {
          "output_type": "stream",
          "name": "stderr",
          "text": [
            "100%|██████████| 22/22 [00:04<00:00,  4.95it/s]\n"
          ]
        },
        {
          "output_type": "stream",
          "name": "stdout",
          "text": [
            "Train CrossEntropyLoss : 1.620\n",
            "Valid CrossEntropyLoss : 1.615\n",
            "Valid Accuracy : 0.209\n"
          ]
        },
        {
          "output_type": "stream",
          "name": "stderr",
          "text": [
            "100%|██████████| 22/22 [00:03<00:00,  5.71it/s]\n"
          ]
        },
        {
          "output_type": "stream",
          "name": "stdout",
          "text": [
            "Train CrossEntropyLoss : 1.620\n",
            "Valid CrossEntropyLoss : 1.614\n",
            "Valid Accuracy : 0.209\n"
          ]
        },
        {
          "output_type": "stream",
          "name": "stderr",
          "text": [
            "100%|██████████| 22/22 [00:03<00:00,  5.56it/s]\n"
          ]
        },
        {
          "output_type": "stream",
          "name": "stdout",
          "text": [
            "Train CrossEntropyLoss : 1.630\n",
            "Valid CrossEntropyLoss : 1.620\n",
            "Valid Accuracy : 0.197\n"
          ]
        },
        {
          "output_type": "stream",
          "name": "stderr",
          "text": [
            "100%|██████████| 22/22 [00:03<00:00,  5.66it/s]\n"
          ]
        },
        {
          "output_type": "stream",
          "name": "stdout",
          "text": [
            "Train CrossEntropyLoss : 1.627\n",
            "Valid CrossEntropyLoss : 1.619\n",
            "Valid Accuracy : 0.199\n"
          ]
        },
        {
          "output_type": "stream",
          "name": "stderr",
          "text": [
            "100%|██████████| 22/22 [00:03<00:00,  5.72it/s]\n"
          ]
        },
        {
          "output_type": "stream",
          "name": "stdout",
          "text": [
            "Train CrossEntropyLoss : 1.625\n",
            "Valid CrossEntropyLoss : 1.617\n",
            "Valid Accuracy : 0.200\n"
          ]
        },
        {
          "output_type": "stream",
          "name": "stderr",
          "text": [
            "100%|██████████| 22/22 [00:03<00:00,  5.71it/s]\n"
          ]
        },
        {
          "output_type": "stream",
          "name": "stdout",
          "text": [
            "Train CrossEntropyLoss : 1.623\n",
            "Valid CrossEntropyLoss : 1.616\n",
            "Valid Accuracy : 0.204\n"
          ]
        },
        {
          "output_type": "stream",
          "name": "stderr",
          "text": [
            "100%|██████████| 22/22 [00:03<00:00,  5.68it/s]\n"
          ]
        },
        {
          "output_type": "stream",
          "name": "stdout",
          "text": [
            "Train CrossEntropyLoss : 1.621\n",
            "Valid CrossEntropyLoss : 1.614\n",
            "Valid Accuracy : 0.203\n"
          ]
        },
        {
          "output_type": "stream",
          "name": "stderr",
          "text": [
            "100%|██████████| 22/22 [00:03<00:00,  5.68it/s]\n"
          ]
        },
        {
          "output_type": "stream",
          "name": "stdout",
          "text": [
            "Train CrossEntropyLoss : 1.619\n",
            "Valid CrossEntropyLoss : 1.613\n",
            "Valid Accuracy : 0.205\n"
          ]
        },
        {
          "output_type": "stream",
          "name": "stderr",
          "text": [
            "100%|██████████| 22/22 [00:03<00:00,  5.69it/s]\n"
          ]
        },
        {
          "output_type": "stream",
          "name": "stdout",
          "text": [
            "Train CrossEntropyLoss : 1.617\n",
            "Valid CrossEntropyLoss : 1.612\n",
            "Valid Accuracy : 0.210\n"
          ]
        },
        {
          "output_type": "stream",
          "name": "stderr",
          "text": [
            "100%|██████████| 22/22 [00:03<00:00,  5.69it/s]\n"
          ]
        },
        {
          "output_type": "stream",
          "name": "stdout",
          "text": [
            "Train CrossEntropyLoss : 1.615\n",
            "Valid CrossEntropyLoss : 1.610\n",
            "Valid Accuracy : 0.213\n"
          ]
        },
        {
          "output_type": "stream",
          "name": "stderr",
          "text": [
            "100%|██████████| 22/22 [00:03<00:00,  5.51it/s]\n"
          ]
        },
        {
          "output_type": "stream",
          "name": "stdout",
          "text": [
            "Train CrossEntropyLoss : 1.611\n",
            "Valid CrossEntropyLoss : 1.611\n",
            "Valid Accuracy : 0.190\n"
          ]
        },
        {
          "output_type": "stream",
          "name": "stderr",
          "text": [
            "100%|██████████| 22/22 [00:03<00:00,  5.73it/s]\n"
          ]
        },
        {
          "output_type": "stream",
          "name": "stdout",
          "text": [
            "Train CrossEntropyLoss : 1.610\n",
            "Valid CrossEntropyLoss : 1.610\n",
            "Valid Accuracy : 0.200\n"
          ]
        },
        {
          "output_type": "stream",
          "name": "stderr",
          "text": [
            "100%|██████████| 22/22 [00:03<00:00,  5.69it/s]\n"
          ]
        },
        {
          "output_type": "stream",
          "name": "stdout",
          "text": [
            "Train CrossEntropyLoss : 1.608\n",
            "Valid CrossEntropyLoss : 1.609\n",
            "Valid Accuracy : 0.203\n"
          ]
        },
        {
          "output_type": "stream",
          "name": "stderr",
          "text": [
            "100%|██████████| 22/22 [00:03<00:00,  5.68it/s]\n"
          ]
        },
        {
          "output_type": "stream",
          "name": "stdout",
          "text": [
            "Train CrossEntropyLoss : 1.607\n",
            "Valid CrossEntropyLoss : 1.608\n",
            "Valid Accuracy : 0.210\n"
          ]
        },
        {
          "output_type": "stream",
          "name": "stderr",
          "text": [
            "100%|██████████| 22/22 [00:03<00:00,  5.69it/s]\n"
          ]
        },
        {
          "output_type": "stream",
          "name": "stdout",
          "text": [
            "Train CrossEntropyLoss : 1.606\n",
            "Valid CrossEntropyLoss : 1.607\n",
            "Valid Accuracy : 0.212\n"
          ]
        },
        {
          "output_type": "stream",
          "name": "stderr",
          "text": [
            "100%|██████████| 22/22 [00:03<00:00,  5.67it/s]\n"
          ]
        },
        {
          "output_type": "stream",
          "name": "stdout",
          "text": [
            "Train CrossEntropyLoss : 1.604\n",
            "Valid CrossEntropyLoss : 1.607\n",
            "Valid Accuracy : 0.216\n"
          ]
        },
        {
          "output_type": "stream",
          "name": "stderr",
          "text": [
            "100%|██████████| 22/22 [00:03<00:00,  5.67it/s]\n"
          ]
        },
        {
          "output_type": "stream",
          "name": "stdout",
          "text": [
            "Train CrossEntropyLoss : 1.603\n",
            "Valid CrossEntropyLoss : 1.606\n",
            "Valid Accuracy : 0.219\n"
          ]
        },
        {
          "output_type": "stream",
          "name": "stderr",
          "text": [
            "100%|██████████| 22/22 [00:03<00:00,  5.65it/s]\n"
          ]
        },
        {
          "output_type": "stream",
          "name": "stdout",
          "text": [
            "Train CrossEntropyLoss : 1.602\n",
            "Valid CrossEntropyLoss : 1.605\n",
            "Valid Accuracy : 0.218\n"
          ]
        },
        {
          "output_type": "stream",
          "name": "stderr",
          "text": [
            "100%|██████████| 22/22 [00:04<00:00,  5.35it/s]\n"
          ]
        },
        {
          "output_type": "stream",
          "name": "stdout",
          "text": [
            "Train CrossEntropyLoss : 1.625\n",
            "Valid CrossEntropyLoss : 1.621\n",
            "Valid Accuracy : 0.214\n"
          ]
        },
        {
          "output_type": "stream",
          "name": "stderr",
          "text": [
            "100%|██████████| 22/22 [00:04<00:00,  5.50it/s]\n"
          ]
        },
        {
          "output_type": "stream",
          "name": "stdout",
          "text": [
            "Train CrossEntropyLoss : 1.623\n",
            "Valid CrossEntropyLoss : 1.619\n",
            "Valid Accuracy : 0.218\n"
          ]
        },
        {
          "output_type": "stream",
          "name": "stderr",
          "text": [
            "100%|██████████| 22/22 [00:03<00:00,  5.53it/s]\n"
          ]
        },
        {
          "output_type": "stream",
          "name": "stdout",
          "text": [
            "Train CrossEntropyLoss : 1.620\n",
            "Valid CrossEntropyLoss : 1.618\n",
            "Valid Accuracy : 0.223\n"
          ]
        },
        {
          "output_type": "stream",
          "name": "stderr",
          "text": [
            "100%|██████████| 22/22 [00:03<00:00,  5.57it/s]\n"
          ]
        },
        {
          "output_type": "stream",
          "name": "stdout",
          "text": [
            "Train CrossEntropyLoss : 1.618\n",
            "Valid CrossEntropyLoss : 1.617\n",
            "Valid Accuracy : 0.230\n"
          ]
        },
        {
          "output_type": "stream",
          "name": "stderr",
          "text": [
            "100%|██████████| 22/22 [00:03<00:00,  5.53it/s]\n"
          ]
        },
        {
          "output_type": "stream",
          "name": "stdout",
          "text": [
            "Train CrossEntropyLoss : 1.616\n",
            "Valid CrossEntropyLoss : 1.615\n",
            "Valid Accuracy : 0.232\n"
          ]
        },
        {
          "output_type": "stream",
          "name": "stderr",
          "text": [
            "100%|██████████| 22/22 [00:03<00:00,  5.52it/s]\n"
          ]
        },
        {
          "output_type": "stream",
          "name": "stdout",
          "text": [
            "Train CrossEntropyLoss : 1.615\n",
            "Valid CrossEntropyLoss : 1.614\n",
            "Valid Accuracy : 0.235\n"
          ]
        },
        {
          "output_type": "stream",
          "name": "stderr",
          "text": [
            "100%|██████████| 22/22 [00:03<00:00,  5.51it/s]\n"
          ]
        },
        {
          "output_type": "stream",
          "name": "stdout",
          "text": [
            "Train CrossEntropyLoss : 1.613\n",
            "Valid CrossEntropyLoss : 1.613\n",
            "Valid Accuracy : 0.234\n"
          ]
        },
        {
          "output_type": "stream",
          "name": "stderr",
          "text": [
            "100%|██████████| 22/22 [00:04<00:00,  5.48it/s]\n"
          ]
        },
        {
          "output_type": "stream",
          "name": "stdout",
          "text": [
            "Train CrossEntropyLoss : 1.612\n",
            "Valid CrossEntropyLoss : 1.612\n",
            "Valid Accuracy : 0.237\n"
          ]
        },
        {
          "output_type": "stream",
          "name": "stderr",
          "text": [
            "100%|██████████| 22/22 [00:04<00:00,  5.26it/s]\n"
          ]
        },
        {
          "output_type": "stream",
          "name": "stdout",
          "text": [
            "Train CrossEntropyLoss : 1.650\n",
            "Valid CrossEntropyLoss : 1.631\n",
            "Valid Accuracy : 0.179\n"
          ]
        },
        {
          "output_type": "stream",
          "name": "stderr",
          "text": [
            "100%|██████████| 22/22 [00:04<00:00,  5.49it/s]\n"
          ]
        },
        {
          "output_type": "stream",
          "name": "stdout",
          "text": [
            "Train CrossEntropyLoss : 1.644\n",
            "Valid CrossEntropyLoss : 1.627\n",
            "Valid Accuracy : 0.173\n"
          ]
        },
        {
          "output_type": "stream",
          "name": "stderr",
          "text": [
            "100%|██████████| 22/22 [00:04<00:00,  5.48it/s]\n"
          ]
        },
        {
          "output_type": "stream",
          "name": "stdout",
          "text": [
            "Train CrossEntropyLoss : 1.638\n",
            "Valid CrossEntropyLoss : 1.623\n",
            "Valid Accuracy : 0.166\n"
          ]
        },
        {
          "output_type": "stream",
          "name": "stderr",
          "text": [
            "100%|██████████| 22/22 [00:04<00:00,  5.46it/s]\n"
          ]
        },
        {
          "output_type": "stream",
          "name": "stdout",
          "text": [
            "Train CrossEntropyLoss : 1.634\n",
            "Valid CrossEntropyLoss : 1.621\n",
            "Valid Accuracy : 0.161\n"
          ]
        },
        {
          "output_type": "stream",
          "name": "stderr",
          "text": [
            "100%|██████████| 22/22 [00:04<00:00,  5.49it/s]\n"
          ]
        },
        {
          "output_type": "stream",
          "name": "stdout",
          "text": [
            "Train CrossEntropyLoss : 1.630\n",
            "Valid CrossEntropyLoss : 1.618\n",
            "Valid Accuracy : 0.161\n"
          ]
        },
        {
          "output_type": "stream",
          "name": "stderr",
          "text": [
            "100%|██████████| 22/22 [00:04<00:00,  5.46it/s]\n"
          ]
        },
        {
          "output_type": "stream",
          "name": "stdout",
          "text": [
            "Train CrossEntropyLoss : 1.627\n",
            "Valid CrossEntropyLoss : 1.616\n",
            "Valid Accuracy : 0.166\n"
          ]
        },
        {
          "output_type": "stream",
          "name": "stderr",
          "text": [
            "100%|██████████| 22/22 [00:04<00:00,  5.43it/s]\n"
          ]
        },
        {
          "output_type": "stream",
          "name": "stdout",
          "text": [
            "Train CrossEntropyLoss : 1.624\n",
            "Valid CrossEntropyLoss : 1.615\n",
            "Valid Accuracy : 0.173\n"
          ]
        },
        {
          "output_type": "stream",
          "name": "stderr",
          "text": [
            "100%|██████████| 22/22 [00:04<00:00,  5.48it/s]\n"
          ]
        },
        {
          "output_type": "stream",
          "name": "stdout",
          "text": [
            "Train CrossEntropyLoss : 1.621\n",
            "Valid CrossEntropyLoss : 1.613\n",
            "Valid Accuracy : 0.170\n"
          ]
        },
        {
          "output_type": "stream",
          "name": "stderr",
          "text": [
            "100%|██████████| 22/22 [00:04<00:00,  5.28it/s]\n"
          ]
        },
        {
          "output_type": "stream",
          "name": "stdout",
          "text": [
            "Train CrossEntropyLoss : 1.613\n",
            "Valid CrossEntropyLoss : 1.609\n",
            "Valid Accuracy : 0.230\n"
          ]
        },
        {
          "output_type": "stream",
          "name": "stderr",
          "text": [
            "100%|██████████| 22/22 [00:04<00:00,  5.47it/s]\n"
          ]
        },
        {
          "output_type": "stream",
          "name": "stdout",
          "text": [
            "Train CrossEntropyLoss : 1.612\n",
            "Valid CrossEntropyLoss : 1.607\n",
            "Valid Accuracy : 0.229\n"
          ]
        },
        {
          "output_type": "stream",
          "name": "stderr",
          "text": [
            "100%|██████████| 22/22 [00:04<00:00,  5.42it/s]\n"
          ]
        },
        {
          "output_type": "stream",
          "name": "stdout",
          "text": [
            "Train CrossEntropyLoss : 1.610\n",
            "Valid CrossEntropyLoss : 1.606\n",
            "Valid Accuracy : 0.228\n"
          ]
        },
        {
          "output_type": "stream",
          "name": "stderr",
          "text": [
            "100%|██████████| 22/22 [00:04<00:00,  5.41it/s]\n"
          ]
        },
        {
          "output_type": "stream",
          "name": "stdout",
          "text": [
            "Train CrossEntropyLoss : 1.609\n",
            "Valid CrossEntropyLoss : 1.605\n",
            "Valid Accuracy : 0.229\n"
          ]
        },
        {
          "output_type": "stream",
          "name": "stderr",
          "text": [
            "100%|██████████| 22/22 [00:04<00:00,  5.42it/s]\n"
          ]
        },
        {
          "output_type": "stream",
          "name": "stdout",
          "text": [
            "Train CrossEntropyLoss : 1.608\n",
            "Valid CrossEntropyLoss : 1.604\n",
            "Valid Accuracy : 0.236\n"
          ]
        },
        {
          "output_type": "stream",
          "name": "stderr",
          "text": [
            "100%|██████████| 22/22 [00:04<00:00,  5.41it/s]\n"
          ]
        },
        {
          "output_type": "stream",
          "name": "stdout",
          "text": [
            "Train CrossEntropyLoss : 1.607\n",
            "Valid CrossEntropyLoss : 1.603\n",
            "Valid Accuracy : 0.237\n"
          ]
        },
        {
          "output_type": "stream",
          "name": "stderr",
          "text": [
            "100%|██████████| 22/22 [00:04<00:00,  5.43it/s]\n"
          ]
        },
        {
          "output_type": "stream",
          "name": "stdout",
          "text": [
            "Train CrossEntropyLoss : 1.606\n",
            "Valid CrossEntropyLoss : 1.602\n",
            "Valid Accuracy : 0.239\n"
          ]
        },
        {
          "output_type": "stream",
          "name": "stderr",
          "text": [
            "100%|██████████| 22/22 [00:04<00:00,  5.46it/s]\n"
          ]
        },
        {
          "output_type": "stream",
          "name": "stdout",
          "text": [
            "Train CrossEntropyLoss : 1.605\n",
            "Valid CrossEntropyLoss : 1.602\n",
            "Valid Accuracy : 0.239\n"
          ]
        },
        {
          "output_type": "stream",
          "name": "stderr",
          "text": [
            "100%|██████████| 22/22 [00:04<00:00,  5.14it/s]\n"
          ]
        },
        {
          "output_type": "stream",
          "name": "stdout",
          "text": [
            "Train CrossEntropyLoss : 1.635\n",
            "Valid CrossEntropyLoss : 1.625\n",
            "Valid Accuracy : 0.195\n"
          ]
        },
        {
          "output_type": "stream",
          "name": "stderr",
          "text": [
            "100%|██████████| 22/22 [00:04<00:00,  5.37it/s]\n"
          ]
        },
        {
          "output_type": "stream",
          "name": "stdout",
          "text": [
            "Train CrossEntropyLoss : 1.615\n",
            "Valid CrossEntropyLoss : 1.615\n",
            "Valid Accuracy : 0.219\n"
          ]
        },
        {
          "output_type": "stream",
          "name": "stderr",
          "text": [
            "100%|██████████| 22/22 [00:04<00:00,  5.34it/s]\n"
          ]
        },
        {
          "output_type": "stream",
          "name": "stdout",
          "text": [
            "Train CrossEntropyLoss : 1.605\n",
            "Valid CrossEntropyLoss : 1.609\n",
            "Valid Accuracy : 0.235\n"
          ]
        },
        {
          "output_type": "stream",
          "name": "stderr",
          "text": [
            "100%|██████████| 22/22 [00:04<00:00,  5.32it/s]\n"
          ]
        },
        {
          "output_type": "stream",
          "name": "stdout",
          "text": [
            "Train CrossEntropyLoss : 1.600\n",
            "Valid CrossEntropyLoss : 1.606\n",
            "Valid Accuracy : 0.250\n"
          ]
        },
        {
          "output_type": "stream",
          "name": "stderr",
          "text": [
            "100%|██████████| 22/22 [00:04<00:00,  5.36it/s]\n"
          ]
        },
        {
          "output_type": "stream",
          "name": "stdout",
          "text": [
            "Train CrossEntropyLoss : 1.596\n",
            "Valid CrossEntropyLoss : 1.603\n",
            "Valid Accuracy : 0.259\n"
          ]
        },
        {
          "output_type": "stream",
          "name": "stderr",
          "text": [
            "100%|██████████| 22/22 [00:04<00:00,  5.32it/s]\n"
          ]
        },
        {
          "output_type": "stream",
          "name": "stdout",
          "text": [
            "Train CrossEntropyLoss : 1.593\n",
            "Valid CrossEntropyLoss : 1.600\n",
            "Valid Accuracy : 0.269\n"
          ]
        },
        {
          "output_type": "stream",
          "name": "stderr",
          "text": [
            "100%|██████████| 22/22 [00:04<00:00,  5.35it/s]\n"
          ]
        },
        {
          "output_type": "stream",
          "name": "stdout",
          "text": [
            "Train CrossEntropyLoss : 1.590\n",
            "Valid CrossEntropyLoss : 1.598\n",
            "Valid Accuracy : 0.272\n"
          ]
        },
        {
          "output_type": "stream",
          "name": "stderr",
          "text": [
            "100%|██████████| 22/22 [00:04<00:00,  5.37it/s]\n"
          ]
        },
        {
          "output_type": "stream",
          "name": "stdout",
          "text": [
            "Train CrossEntropyLoss : 1.587\n",
            "Valid CrossEntropyLoss : 1.595\n",
            "Valid Accuracy : 0.278\n"
          ]
        },
        {
          "output_type": "stream",
          "name": "stderr",
          "text": [
            "100%|██████████| 22/22 [00:04<00:00,  5.23it/s]\n"
          ]
        },
        {
          "output_type": "stream",
          "name": "stdout",
          "text": [
            "Train CrossEntropyLoss : 1.615\n",
            "Valid CrossEntropyLoss : 1.604\n",
            "Valid Accuracy : 0.210\n"
          ]
        },
        {
          "output_type": "stream",
          "name": "stderr",
          "text": [
            "100%|██████████| 22/22 [00:04<00:00,  5.44it/s]\n"
          ]
        },
        {
          "output_type": "stream",
          "name": "stdout",
          "text": [
            "Train CrossEntropyLoss : 1.607\n",
            "Valid CrossEntropyLoss : 1.600\n",
            "Valid Accuracy : 0.231\n"
          ]
        },
        {
          "output_type": "stream",
          "name": "stderr",
          "text": [
            "100%|██████████| 22/22 [00:04<00:00,  5.44it/s]\n"
          ]
        },
        {
          "output_type": "stream",
          "name": "stdout",
          "text": [
            "Train CrossEntropyLoss : 1.601\n",
            "Valid CrossEntropyLoss : 1.597\n",
            "Valid Accuracy : 0.242\n"
          ]
        },
        {
          "output_type": "stream",
          "name": "stderr",
          "text": [
            "100%|██████████| 22/22 [00:04<00:00,  5.43it/s]\n"
          ]
        },
        {
          "output_type": "stream",
          "name": "stdout",
          "text": [
            "Train CrossEntropyLoss : 1.597\n",
            "Valid CrossEntropyLoss : 1.595\n",
            "Valid Accuracy : 0.250\n"
          ]
        },
        {
          "output_type": "stream",
          "name": "stderr",
          "text": [
            "100%|██████████| 22/22 [00:04<00:00,  5.45it/s]\n"
          ]
        },
        {
          "output_type": "stream",
          "name": "stdout",
          "text": [
            "Train CrossEntropyLoss : 1.593\n",
            "Valid CrossEntropyLoss : 1.592\n",
            "Valid Accuracy : 0.259\n"
          ]
        },
        {
          "output_type": "stream",
          "name": "stderr",
          "text": [
            "100%|██████████| 22/22 [00:04<00:00,  5.46it/s]\n"
          ]
        },
        {
          "output_type": "stream",
          "name": "stdout",
          "text": [
            "Train CrossEntropyLoss : 1.590\n",
            "Valid CrossEntropyLoss : 1.590\n",
            "Valid Accuracy : 0.269\n"
          ]
        },
        {
          "output_type": "stream",
          "name": "stderr",
          "text": [
            "100%|██████████| 22/22 [00:04<00:00,  5.44it/s]\n"
          ]
        },
        {
          "output_type": "stream",
          "name": "stdout",
          "text": [
            "Train CrossEntropyLoss : 1.587\n",
            "Valid CrossEntropyLoss : 1.588\n",
            "Valid Accuracy : 0.279\n"
          ]
        },
        {
          "output_type": "stream",
          "name": "stderr",
          "text": [
            "100%|██████████| 22/22 [00:04<00:00,  5.40it/s]\n"
          ]
        },
        {
          "output_type": "stream",
          "name": "stdout",
          "text": [
            "Train CrossEntropyLoss : 1.583\n",
            "Valid CrossEntropyLoss : 1.585\n",
            "Valid Accuracy : 0.289\n"
          ]
        },
        {
          "output_type": "stream",
          "name": "stderr",
          "text": [
            "100%|██████████| 22/22 [00:04<00:00,  5.26it/s]\n"
          ]
        },
        {
          "output_type": "stream",
          "name": "stdout",
          "text": [
            "Train CrossEntropyLoss : 1.656\n",
            "Valid CrossEntropyLoss : 1.636\n",
            "Valid Accuracy : 0.216\n"
          ]
        },
        {
          "output_type": "stream",
          "name": "stderr",
          "text": [
            "100%|██████████| 22/22 [00:04<00:00,  5.48it/s]\n"
          ]
        },
        {
          "output_type": "stream",
          "name": "stdout",
          "text": [
            "Train CrossEntropyLoss : 1.633\n",
            "Valid CrossEntropyLoss : 1.621\n",
            "Valid Accuracy : 0.219\n"
          ]
        },
        {
          "output_type": "stream",
          "name": "stderr",
          "text": [
            "100%|██████████| 22/22 [00:04<00:00,  5.43it/s]\n"
          ]
        },
        {
          "output_type": "stream",
          "name": "stdout",
          "text": [
            "Train CrossEntropyLoss : 1.619\n",
            "Valid CrossEntropyLoss : 1.612\n",
            "Valid Accuracy : 0.222\n"
          ]
        },
        {
          "output_type": "stream",
          "name": "stderr",
          "text": [
            "100%|██████████| 22/22 [00:04<00:00,  5.45it/s]\n"
          ]
        },
        {
          "output_type": "stream",
          "name": "stdout",
          "text": [
            "Train CrossEntropyLoss : 1.610\n",
            "Valid CrossEntropyLoss : 1.606\n",
            "Valid Accuracy : 0.225\n"
          ]
        },
        {
          "output_type": "stream",
          "name": "stderr",
          "text": [
            "100%|██████████| 22/22 [00:04<00:00,  5.46it/s]\n"
          ]
        },
        {
          "output_type": "stream",
          "name": "stdout",
          "text": [
            "Train CrossEntropyLoss : 1.604\n",
            "Valid CrossEntropyLoss : 1.602\n",
            "Valid Accuracy : 0.230\n"
          ]
        },
        {
          "output_type": "stream",
          "name": "stderr",
          "text": [
            "100%|██████████| 22/22 [00:04<00:00,  5.48it/s]\n"
          ]
        },
        {
          "output_type": "stream",
          "name": "stdout",
          "text": [
            "Train CrossEntropyLoss : 1.599\n",
            "Valid CrossEntropyLoss : 1.598\n",
            "Valid Accuracy : 0.238\n"
          ]
        },
        {
          "output_type": "stream",
          "name": "stderr",
          "text": [
            "100%|██████████| 22/22 [00:04<00:00,  5.27it/s]\n"
          ]
        },
        {
          "output_type": "stream",
          "name": "stdout",
          "text": [
            "Train CrossEntropyLoss : 1.594\n",
            "Valid CrossEntropyLoss : 1.595\n",
            "Valid Accuracy : 0.245\n"
          ]
        },
        {
          "output_type": "stream",
          "name": "stderr",
          "text": [
            "100%|██████████| 22/22 [00:04<00:00,  5.49it/s]\n"
          ]
        },
        {
          "output_type": "stream",
          "name": "stdout",
          "text": [
            "Train CrossEntropyLoss : 1.591\n",
            "Valid CrossEntropyLoss : 1.592\n",
            "Valid Accuracy : 0.250\n"
          ]
        },
        {
          "output_type": "stream",
          "name": "stderr",
          "text": [
            "100%|██████████| 22/22 [00:04<00:00,  5.26it/s]\n"
          ]
        },
        {
          "output_type": "stream",
          "name": "stdout",
          "text": [
            "Train CrossEntropyLoss : 1.622\n",
            "Valid CrossEntropyLoss : 1.618\n",
            "Valid Accuracy : 0.235\n"
          ]
        },
        {
          "output_type": "stream",
          "name": "stderr",
          "text": [
            "100%|██████████| 22/22 [00:04<00:00,  5.45it/s]\n"
          ]
        },
        {
          "output_type": "stream",
          "name": "stdout",
          "text": [
            "Train CrossEntropyLoss : 1.614\n",
            "Valid CrossEntropyLoss : 1.613\n",
            "Valid Accuracy : 0.237\n"
          ]
        },
        {
          "output_type": "stream",
          "name": "stderr",
          "text": [
            "100%|██████████| 22/22 [00:04<00:00,  5.40it/s]\n"
          ]
        },
        {
          "output_type": "stream",
          "name": "stdout",
          "text": [
            "Train CrossEntropyLoss : 1.609\n",
            "Valid CrossEntropyLoss : 1.609\n",
            "Valid Accuracy : 0.246\n"
          ]
        },
        {
          "output_type": "stream",
          "name": "stderr",
          "text": [
            "100%|██████████| 22/22 [00:04<00:00,  5.42it/s]\n"
          ]
        },
        {
          "output_type": "stream",
          "name": "stdout",
          "text": [
            "Train CrossEntropyLoss : 1.604\n",
            "Valid CrossEntropyLoss : 1.607\n",
            "Valid Accuracy : 0.260\n"
          ]
        },
        {
          "output_type": "stream",
          "name": "stderr",
          "text": [
            "100%|██████████| 22/22 [00:04<00:00,  5.39it/s]\n"
          ]
        },
        {
          "output_type": "stream",
          "name": "stdout",
          "text": [
            "Train CrossEntropyLoss : 1.601\n",
            "Valid CrossEntropyLoss : 1.604\n",
            "Valid Accuracy : 0.265\n"
          ]
        },
        {
          "output_type": "stream",
          "name": "stderr",
          "text": [
            "100%|██████████| 22/22 [00:04<00:00,  5.38it/s]\n"
          ]
        },
        {
          "output_type": "stream",
          "name": "stdout",
          "text": [
            "Train CrossEntropyLoss : 1.598\n",
            "Valid CrossEntropyLoss : 1.602\n",
            "Valid Accuracy : 0.274\n"
          ]
        },
        {
          "output_type": "stream",
          "name": "stderr",
          "text": [
            "100%|██████████| 22/22 [00:04<00:00,  5.40it/s]\n"
          ]
        },
        {
          "output_type": "stream",
          "name": "stdout",
          "text": [
            "Train CrossEntropyLoss : 1.595\n",
            "Valid CrossEntropyLoss : 1.600\n",
            "Valid Accuracy : 0.283\n"
          ]
        },
        {
          "output_type": "stream",
          "name": "stderr",
          "text": [
            "100%|██████████| 22/22 [00:04<00:00,  5.39it/s]\n"
          ]
        },
        {
          "output_type": "stream",
          "name": "stdout",
          "text": [
            "Train CrossEntropyLoss : 1.592\n",
            "Valid CrossEntropyLoss : 1.598\n",
            "Valid Accuracy : 0.291\n"
          ]
        },
        {
          "output_type": "stream",
          "name": "stderr",
          "text": [
            "100%|██████████| 22/22 [00:04<00:00,  5.24it/s]\n"
          ]
        },
        {
          "output_type": "stream",
          "name": "stdout",
          "text": [
            "Train CrossEntropyLoss : 1.620\n",
            "Valid CrossEntropyLoss : 1.615\n",
            "Valid Accuracy : 0.203\n"
          ]
        },
        {
          "output_type": "stream",
          "name": "stderr",
          "text": [
            "100%|██████████| 22/22 [00:04<00:00,  5.48it/s]\n"
          ]
        },
        {
          "output_type": "stream",
          "name": "stdout",
          "text": [
            "Train CrossEntropyLoss : 1.611\n",
            "Valid CrossEntropyLoss : 1.610\n",
            "Valid Accuracy : 0.225\n"
          ]
        },
        {
          "output_type": "stream",
          "name": "stderr",
          "text": [
            "100%|██████████| 22/22 [00:04<00:00,  5.43it/s]\n"
          ]
        },
        {
          "output_type": "stream",
          "name": "stdout",
          "text": [
            "Train CrossEntropyLoss : 1.604\n",
            "Valid CrossEntropyLoss : 1.605\n",
            "Valid Accuracy : 0.243\n"
          ]
        },
        {
          "output_type": "stream",
          "name": "stderr",
          "text": [
            "100%|██████████| 22/22 [00:04<00:00,  4.74it/s]\n"
          ]
        },
        {
          "output_type": "stream",
          "name": "stdout",
          "text": [
            "Train CrossEntropyLoss : 1.598\n",
            "Valid CrossEntropyLoss : 1.601\n",
            "Valid Accuracy : 0.256\n"
          ]
        },
        {
          "output_type": "stream",
          "name": "stderr",
          "text": [
            "100%|██████████| 22/22 [00:04<00:00,  5.40it/s]\n"
          ]
        },
        {
          "output_type": "stream",
          "name": "stdout",
          "text": [
            "Train CrossEntropyLoss : 1.592\n",
            "Valid CrossEntropyLoss : 1.597\n",
            "Valid Accuracy : 0.266\n"
          ]
        },
        {
          "output_type": "stream",
          "name": "stderr",
          "text": [
            "100%|██████████| 22/22 [00:04<00:00,  5.40it/s]\n"
          ]
        },
        {
          "output_type": "stream",
          "name": "stdout",
          "text": [
            "Train CrossEntropyLoss : 1.588\n",
            "Valid CrossEntropyLoss : 1.594\n",
            "Valid Accuracy : 0.281\n"
          ]
        },
        {
          "output_type": "stream",
          "name": "stderr",
          "text": [
            "100%|██████████| 22/22 [00:04<00:00,  5.46it/s]\n"
          ]
        },
        {
          "output_type": "stream",
          "name": "stdout",
          "text": [
            "Train CrossEntropyLoss : 1.584\n",
            "Valid CrossEntropyLoss : 1.591\n",
            "Valid Accuracy : 0.290\n"
          ]
        },
        {
          "output_type": "stream",
          "name": "stderr",
          "text": [
            "100%|██████████| 22/22 [00:04<00:00,  5.47it/s]\n"
          ]
        },
        {
          "output_type": "stream",
          "name": "stdout",
          "text": [
            "Train CrossEntropyLoss : 1.581\n",
            "Valid CrossEntropyLoss : 1.589\n",
            "Valid Accuracy : 0.302\n"
          ]
        },
        {
          "output_type": "stream",
          "name": "stderr",
          "text": [
            "100%|██████████| 22/22 [00:04<00:00,  5.29it/s]\n"
          ]
        },
        {
          "output_type": "stream",
          "name": "stdout",
          "text": [
            "Train CrossEntropyLoss : 1.618\n",
            "Valid CrossEntropyLoss : 1.606\n",
            "Valid Accuracy : 0.228\n"
          ]
        },
        {
          "output_type": "stream",
          "name": "stderr",
          "text": [
            "100%|██████████| 22/22 [00:04<00:00,  5.44it/s]\n"
          ]
        },
        {
          "output_type": "stream",
          "name": "stdout",
          "text": [
            "Train CrossEntropyLoss : 1.591\n",
            "Valid CrossEntropyLoss : 1.590\n",
            "Valid Accuracy : 0.288\n"
          ]
        },
        {
          "output_type": "stream",
          "name": "stderr",
          "text": [
            "100%|██████████| 22/22 [00:04<00:00,  5.40it/s]\n"
          ]
        },
        {
          "output_type": "stream",
          "name": "stdout",
          "text": [
            "Train CrossEntropyLoss : 1.576\n",
            "Valid CrossEntropyLoss : 1.578\n",
            "Valid Accuracy : 0.334\n"
          ]
        },
        {
          "output_type": "stream",
          "name": "stderr",
          "text": [
            "100%|██████████| 22/22 [00:04<00:00,  5.40it/s]\n"
          ]
        },
        {
          "output_type": "stream",
          "name": "stdout",
          "text": [
            "Train CrossEntropyLoss : 1.563\n",
            "Valid CrossEntropyLoss : 1.567\n",
            "Valid Accuracy : 0.377\n"
          ]
        },
        {
          "output_type": "stream",
          "name": "stderr",
          "text": [
            "100%|██████████| 22/22 [00:04<00:00,  5.45it/s]\n"
          ]
        },
        {
          "output_type": "stream",
          "name": "stdout",
          "text": [
            "Train CrossEntropyLoss : 1.550\n",
            "Valid CrossEntropyLoss : 1.555\n",
            "Valid Accuracy : 0.404\n"
          ]
        },
        {
          "output_type": "stream",
          "name": "stderr",
          "text": [
            "100%|██████████| 22/22 [00:04<00:00,  5.38it/s]\n"
          ]
        },
        {
          "output_type": "stream",
          "name": "stdout",
          "text": [
            "Train CrossEntropyLoss : 1.536\n",
            "Valid CrossEntropyLoss : 1.542\n",
            "Valid Accuracy : 0.430\n"
          ]
        },
        {
          "output_type": "stream",
          "name": "stderr",
          "text": [
            "100%|██████████| 22/22 [00:04<00:00,  5.44it/s]\n"
          ]
        },
        {
          "output_type": "stream",
          "name": "stdout",
          "text": [
            "Train CrossEntropyLoss : 1.521\n",
            "Valid CrossEntropyLoss : 1.528\n",
            "Valid Accuracy : 0.446\n"
          ]
        },
        {
          "output_type": "stream",
          "name": "stderr",
          "text": [
            "100%|██████████| 22/22 [00:04<00:00,  5.41it/s]\n"
          ]
        },
        {
          "output_type": "stream",
          "name": "stdout",
          "text": [
            "Train CrossEntropyLoss : 1.504\n",
            "Valid CrossEntropyLoss : 1.512\n",
            "Valid Accuracy : 0.467\n"
          ]
        },
        {
          "output_type": "stream",
          "name": "stderr",
          "text": [
            "100%|██████████| 22/22 [00:04<00:00,  5.29it/s]\n"
          ]
        },
        {
          "output_type": "stream",
          "name": "stdout",
          "text": [
            "Train CrossEntropyLoss : 1.598\n",
            "Valid CrossEntropyLoss : 1.595\n",
            "Valid Accuracy : 0.247\n"
          ]
        },
        {
          "output_type": "stream",
          "name": "stderr",
          "text": [
            "100%|██████████| 22/22 [00:04<00:00,  5.47it/s]\n"
          ]
        },
        {
          "output_type": "stream",
          "name": "stdout",
          "text": [
            "Train CrossEntropyLoss : 1.581\n",
            "Valid CrossEntropyLoss : 1.583\n",
            "Valid Accuracy : 0.281\n"
          ]
        },
        {
          "output_type": "stream",
          "name": "stderr",
          "text": [
            "100%|██████████| 22/22 [00:04<00:00,  5.49it/s]\n"
          ]
        },
        {
          "output_type": "stream",
          "name": "stdout",
          "text": [
            "Train CrossEntropyLoss : 1.567\n",
            "Valid CrossEntropyLoss : 1.572\n",
            "Valid Accuracy : 0.305\n"
          ]
        },
        {
          "output_type": "stream",
          "name": "stderr",
          "text": [
            "100%|██████████| 22/22 [00:04<00:00,  5.47it/s]\n"
          ]
        },
        {
          "output_type": "stream",
          "name": "stdout",
          "text": [
            "Train CrossEntropyLoss : 1.554\n",
            "Valid CrossEntropyLoss : 1.559\n",
            "Valid Accuracy : 0.329\n"
          ]
        },
        {
          "output_type": "stream",
          "name": "stderr",
          "text": [
            "100%|██████████| 22/22 [00:04<00:00,  5.40it/s]\n"
          ]
        },
        {
          "output_type": "stream",
          "name": "stdout",
          "text": [
            "Train CrossEntropyLoss : 1.540\n",
            "Valid CrossEntropyLoss : 1.546\n",
            "Valid Accuracy : 0.351\n"
          ]
        },
        {
          "output_type": "stream",
          "name": "stderr",
          "text": [
            "100%|██████████| 22/22 [00:04<00:00,  5.44it/s]\n"
          ]
        },
        {
          "output_type": "stream",
          "name": "stdout",
          "text": [
            "Train CrossEntropyLoss : 1.526\n",
            "Valid CrossEntropyLoss : 1.533\n",
            "Valid Accuracy : 0.382\n"
          ]
        },
        {
          "output_type": "stream",
          "name": "stderr",
          "text": [
            "100%|██████████| 22/22 [00:04<00:00,  5.45it/s]\n"
          ]
        },
        {
          "output_type": "stream",
          "name": "stdout",
          "text": [
            "Train CrossEntropyLoss : 1.510\n",
            "Valid CrossEntropyLoss : 1.518\n",
            "Valid Accuracy : 0.409\n"
          ]
        },
        {
          "output_type": "stream",
          "name": "stderr",
          "text": [
            "100%|██████████| 22/22 [00:03<00:00,  5.51it/s]\n"
          ]
        },
        {
          "output_type": "stream",
          "name": "stdout",
          "text": [
            "Train CrossEntropyLoss : 1.493\n",
            "Valid CrossEntropyLoss : 1.503\n",
            "Valid Accuracy : 0.425\n"
          ]
        },
        {
          "output_type": "stream",
          "name": "stderr",
          "text": [
            "100%|██████████| 22/22 [00:04<00:00,  5.36it/s]\n"
          ]
        },
        {
          "output_type": "stream",
          "name": "stdout",
          "text": [
            "Train CrossEntropyLoss : 1.607\n",
            "Valid CrossEntropyLoss : 1.600\n",
            "Valid Accuracy : 0.241\n"
          ]
        },
        {
          "output_type": "stream",
          "name": "stderr",
          "text": [
            "100%|██████████| 22/22 [00:04<00:00,  5.45it/s]\n"
          ]
        },
        {
          "output_type": "stream",
          "name": "stdout",
          "text": [
            "Train CrossEntropyLoss : 1.589\n",
            "Valid CrossEntropyLoss : 1.591\n",
            "Valid Accuracy : 0.267\n"
          ]
        },
        {
          "output_type": "stream",
          "name": "stderr",
          "text": [
            "100%|██████████| 22/22 [00:04<00:00,  5.47it/s]\n"
          ]
        },
        {
          "output_type": "stream",
          "name": "stdout",
          "text": [
            "Train CrossEntropyLoss : 1.578\n",
            "Valid CrossEntropyLoss : 1.583\n",
            "Valid Accuracy : 0.292\n"
          ]
        },
        {
          "output_type": "stream",
          "name": "stderr",
          "text": [
            "100%|██████████| 22/22 [00:03<00:00,  5.50it/s]\n"
          ]
        },
        {
          "output_type": "stream",
          "name": "stdout",
          "text": [
            "Train CrossEntropyLoss : 1.568\n",
            "Valid CrossEntropyLoss : 1.574\n",
            "Valid Accuracy : 0.311\n"
          ]
        },
        {
          "output_type": "stream",
          "name": "stderr",
          "text": [
            "100%|██████████| 22/22 [00:04<00:00,  5.47it/s]\n"
          ]
        },
        {
          "output_type": "stream",
          "name": "stdout",
          "text": [
            "Train CrossEntropyLoss : 1.557\n",
            "Valid CrossEntropyLoss : 1.565\n",
            "Valid Accuracy : 0.337\n"
          ]
        },
        {
          "output_type": "stream",
          "name": "stderr",
          "text": [
            "100%|██████████| 22/22 [00:03<00:00,  5.52it/s]\n"
          ]
        },
        {
          "output_type": "stream",
          "name": "stdout",
          "text": [
            "Train CrossEntropyLoss : 1.546\n",
            "Valid CrossEntropyLoss : 1.554\n",
            "Valid Accuracy : 0.356\n"
          ]
        },
        {
          "output_type": "stream",
          "name": "stderr",
          "text": [
            "100%|██████████| 22/22 [00:04<00:00,  5.48it/s]\n"
          ]
        },
        {
          "output_type": "stream",
          "name": "stdout",
          "text": [
            "Train CrossEntropyLoss : 1.533\n",
            "Valid CrossEntropyLoss : 1.543\n",
            "Valid Accuracy : 0.379\n"
          ]
        },
        {
          "output_type": "stream",
          "name": "stderr",
          "text": [
            "100%|██████████| 22/22 [00:04<00:00,  5.49it/s]\n"
          ]
        },
        {
          "output_type": "stream",
          "name": "stdout",
          "text": [
            "Train CrossEntropyLoss : 1.519\n",
            "Valid CrossEntropyLoss : 1.530\n",
            "Valid Accuracy : 0.405\n"
          ]
        },
        {
          "output_type": "stream",
          "name": "stderr",
          "text": [
            "100%|██████████| 22/22 [00:04<00:00,  5.38it/s]\n"
          ]
        },
        {
          "output_type": "stream",
          "name": "stdout",
          "text": [
            "Train CrossEntropyLoss : 1.600\n",
            "Valid CrossEntropyLoss : 1.600\n",
            "Valid Accuracy : 0.267\n"
          ]
        },
        {
          "output_type": "stream",
          "name": "stderr",
          "text": [
            "100%|██████████| 22/22 [00:04<00:00,  5.47it/s]\n"
          ]
        },
        {
          "output_type": "stream",
          "name": "stdout",
          "text": [
            "Train CrossEntropyLoss : 1.583\n",
            "Valid CrossEntropyLoss : 1.590\n",
            "Valid Accuracy : 0.313\n"
          ]
        },
        {
          "output_type": "stream",
          "name": "stderr",
          "text": [
            "100%|██████████| 22/22 [00:03<00:00,  5.51it/s]\n"
          ]
        },
        {
          "output_type": "stream",
          "name": "stdout",
          "text": [
            "Train CrossEntropyLoss : 1.571\n",
            "Valid CrossEntropyLoss : 1.581\n",
            "Valid Accuracy : 0.342\n"
          ]
        },
        {
          "output_type": "stream",
          "name": "stderr",
          "text": [
            "100%|██████████| 22/22 [00:04<00:00,  5.47it/s]\n"
          ]
        },
        {
          "output_type": "stream",
          "name": "stdout",
          "text": [
            "Train CrossEntropyLoss : 1.560\n",
            "Valid CrossEntropyLoss : 1.572\n",
            "Valid Accuracy : 0.364\n"
          ]
        },
        {
          "output_type": "stream",
          "name": "stderr",
          "text": [
            "100%|██████████| 22/22 [00:04<00:00,  5.49it/s]\n"
          ]
        },
        {
          "output_type": "stream",
          "name": "stdout",
          "text": [
            "Train CrossEntropyLoss : 1.549\n",
            "Valid CrossEntropyLoss : 1.562\n",
            "Valid Accuracy : 0.384\n"
          ]
        },
        {
          "output_type": "stream",
          "name": "stderr",
          "text": [
            "100%|██████████| 22/22 [00:04<00:00,  5.49it/s]\n"
          ]
        },
        {
          "output_type": "stream",
          "name": "stdout",
          "text": [
            "Train CrossEntropyLoss : 1.538\n",
            "Valid CrossEntropyLoss : 1.551\n",
            "Valid Accuracy : 0.413\n"
          ]
        },
        {
          "output_type": "stream",
          "name": "stderr",
          "text": [
            "100%|██████████| 22/22 [00:03<00:00,  5.50it/s]\n"
          ]
        },
        {
          "output_type": "stream",
          "name": "stdout",
          "text": [
            "Train CrossEntropyLoss : 1.525\n",
            "Valid CrossEntropyLoss : 1.539\n",
            "Valid Accuracy : 0.431\n"
          ]
        },
        {
          "output_type": "stream",
          "name": "stderr",
          "text": [
            "100%|██████████| 22/22 [00:03<00:00,  5.50it/s]\n"
          ]
        },
        {
          "output_type": "stream",
          "name": "stdout",
          "text": [
            "Train CrossEntropyLoss : 1.511\n",
            "Valid CrossEntropyLoss : 1.525\n",
            "Valid Accuracy : 0.447\n"
          ]
        },
        {
          "output_type": "stream",
          "name": "stderr",
          "text": [
            "100%|██████████| 22/22 [00:04<00:00,  5.29it/s]\n"
          ]
        },
        {
          "output_type": "stream",
          "name": "stdout",
          "text": [
            "Train CrossEntropyLoss : 1.624\n",
            "Valid CrossEntropyLoss : 1.605\n",
            "Valid Accuracy : 0.245\n"
          ]
        },
        {
          "output_type": "stream",
          "name": "stderr",
          "text": [
            "100%|██████████| 22/22 [00:04<00:00,  4.82it/s]\n"
          ]
        },
        {
          "output_type": "stream",
          "name": "stdout",
          "text": [
            "Train CrossEntropyLoss : 1.593\n",
            "Valid CrossEntropyLoss : 1.586\n",
            "Valid Accuracy : 0.292\n"
          ]
        },
        {
          "output_type": "stream",
          "name": "stderr",
          "text": [
            "100%|██████████| 22/22 [00:03<00:00,  5.51it/s]\n"
          ]
        },
        {
          "output_type": "stream",
          "name": "stdout",
          "text": [
            "Train CrossEntropyLoss : 1.574\n",
            "Valid CrossEntropyLoss : 1.573\n",
            "Valid Accuracy : 0.332\n"
          ]
        },
        {
          "output_type": "stream",
          "name": "stderr",
          "text": [
            "100%|██████████| 22/22 [00:03<00:00,  5.54it/s]\n"
          ]
        },
        {
          "output_type": "stream",
          "name": "stdout",
          "text": [
            "Train CrossEntropyLoss : 1.559\n",
            "Valid CrossEntropyLoss : 1.560\n",
            "Valid Accuracy : 0.362\n"
          ]
        },
        {
          "output_type": "stream",
          "name": "stderr",
          "text": [
            "100%|██████████| 22/22 [00:04<00:00,  5.49it/s]\n"
          ]
        },
        {
          "output_type": "stream",
          "name": "stdout",
          "text": [
            "Train CrossEntropyLoss : 1.545\n",
            "Valid CrossEntropyLoss : 1.547\n",
            "Valid Accuracy : 0.399\n"
          ]
        },
        {
          "output_type": "stream",
          "name": "stderr",
          "text": [
            "100%|██████████| 22/22 [00:04<00:00,  5.50it/s]\n"
          ]
        },
        {
          "output_type": "stream",
          "name": "stdout",
          "text": [
            "Train CrossEntropyLoss : 1.531\n",
            "Valid CrossEntropyLoss : 1.534\n",
            "Valid Accuracy : 0.423\n"
          ]
        },
        {
          "output_type": "stream",
          "name": "stderr",
          "text": [
            "100%|██████████| 22/22 [00:04<00:00,  5.49it/s]\n"
          ]
        },
        {
          "output_type": "stream",
          "name": "stdout",
          "text": [
            "Train CrossEntropyLoss : 1.517\n",
            "Valid CrossEntropyLoss : 1.521\n",
            "Valid Accuracy : 0.446\n"
          ]
        },
        {
          "output_type": "stream",
          "name": "stderr",
          "text": [
            "100%|██████████| 22/22 [00:03<00:00,  5.55it/s]\n"
          ]
        },
        {
          "output_type": "stream",
          "name": "stdout",
          "text": [
            "Train CrossEntropyLoss : 1.501\n",
            "Valid CrossEntropyLoss : 1.506\n",
            "Valid Accuracy : 0.470\n"
          ]
        },
        {
          "output_type": "stream",
          "name": "stderr",
          "text": [
            "100%|██████████| 22/22 [00:04<00:00,  5.37it/s]\n"
          ]
        },
        {
          "output_type": "stream",
          "name": "stdout",
          "text": [
            "Train CrossEntropyLoss : 1.597\n",
            "Valid CrossEntropyLoss : 1.584\n",
            "Valid Accuracy : 0.253\n"
          ]
        },
        {
          "output_type": "stream",
          "name": "stderr",
          "text": [
            "100%|██████████| 22/22 [00:04<00:00,  5.48it/s]\n"
          ]
        },
        {
          "output_type": "stream",
          "name": "stdout",
          "text": [
            "Train CrossEntropyLoss : 1.543\n",
            "Valid CrossEntropyLoss : 1.546\n",
            "Valid Accuracy : 0.297\n"
          ]
        },
        {
          "output_type": "stream",
          "name": "stderr",
          "text": [
            "100%|██████████| 22/22 [00:04<00:00,  5.45it/s]\n"
          ]
        },
        {
          "output_type": "stream",
          "name": "stdout",
          "text": [
            "Train CrossEntropyLoss : 1.479\n",
            "Valid CrossEntropyLoss : 1.498\n",
            "Valid Accuracy : 0.343\n"
          ]
        },
        {
          "output_type": "stream",
          "name": "stderr",
          "text": [
            "100%|██████████| 22/22 [00:04<00:00,  5.47it/s]\n"
          ]
        },
        {
          "output_type": "stream",
          "name": "stdout",
          "text": [
            "Train CrossEntropyLoss : 1.380\n",
            "Valid CrossEntropyLoss : 1.469\n",
            "Valid Accuracy : 0.382\n"
          ]
        },
        {
          "output_type": "stream",
          "name": "stderr",
          "text": [
            "100%|██████████| 22/22 [00:04<00:00,  5.45it/s]\n"
          ]
        },
        {
          "output_type": "stream",
          "name": "stdout",
          "text": [
            "Train CrossEntropyLoss : 1.244\n",
            "Valid CrossEntropyLoss : 1.259\n",
            "Valid Accuracy : 0.549\n"
          ]
        },
        {
          "output_type": "stream",
          "name": "stderr",
          "text": [
            "100%|██████████| 22/22 [00:04<00:00,  5.45it/s]\n"
          ]
        },
        {
          "output_type": "stream",
          "name": "stdout",
          "text": [
            "Train CrossEntropyLoss : 1.287\n",
            "Valid CrossEntropyLoss : 1.200\n",
            "Valid Accuracy : 0.623\n"
          ]
        },
        {
          "output_type": "stream",
          "name": "stderr",
          "text": [
            "100%|██████████| 22/22 [00:04<00:00,  5.47it/s]\n"
          ]
        },
        {
          "output_type": "stream",
          "name": "stdout",
          "text": [
            "Train CrossEntropyLoss : 0.969\n",
            "Valid CrossEntropyLoss : 0.976\n",
            "Valid Accuracy : 0.718\n"
          ]
        },
        {
          "output_type": "stream",
          "name": "stderr",
          "text": [
            "100%|██████████| 22/22 [00:04<00:00,  5.47it/s]\n"
          ]
        },
        {
          "output_type": "stream",
          "name": "stdout",
          "text": [
            "Train CrossEntropyLoss : 0.913\n",
            "Valid CrossEntropyLoss : 0.979\n",
            "Valid Accuracy : 0.724\n"
          ]
        },
        {
          "output_type": "stream",
          "name": "stderr",
          "text": [
            "100%|██████████| 22/22 [00:04<00:00,  5.37it/s]\n"
          ]
        },
        {
          "output_type": "stream",
          "name": "stdout",
          "text": [
            "Train CrossEntropyLoss : 1.590\n",
            "Valid CrossEntropyLoss : 1.568\n",
            "Valid Accuracy : 0.306\n"
          ]
        },
        {
          "output_type": "stream",
          "name": "stderr",
          "text": [
            "100%|██████████| 22/22 [00:03<00:00,  5.53it/s]\n"
          ]
        },
        {
          "output_type": "stream",
          "name": "stdout",
          "text": [
            "Train CrossEntropyLoss : 1.538\n",
            "Valid CrossEntropyLoss : 1.521\n",
            "Valid Accuracy : 0.357\n"
          ]
        },
        {
          "output_type": "stream",
          "name": "stderr",
          "text": [
            "100%|██████████| 22/22 [00:03<00:00,  5.53it/s]\n"
          ]
        },
        {
          "output_type": "stream",
          "name": "stdout",
          "text": [
            "Train CrossEntropyLoss : 1.464\n",
            "Valid CrossEntropyLoss : 1.457\n",
            "Valid Accuracy : 0.412\n"
          ]
        },
        {
          "output_type": "stream",
          "name": "stderr",
          "text": [
            "100%|██████████| 22/22 [00:03<00:00,  5.51it/s]\n"
          ]
        },
        {
          "output_type": "stream",
          "name": "stdout",
          "text": [
            "Train CrossEntropyLoss : 1.360\n",
            "Valid CrossEntropyLoss : 1.369\n",
            "Valid Accuracy : 0.490\n"
          ]
        },
        {
          "output_type": "stream",
          "name": "stderr",
          "text": [
            "100%|██████████| 22/22 [00:03<00:00,  5.51it/s]\n"
          ]
        },
        {
          "output_type": "stream",
          "name": "stdout",
          "text": [
            "Train CrossEntropyLoss : 1.234\n",
            "Valid CrossEntropyLoss : 1.239\n",
            "Valid Accuracy : 0.570\n"
          ]
        },
        {
          "output_type": "stream",
          "name": "stderr",
          "text": [
            "100%|██████████| 22/22 [00:03<00:00,  5.52it/s]\n"
          ]
        },
        {
          "output_type": "stream",
          "name": "stdout",
          "text": [
            "Train CrossEntropyLoss : 1.099\n",
            "Valid CrossEntropyLoss : 1.042\n",
            "Valid Accuracy : 0.671\n"
          ]
        },
        {
          "output_type": "stream",
          "name": "stderr",
          "text": [
            "100%|██████████| 22/22 [00:03<00:00,  5.51it/s]\n"
          ]
        },
        {
          "output_type": "stream",
          "name": "stdout",
          "text": [
            "Train CrossEntropyLoss : 0.849\n",
            "Valid CrossEntropyLoss : 0.897\n",
            "Valid Accuracy : 0.716\n"
          ]
        },
        {
          "output_type": "stream",
          "name": "stderr",
          "text": [
            "100%|██████████| 22/22 [00:03<00:00,  5.50it/s]\n"
          ]
        },
        {
          "output_type": "stream",
          "name": "stdout",
          "text": [
            "Train CrossEntropyLoss : 1.184\n",
            "Valid CrossEntropyLoss : 1.366\n",
            "Valid Accuracy : 0.377\n"
          ]
        },
        {
          "output_type": "stream",
          "name": "stderr",
          "text": [
            "100%|██████████| 22/22 [00:04<00:00,  5.45it/s]\n"
          ]
        },
        {
          "output_type": "stream",
          "name": "stdout",
          "text": [
            "Train CrossEntropyLoss : 1.587\n",
            "Valid CrossEntropyLoss : 1.574\n",
            "Valid Accuracy : 0.290\n"
          ]
        },
        {
          "output_type": "stream",
          "name": "stderr",
          "text": [
            "100%|██████████| 22/22 [00:03<00:00,  5.56it/s]\n"
          ]
        },
        {
          "output_type": "stream",
          "name": "stdout",
          "text": [
            "Train CrossEntropyLoss : 1.525\n",
            "Valid CrossEntropyLoss : 1.524\n",
            "Valid Accuracy : 0.342\n"
          ]
        },
        {
          "output_type": "stream",
          "name": "stderr",
          "text": [
            "100%|██████████| 22/22 [00:03<00:00,  5.60it/s]\n"
          ]
        },
        {
          "output_type": "stream",
          "name": "stdout",
          "text": [
            "Train CrossEntropyLoss : 1.445\n",
            "Valid CrossEntropyLoss : 1.459\n",
            "Valid Accuracy : 0.399\n"
          ]
        },
        {
          "output_type": "stream",
          "name": "stderr",
          "text": [
            "100%|██████████| 22/22 [00:03<00:00,  5.57it/s]\n"
          ]
        },
        {
          "output_type": "stream",
          "name": "stdout",
          "text": [
            "Train CrossEntropyLoss : 1.326\n",
            "Valid CrossEntropyLoss : 1.448\n",
            "Valid Accuracy : 0.420\n"
          ]
        },
        {
          "output_type": "stream",
          "name": "stderr",
          "text": [
            "100%|██████████| 22/22 [00:03<00:00,  5.57it/s]\n"
          ]
        },
        {
          "output_type": "stream",
          "name": "stdout",
          "text": [
            "Train CrossEntropyLoss : 1.195\n",
            "Valid CrossEntropyLoss : 1.256\n",
            "Valid Accuracy : 0.548\n"
          ]
        },
        {
          "output_type": "stream",
          "name": "stderr",
          "text": [
            "100%|██████████| 22/22 [00:03<00:00,  5.57it/s]\n"
          ]
        },
        {
          "output_type": "stream",
          "name": "stdout",
          "text": [
            "Train CrossEntropyLoss : 1.038\n",
            "Valid CrossEntropyLoss : 0.994\n",
            "Valid Accuracy : 0.727\n"
          ]
        },
        {
          "output_type": "stream",
          "name": "stderr",
          "text": [
            "100%|██████████| 22/22 [00:03<00:00,  5.57it/s]\n"
          ]
        },
        {
          "output_type": "stream",
          "name": "stdout",
          "text": [
            "Train CrossEntropyLoss : 0.884\n",
            "Valid CrossEntropyLoss : 0.883\n",
            "Valid Accuracy : 0.754\n"
          ]
        },
        {
          "output_type": "stream",
          "name": "stderr",
          "text": [
            "100%|██████████| 22/22 [00:03<00:00,  5.61it/s]\n"
          ]
        },
        {
          "output_type": "stream",
          "name": "stdout",
          "text": [
            "Train CrossEntropyLoss : 0.927\n",
            "Valid CrossEntropyLoss : 1.265\n",
            "Valid Accuracy : 0.600\n"
          ]
        },
        {
          "output_type": "stream",
          "name": "stderr",
          "text": [
            "100%|██████████| 22/22 [00:04<00:00,  5.28it/s]\n"
          ]
        },
        {
          "output_type": "stream",
          "name": "stdout",
          "text": [
            "Train CrossEntropyLoss : 1.577\n",
            "Valid CrossEntropyLoss : 1.567\n",
            "Valid Accuracy : 0.311\n"
          ]
        },
        {
          "output_type": "stream",
          "name": "stderr",
          "text": [
            "100%|██████████| 22/22 [00:04<00:00,  5.44it/s]\n"
          ]
        },
        {
          "output_type": "stream",
          "name": "stdout",
          "text": [
            "Train CrossEntropyLoss : 1.512\n",
            "Valid CrossEntropyLoss : 1.515\n",
            "Valid Accuracy : 0.374\n"
          ]
        },
        {
          "output_type": "stream",
          "name": "stderr",
          "text": [
            "100%|██████████| 22/22 [00:04<00:00,  5.49it/s]\n"
          ]
        },
        {
          "output_type": "stream",
          "name": "stdout",
          "text": [
            "Train CrossEntropyLoss : 1.421\n",
            "Valid CrossEntropyLoss : 1.457\n",
            "Valid Accuracy : 0.420\n"
          ]
        },
        {
          "output_type": "stream",
          "name": "stderr",
          "text": [
            "100%|██████████| 22/22 [00:04<00:00,  5.49it/s]\n"
          ]
        },
        {
          "output_type": "stream",
          "name": "stdout",
          "text": [
            "Train CrossEntropyLoss : 1.284\n",
            "Valid CrossEntropyLoss : 1.480\n",
            "Valid Accuracy : 0.436\n"
          ]
        },
        {
          "output_type": "stream",
          "name": "stderr",
          "text": [
            "100%|██████████| 22/22 [00:04<00:00,  5.49it/s]\n"
          ]
        },
        {
          "output_type": "stream",
          "name": "stdout",
          "text": [
            "Train CrossEntropyLoss : 1.146\n",
            "Valid CrossEntropyLoss : 1.130\n",
            "Valid Accuracy : 0.642\n"
          ]
        },
        {
          "output_type": "stream",
          "name": "stderr",
          "text": [
            "100%|██████████| 22/22 [00:03<00:00,  5.54it/s]\n"
          ]
        },
        {
          "output_type": "stream",
          "name": "stdout",
          "text": [
            "Train CrossEntropyLoss : 1.043\n",
            "Valid CrossEntropyLoss : 1.040\n",
            "Valid Accuracy : 0.671\n"
          ]
        },
        {
          "output_type": "stream",
          "name": "stderr",
          "text": [
            "100%|██████████| 22/22 [00:03<00:00,  5.52it/s]\n"
          ]
        },
        {
          "output_type": "stream",
          "name": "stdout",
          "text": [
            "Train CrossEntropyLoss : 0.779\n",
            "Valid CrossEntropyLoss : 0.874\n",
            "Valid Accuracy : 0.731\n"
          ]
        },
        {
          "output_type": "stream",
          "name": "stderr",
          "text": [
            "100%|██████████| 22/22 [00:04<00:00,  5.27it/s]\n"
          ]
        },
        {
          "output_type": "stream",
          "name": "stdout",
          "text": [
            "Train CrossEntropyLoss : 1.030\n",
            "Valid CrossEntropyLoss : 0.824\n",
            "Valid Accuracy : 0.753\n"
          ]
        },
        {
          "output_type": "stream",
          "name": "stderr",
          "text": [
            "100%|██████████| 22/22 [00:04<00:00,  5.43it/s]\n"
          ]
        },
        {
          "output_type": "stream",
          "name": "stdout",
          "text": [
            "Train CrossEntropyLoss : 1.598\n",
            "Valid CrossEntropyLoss : 1.584\n",
            "Valid Accuracy : 0.244\n"
          ]
        },
        {
          "output_type": "stream",
          "name": "stderr",
          "text": [
            "100%|██████████| 22/22 [00:03<00:00,  5.54it/s]\n"
          ]
        },
        {
          "output_type": "stream",
          "name": "stdout",
          "text": [
            "Train CrossEntropyLoss : 1.553\n",
            "Valid CrossEntropyLoss : 1.542\n",
            "Valid Accuracy : 0.309\n"
          ]
        },
        {
          "output_type": "stream",
          "name": "stderr",
          "text": [
            "100%|██████████| 22/22 [00:03<00:00,  5.51it/s]\n"
          ]
        },
        {
          "output_type": "stream",
          "name": "stdout",
          "text": [
            "Train CrossEntropyLoss : 1.494\n",
            "Valid CrossEntropyLoss : 1.488\n",
            "Valid Accuracy : 0.379\n"
          ]
        },
        {
          "output_type": "stream",
          "name": "stderr",
          "text": [
            "100%|██████████| 22/22 [00:03<00:00,  5.56it/s]\n"
          ]
        },
        {
          "output_type": "stream",
          "name": "stdout",
          "text": [
            "Train CrossEntropyLoss : 1.406\n",
            "Valid CrossEntropyLoss : 1.407\n",
            "Valid Accuracy : 0.459\n"
          ]
        },
        {
          "output_type": "stream",
          "name": "stderr",
          "text": [
            "100%|██████████| 22/22 [00:03<00:00,  5.57it/s]\n"
          ]
        },
        {
          "output_type": "stream",
          "name": "stdout",
          "text": [
            "Train CrossEntropyLoss : 1.285\n",
            "Valid CrossEntropyLoss : 1.278\n",
            "Valid Accuracy : 0.530\n"
          ]
        },
        {
          "output_type": "stream",
          "name": "stderr",
          "text": [
            "100%|██████████| 22/22 [00:03<00:00,  5.52it/s]\n"
          ]
        },
        {
          "output_type": "stream",
          "name": "stdout",
          "text": [
            "Train CrossEntropyLoss : 1.150\n",
            "Valid CrossEntropyLoss : 1.114\n",
            "Valid Accuracy : 0.634\n"
          ]
        },
        {
          "output_type": "stream",
          "name": "stderr",
          "text": [
            "100%|██████████| 22/22 [00:03<00:00,  5.56it/s]\n"
          ]
        },
        {
          "output_type": "stream",
          "name": "stdout",
          "text": [
            "Train CrossEntropyLoss : 0.991\n",
            "Valid CrossEntropyLoss : 0.964\n",
            "Valid Accuracy : 0.719\n"
          ]
        },
        {
          "output_type": "stream",
          "name": "stderr",
          "text": [
            "100%|██████████| 22/22 [00:03<00:00,  5.55it/s]\n"
          ]
        },
        {
          "output_type": "stream",
          "name": "stdout",
          "text": [
            "Train CrossEntropyLoss : 0.772\n",
            "Valid CrossEntropyLoss : 0.832\n",
            "Valid Accuracy : 0.752\n"
          ]
        },
        {
          "output_type": "stream",
          "name": "stderr",
          "text": [
            "100%|██████████| 22/22 [00:04<00:00,  5.34it/s]\n"
          ]
        },
        {
          "output_type": "stream",
          "name": "stdout",
          "text": [
            "Train CrossEntropyLoss : 1.585\n",
            "Valid CrossEntropyLoss : 1.513\n",
            "Valid Accuracy : 0.342\n"
          ]
        },
        {
          "output_type": "stream",
          "name": "stderr",
          "text": [
            "100%|██████████| 22/22 [00:04<00:00,  5.44it/s]\n"
          ]
        },
        {
          "output_type": "stream",
          "name": "stdout",
          "text": [
            "Train CrossEntropyLoss : 1.497\n",
            "Valid CrossEntropyLoss : 1.397\n",
            "Valid Accuracy : 0.445\n"
          ]
        },
        {
          "output_type": "stream",
          "name": "stderr",
          "text": [
            "100%|██████████| 22/22 [00:04<00:00,  5.46it/s]\n"
          ]
        },
        {
          "output_type": "stream",
          "name": "stdout",
          "text": [
            "Train CrossEntropyLoss : 1.479\n",
            "Valid CrossEntropyLoss : 1.274\n",
            "Valid Accuracy : 0.469\n"
          ]
        },
        {
          "output_type": "stream",
          "name": "stderr",
          "text": [
            "100%|██████████| 22/22 [00:04<00:00,  5.42it/s]\n"
          ]
        },
        {
          "output_type": "stream",
          "name": "stdout",
          "text": [
            "Train CrossEntropyLoss : 1.685\n",
            "Valid CrossEntropyLoss : 1.210\n",
            "Valid Accuracy : 0.493\n"
          ]
        },
        {
          "output_type": "stream",
          "name": "stderr",
          "text": [
            "100%|██████████| 22/22 [00:04<00:00,  5.49it/s]\n"
          ]
        },
        {
          "output_type": "stream",
          "name": "stdout",
          "text": [
            "Train CrossEntropyLoss : 1.396\n",
            "Valid CrossEntropyLoss : 1.294\n",
            "Valid Accuracy : 0.501\n"
          ]
        },
        {
          "output_type": "stream",
          "name": "stderr",
          "text": [
            "100%|██████████| 22/22 [00:04<00:00,  5.47it/s]\n"
          ]
        },
        {
          "output_type": "stream",
          "name": "stdout",
          "text": [
            "Train CrossEntropyLoss : 1.524\n",
            "Valid CrossEntropyLoss : 1.374\n",
            "Valid Accuracy : 0.391\n"
          ]
        },
        {
          "output_type": "stream",
          "name": "stderr",
          "text": [
            "100%|██████████| 22/22 [00:04<00:00,  5.39it/s]\n"
          ]
        },
        {
          "output_type": "stream",
          "name": "stdout",
          "text": [
            "Train CrossEntropyLoss : 2.407\n",
            "Valid CrossEntropyLoss : 1.354\n",
            "Valid Accuracy : 0.433\n"
          ]
        },
        {
          "output_type": "stream",
          "name": "stderr",
          "text": [
            "100%|██████████| 22/22 [00:04<00:00,  5.42it/s]\n"
          ]
        },
        {
          "output_type": "stream",
          "name": "stdout",
          "text": [
            "Train CrossEntropyLoss : 1.428\n",
            "Valid CrossEntropyLoss : 1.343\n",
            "Valid Accuracy : 0.503\n"
          ]
        },
        {
          "output_type": "stream",
          "name": "stderr",
          "text": [
            "100%|██████████| 22/22 [00:04<00:00,  5.31it/s]\n"
          ]
        },
        {
          "output_type": "stream",
          "name": "stdout",
          "text": [
            "Train CrossEntropyLoss : 1.592\n",
            "Valid CrossEntropyLoss : 1.573\n",
            "Valid Accuracy : 0.304\n"
          ]
        },
        {
          "output_type": "stream",
          "name": "stderr",
          "text": [
            "100%|██████████| 22/22 [00:04<00:00,  5.44it/s]\n"
          ]
        },
        {
          "output_type": "stream",
          "name": "stdout",
          "text": [
            "Train CrossEntropyLoss : 1.496\n",
            "Valid CrossEntropyLoss : 1.378\n",
            "Valid Accuracy : 0.502\n"
          ]
        },
        {
          "output_type": "stream",
          "name": "stderr",
          "text": [
            "100%|██████████| 22/22 [00:04<00:00,  5.44it/s]\n"
          ]
        },
        {
          "output_type": "stream",
          "name": "stdout",
          "text": [
            "Train CrossEntropyLoss : 1.380\n",
            "Valid CrossEntropyLoss : 1.451\n",
            "Valid Accuracy : 0.372\n"
          ]
        },
        {
          "output_type": "stream",
          "name": "stderr",
          "text": [
            "100%|██████████| 22/22 [00:04<00:00,  5.45it/s]\n"
          ]
        },
        {
          "output_type": "stream",
          "name": "stdout",
          "text": [
            "Train CrossEntropyLoss : 1.373\n",
            "Valid CrossEntropyLoss : 1.255\n",
            "Valid Accuracy : 0.498\n"
          ]
        },
        {
          "output_type": "stream",
          "name": "stderr",
          "text": [
            "100%|██████████| 22/22 [00:04<00:00,  5.41it/s]\n"
          ]
        },
        {
          "output_type": "stream",
          "name": "stdout",
          "text": [
            "Train CrossEntropyLoss : 1.325\n",
            "Valid CrossEntropyLoss : 1.322\n",
            "Valid Accuracy : 0.489\n"
          ]
        },
        {
          "output_type": "stream",
          "name": "stderr",
          "text": [
            "100%|██████████| 22/22 [00:04<00:00,  5.38it/s]\n"
          ]
        },
        {
          "output_type": "stream",
          "name": "stdout",
          "text": [
            "Train CrossEntropyLoss : 1.181\n",
            "Valid CrossEntropyLoss : 1.328\n",
            "Valid Accuracy : 0.411\n"
          ]
        },
        {
          "output_type": "stream",
          "name": "stderr",
          "text": [
            "100%|██████████| 22/22 [00:04<00:00,  5.46it/s]\n"
          ]
        },
        {
          "output_type": "stream",
          "name": "stdout",
          "text": [
            "Train CrossEntropyLoss : 1.323\n",
            "Valid CrossEntropyLoss : 1.597\n",
            "Valid Accuracy : 0.288\n"
          ]
        },
        {
          "output_type": "stream",
          "name": "stderr",
          "text": [
            "100%|██████████| 22/22 [00:04<00:00,  5.42it/s]\n"
          ]
        },
        {
          "output_type": "stream",
          "name": "stdout",
          "text": [
            "Train CrossEntropyLoss : 1.177\n",
            "Valid CrossEntropyLoss : 1.491\n",
            "Valid Accuracy : 0.313\n"
          ]
        },
        {
          "output_type": "stream",
          "name": "stderr",
          "text": [
            "100%|██████████| 22/22 [00:04<00:00,  5.27it/s]\n"
          ]
        },
        {
          "output_type": "stream",
          "name": "stdout",
          "text": [
            "Train CrossEntropyLoss : 1.568\n",
            "Valid CrossEntropyLoss : 1.577\n",
            "Valid Accuracy : 0.250\n"
          ]
        },
        {
          "output_type": "stream",
          "name": "stderr",
          "text": [
            "100%|██████████| 22/22 [00:04<00:00,  5.43it/s]\n"
          ]
        },
        {
          "output_type": "stream",
          "name": "stdout",
          "text": [
            "Train CrossEntropyLoss : 1.597\n",
            "Valid CrossEntropyLoss : 1.574\n",
            "Valid Accuracy : 0.234\n"
          ]
        },
        {
          "output_type": "stream",
          "name": "stderr",
          "text": [
            "100%|██████████| 22/22 [00:04<00:00,  5.50it/s]\n"
          ]
        },
        {
          "output_type": "stream",
          "name": "stdout",
          "text": [
            "Train CrossEntropyLoss : 1.648\n",
            "Valid CrossEntropyLoss : 1.662\n",
            "Valid Accuracy : 0.262\n"
          ]
        },
        {
          "output_type": "stream",
          "name": "stderr",
          "text": [
            "100%|██████████| 22/22 [00:04<00:00,  5.47it/s]\n"
          ]
        },
        {
          "output_type": "stream",
          "name": "stdout",
          "text": [
            "Train CrossEntropyLoss : 1.503\n",
            "Valid CrossEntropyLoss : 1.566\n",
            "Valid Accuracy : 0.326\n"
          ]
        },
        {
          "output_type": "stream",
          "name": "stderr",
          "text": [
            "100%|██████████| 22/22 [00:04<00:00,  5.49it/s]\n"
          ]
        },
        {
          "output_type": "stream",
          "name": "stdout",
          "text": [
            "Train CrossEntropyLoss : 1.691\n",
            "Valid CrossEntropyLoss : 1.699\n",
            "Valid Accuracy : 0.355\n"
          ]
        },
        {
          "output_type": "stream",
          "name": "stderr",
          "text": [
            "100%|██████████| 22/22 [00:04<00:00,  5.48it/s]\n"
          ]
        },
        {
          "output_type": "stream",
          "name": "stdout",
          "text": [
            "Train CrossEntropyLoss : 1.549\n",
            "Valid CrossEntropyLoss : 1.434\n",
            "Valid Accuracy : 0.440\n"
          ]
        },
        {
          "output_type": "stream",
          "name": "stderr",
          "text": [
            "100%|██████████| 22/22 [00:04<00:00,  5.46it/s]\n"
          ]
        },
        {
          "output_type": "stream",
          "name": "stdout",
          "text": [
            "Train CrossEntropyLoss : 1.400\n",
            "Valid CrossEntropyLoss : 1.755\n",
            "Valid Accuracy : 0.401\n"
          ]
        },
        {
          "output_type": "stream",
          "name": "stderr",
          "text": [
            "100%|██████████| 22/22 [00:04<00:00,  5.48it/s]\n"
          ]
        },
        {
          "output_type": "stream",
          "name": "stdout",
          "text": [
            "Train CrossEntropyLoss : 1.441\n",
            "Valid CrossEntropyLoss : 1.461\n",
            "Valid Accuracy : 0.377\n"
          ]
        },
        {
          "output_type": "stream",
          "name": "stderr",
          "text": [
            "100%|██████████| 22/22 [00:04<00:00,  5.36it/s]\n"
          ]
        },
        {
          "output_type": "stream",
          "name": "stdout",
          "text": [
            "Train CrossEntropyLoss : 1.569\n",
            "Valid CrossEntropyLoss : 1.642\n",
            "Valid Accuracy : 0.304\n"
          ]
        },
        {
          "output_type": "stream",
          "name": "stderr",
          "text": [
            "100%|██████████| 22/22 [00:04<00:00,  5.47it/s]\n"
          ]
        },
        {
          "output_type": "stream",
          "name": "stdout",
          "text": [
            "Train CrossEntropyLoss : 1.567\n",
            "Valid CrossEntropyLoss : 1.523\n",
            "Valid Accuracy : 0.389\n"
          ]
        },
        {
          "output_type": "stream",
          "name": "stderr",
          "text": [
            "100%|██████████| 22/22 [00:04<00:00,  5.42it/s]\n"
          ]
        },
        {
          "output_type": "stream",
          "name": "stdout",
          "text": [
            "Train CrossEntropyLoss : 1.551\n",
            "Valid CrossEntropyLoss : 1.545\n",
            "Valid Accuracy : 0.373\n"
          ]
        },
        {
          "output_type": "stream",
          "name": "stderr",
          "text": [
            "100%|██████████| 22/22 [00:04<00:00,  5.46it/s]\n"
          ]
        },
        {
          "output_type": "stream",
          "name": "stdout",
          "text": [
            "Train CrossEntropyLoss : 1.553\n",
            "Valid CrossEntropyLoss : 1.491\n",
            "Valid Accuracy : 0.347\n"
          ]
        },
        {
          "output_type": "stream",
          "name": "stderr",
          "text": [
            "100%|██████████| 22/22 [00:04<00:00,  5.47it/s]\n"
          ]
        },
        {
          "output_type": "stream",
          "name": "stdout",
          "text": [
            "Train CrossEntropyLoss : 1.613\n",
            "Valid CrossEntropyLoss : 1.415\n",
            "Valid Accuracy : 0.407\n"
          ]
        },
        {
          "output_type": "stream",
          "name": "stderr",
          "text": [
            "100%|██████████| 22/22 [00:04<00:00,  5.47it/s]\n"
          ]
        },
        {
          "output_type": "stream",
          "name": "stdout",
          "text": [
            "Train CrossEntropyLoss : 1.453\n",
            "Valid CrossEntropyLoss : 1.150\n",
            "Valid Accuracy : 0.604\n"
          ]
        },
        {
          "output_type": "stream",
          "name": "stderr",
          "text": [
            "100%|██████████| 22/22 [00:04<00:00,  4.75it/s]\n"
          ]
        },
        {
          "output_type": "stream",
          "name": "stdout",
          "text": [
            "Train CrossEntropyLoss : 1.495\n",
            "Valid CrossEntropyLoss : 1.526\n",
            "Valid Accuracy : 0.369\n"
          ]
        },
        {
          "output_type": "stream",
          "name": "stderr",
          "text": [
            "100%|██████████| 22/22 [00:04<00:00,  5.49it/s]\n"
          ]
        },
        {
          "output_type": "stream",
          "name": "stdout",
          "text": [
            "Train CrossEntropyLoss : 2.010\n",
            "Valid CrossEntropyLoss : 1.440\n",
            "Valid Accuracy : 0.396\n"
          ]
        },
        {
          "output_type": "stream",
          "name": "stderr",
          "text": [
            "100%|██████████| 22/22 [00:04<00:00,  5.33it/s]\n"
          ]
        },
        {
          "output_type": "stream",
          "name": "stdout",
          "text": [
            "Train CrossEntropyLoss : 1.607\n",
            "Valid CrossEntropyLoss : 1.555\n",
            "Valid Accuracy : 0.288\n"
          ]
        },
        {
          "output_type": "stream",
          "name": "stderr",
          "text": [
            "100%|██████████| 22/22 [00:03<00:00,  5.52it/s]\n"
          ]
        },
        {
          "output_type": "stream",
          "name": "stdout",
          "text": [
            "Train CrossEntropyLoss : 1.564\n",
            "Valid CrossEntropyLoss : 1.495\n",
            "Valid Accuracy : 0.403\n"
          ]
        },
        {
          "output_type": "stream",
          "name": "stderr",
          "text": [
            "100%|██████████| 22/22 [00:04<00:00,  5.46it/s]\n"
          ]
        },
        {
          "output_type": "stream",
          "name": "stdout",
          "text": [
            "Train CrossEntropyLoss : 1.422\n",
            "Valid CrossEntropyLoss : 1.477\n",
            "Valid Accuracy : 0.473\n"
          ]
        },
        {
          "output_type": "stream",
          "name": "stderr",
          "text": [
            "100%|██████████| 22/22 [00:04<00:00,  5.47it/s]\n"
          ]
        },
        {
          "output_type": "stream",
          "name": "stdout",
          "text": [
            "Train CrossEntropyLoss : 1.606\n",
            "Valid CrossEntropyLoss : 1.490\n",
            "Valid Accuracy : 0.365\n"
          ]
        },
        {
          "output_type": "stream",
          "name": "stderr",
          "text": [
            "100%|██████████| 22/22 [00:04<00:00,  5.50it/s]\n"
          ]
        },
        {
          "output_type": "stream",
          "name": "stdout",
          "text": [
            "Train CrossEntropyLoss : 1.509\n",
            "Valid CrossEntropyLoss : 1.745\n",
            "Valid Accuracy : 0.365\n"
          ]
        },
        {
          "output_type": "stream",
          "name": "stderr",
          "text": [
            "100%|██████████| 22/22 [00:03<00:00,  5.51it/s]\n"
          ]
        },
        {
          "output_type": "stream",
          "name": "stdout",
          "text": [
            "Train CrossEntropyLoss : 2.598\n",
            "Valid CrossEntropyLoss : 2.001\n",
            "Valid Accuracy : 0.224\n"
          ]
        },
        {
          "output_type": "stream",
          "name": "stderr",
          "text": [
            "100%|██████████| 22/22 [00:04<00:00,  5.50it/s]\n"
          ]
        },
        {
          "output_type": "stream",
          "name": "stdout",
          "text": [
            "Train CrossEntropyLoss : 1.578\n",
            "Valid CrossEntropyLoss : 1.672\n",
            "Valid Accuracy : 0.258\n"
          ]
        },
        {
          "output_type": "stream",
          "name": "stderr",
          "text": [
            "100%|██████████| 22/22 [00:04<00:00,  5.46it/s]\n"
          ]
        },
        {
          "output_type": "stream",
          "name": "stdout",
          "text": [
            "Train CrossEntropyLoss : 1.585\n",
            "Valid CrossEntropyLoss : 1.563\n",
            "Valid Accuracy : 0.243\n"
          ]
        },
        {
          "output_type": "stream",
          "name": "stderr",
          "text": [
            "100%|██████████| 22/22 [00:04<00:00,  5.39it/s]\n"
          ]
        },
        {
          "output_type": "stream",
          "name": "stdout",
          "text": [
            "Train CrossEntropyLoss : nan\n",
            "Valid CrossEntropyLoss : nan\n",
            "Valid Accuracy : 0.176\n"
          ]
        },
        {
          "output_type": "stream",
          "name": "stderr",
          "text": [
            "100%|██████████| 22/22 [00:03<00:00,  5.55it/s]\n"
          ]
        },
        {
          "output_type": "stream",
          "name": "stdout",
          "text": [
            "Train CrossEntropyLoss : nan\n",
            "Valid CrossEntropyLoss : nan\n",
            "Valid Accuracy : 0.176\n"
          ]
        },
        {
          "output_type": "stream",
          "name": "stderr",
          "text": [
            "100%|██████████| 22/22 [00:03<00:00,  5.51it/s]\n"
          ]
        },
        {
          "output_type": "stream",
          "name": "stdout",
          "text": [
            "Train CrossEntropyLoss : nan\n",
            "Valid CrossEntropyLoss : nan\n",
            "Valid Accuracy : 0.176\n"
          ]
        },
        {
          "output_type": "stream",
          "name": "stderr",
          "text": [
            "100%|██████████| 22/22 [00:04<00:00,  5.49it/s]\n"
          ]
        },
        {
          "output_type": "stream",
          "name": "stdout",
          "text": [
            "Train CrossEntropyLoss : nan\n",
            "Valid CrossEntropyLoss : nan\n",
            "Valid Accuracy : 0.176\n"
          ]
        },
        {
          "output_type": "stream",
          "name": "stderr",
          "text": [
            "100%|██████████| 22/22 [00:03<00:00,  5.52it/s]\n"
          ]
        },
        {
          "output_type": "stream",
          "name": "stdout",
          "text": [
            "Train CrossEntropyLoss : nan\n",
            "Valid CrossEntropyLoss : nan\n",
            "Valid Accuracy : 0.176\n"
          ]
        },
        {
          "output_type": "stream",
          "name": "stderr",
          "text": [
            "100%|██████████| 22/22 [00:03<00:00,  5.51it/s]\n"
          ]
        },
        {
          "output_type": "stream",
          "name": "stdout",
          "text": [
            "Train CrossEntropyLoss : nan\n",
            "Valid CrossEntropyLoss : nan\n",
            "Valid Accuracy : 0.176\n"
          ]
        },
        {
          "output_type": "stream",
          "name": "stderr",
          "text": [
            "100%|██████████| 22/22 [00:04<00:00,  5.49it/s]\n"
          ]
        },
        {
          "output_type": "stream",
          "name": "stdout",
          "text": [
            "Train CrossEntropyLoss : nan\n",
            "Valid CrossEntropyLoss : nan\n",
            "Valid Accuracy : 0.176\n"
          ]
        },
        {
          "output_type": "stream",
          "name": "stderr",
          "text": [
            "100%|██████████| 22/22 [00:03<00:00,  5.51it/s]\n"
          ]
        },
        {
          "output_type": "stream",
          "name": "stdout",
          "text": [
            "Train CrossEntropyLoss : nan\n",
            "Valid CrossEntropyLoss : nan\n",
            "Valid Accuracy : 0.176\n"
          ]
        },
        {
          "output_type": "stream",
          "name": "stderr",
          "text": [
            "100%|██████████| 22/22 [00:04<00:00,  5.38it/s]\n"
          ]
        },
        {
          "output_type": "stream",
          "name": "stdout",
          "text": [
            "Train CrossEntropyLoss : 10129.491\n",
            "Valid CrossEntropyLoss : 1056333.625\n",
            "Valid Accuracy : 0.217\n"
          ]
        },
        {
          "output_type": "stream",
          "name": "stderr",
          "text": [
            "100%|██████████| 22/22 [00:04<00:00,  5.50it/s]\n"
          ]
        },
        {
          "output_type": "stream",
          "name": "stdout",
          "text": [
            "Train CrossEntropyLoss : nan\n",
            "Valid CrossEntropyLoss : nan\n",
            "Valid Accuracy : 0.176\n"
          ]
        },
        {
          "output_type": "stream",
          "name": "stderr",
          "text": [
            "100%|██████████| 22/22 [00:04<00:00,  5.48it/s]\n"
          ]
        },
        {
          "output_type": "stream",
          "name": "stdout",
          "text": [
            "Train CrossEntropyLoss : nan\n",
            "Valid CrossEntropyLoss : nan\n",
            "Valid Accuracy : 0.176\n"
          ]
        },
        {
          "output_type": "stream",
          "name": "stderr",
          "text": [
            "100%|██████████| 22/22 [00:04<00:00,  5.46it/s]\n"
          ]
        },
        {
          "output_type": "stream",
          "name": "stdout",
          "text": [
            "Train CrossEntropyLoss : nan\n",
            "Valid CrossEntropyLoss : nan\n",
            "Valid Accuracy : 0.176\n"
          ]
        },
        {
          "output_type": "stream",
          "name": "stderr",
          "text": [
            "100%|██████████| 22/22 [00:04<00:00,  5.49it/s]\n"
          ]
        },
        {
          "output_type": "stream",
          "name": "stdout",
          "text": [
            "Train CrossEntropyLoss : nan\n",
            "Valid CrossEntropyLoss : nan\n",
            "Valid Accuracy : 0.176\n"
          ]
        },
        {
          "output_type": "stream",
          "name": "stderr",
          "text": [
            "100%|██████████| 22/22 [00:03<00:00,  5.51it/s]\n"
          ]
        },
        {
          "output_type": "stream",
          "name": "stdout",
          "text": [
            "Train CrossEntropyLoss : nan\n",
            "Valid CrossEntropyLoss : nan\n",
            "Valid Accuracy : 0.176\n"
          ]
        },
        {
          "output_type": "stream",
          "name": "stderr",
          "text": [
            "100%|██████████| 22/22 [00:03<00:00,  5.50it/s]\n"
          ]
        },
        {
          "output_type": "stream",
          "name": "stdout",
          "text": [
            "Train CrossEntropyLoss : nan\n",
            "Valid CrossEntropyLoss : nan\n",
            "Valid Accuracy : 0.176\n"
          ]
        },
        {
          "output_type": "stream",
          "name": "stderr",
          "text": [
            "100%|██████████| 22/22 [00:04<00:00,  5.50it/s]\n"
          ]
        },
        {
          "output_type": "stream",
          "name": "stdout",
          "text": [
            "Train CrossEntropyLoss : nan\n",
            "Valid CrossEntropyLoss : nan\n",
            "Valid Accuracy : 0.176\n"
          ]
        },
        {
          "output_type": "stream",
          "name": "stderr",
          "text": [
            "100%|██████████| 22/22 [00:04<00:00,  5.29it/s]\n"
          ]
        },
        {
          "output_type": "stream",
          "name": "stdout",
          "text": [
            "Train CrossEntropyLoss : 2.943\n",
            "Valid CrossEntropyLoss : 80.669\n",
            "Valid Accuracy : 0.218\n"
          ]
        },
        {
          "output_type": "stream",
          "name": "stderr",
          "text": [
            "100%|██████████| 22/22 [00:04<00:00,  5.41it/s]\n"
          ]
        },
        {
          "output_type": "stream",
          "name": "stdout",
          "text": [
            "Train CrossEntropyLoss : 2215.280\n",
            "Valid CrossEntropyLoss : 1.608\n",
            "Valid Accuracy : 0.218\n"
          ]
        },
        {
          "output_type": "stream",
          "name": "stderr",
          "text": [
            "100%|██████████| 22/22 [00:04<00:00,  5.46it/s]\n"
          ]
        },
        {
          "output_type": "stream",
          "name": "stdout",
          "text": [
            "Train CrossEntropyLoss : 1.606\n",
            "Valid CrossEntropyLoss : 1.608\n",
            "Valid Accuracy : 0.218\n"
          ]
        },
        {
          "output_type": "stream",
          "name": "stderr",
          "text": [
            "100%|██████████| 22/22 [00:04<00:00,  5.43it/s]\n"
          ]
        },
        {
          "output_type": "stream",
          "name": "stdout",
          "text": [
            "Train CrossEntropyLoss : 1.606\n",
            "Valid CrossEntropyLoss : 1.608\n",
            "Valid Accuracy : 0.218\n"
          ]
        },
        {
          "output_type": "stream",
          "name": "stderr",
          "text": [
            "100%|██████████| 22/22 [00:04<00:00,  5.41it/s]\n"
          ]
        },
        {
          "output_type": "stream",
          "name": "stdout",
          "text": [
            "Train CrossEntropyLoss : 1.606\n",
            "Valid CrossEntropyLoss : 1.608\n",
            "Valid Accuracy : 0.218\n"
          ]
        },
        {
          "output_type": "stream",
          "name": "stderr",
          "text": [
            "100%|██████████| 22/22 [00:04<00:00,  5.41it/s]\n"
          ]
        },
        {
          "output_type": "stream",
          "name": "stdout",
          "text": [
            "Train CrossEntropyLoss : 1.606\n",
            "Valid CrossEntropyLoss : 1.608\n",
            "Valid Accuracy : 0.218\n"
          ]
        },
        {
          "output_type": "stream",
          "name": "stderr",
          "text": [
            "100%|██████████| 22/22 [00:04<00:00,  5.43it/s]\n"
          ]
        },
        {
          "output_type": "stream",
          "name": "stdout",
          "text": [
            "Train CrossEntropyLoss : 1.606\n",
            "Valid CrossEntropyLoss : 1.608\n",
            "Valid Accuracy : 0.218\n"
          ]
        },
        {
          "output_type": "stream",
          "name": "stderr",
          "text": [
            "100%|██████████| 22/22 [00:04<00:00,  5.38it/s]\n"
          ]
        },
        {
          "output_type": "stream",
          "name": "stdout",
          "text": [
            "Train CrossEntropyLoss : 1.606\n",
            "Valid CrossEntropyLoss : 1.608\n",
            "Valid Accuracy : 0.218\n"
          ]
        },
        {
          "output_type": "stream",
          "name": "stderr",
          "text": [
            "100%|██████████| 22/22 [00:04<00:00,  5.34it/s]\n"
          ]
        },
        {
          "output_type": "stream",
          "name": "stdout",
          "text": [
            "Train CrossEntropyLoss : nan\n",
            "Valid CrossEntropyLoss : nan\n",
            "Valid Accuracy : 0.176\n"
          ]
        },
        {
          "output_type": "stream",
          "name": "stderr",
          "text": [
            "100%|██████████| 22/22 [00:03<00:00,  5.54it/s]\n"
          ]
        },
        {
          "output_type": "stream",
          "name": "stdout",
          "text": [
            "Train CrossEntropyLoss : nan\n",
            "Valid CrossEntropyLoss : nan\n",
            "Valid Accuracy : 0.176\n"
          ]
        },
        {
          "output_type": "stream",
          "name": "stderr",
          "text": [
            "100%|██████████| 22/22 [00:03<00:00,  5.65it/s]\n"
          ]
        },
        {
          "output_type": "stream",
          "name": "stdout",
          "text": [
            "Train CrossEntropyLoss : nan\n",
            "Valid CrossEntropyLoss : nan\n",
            "Valid Accuracy : 0.176\n"
          ]
        },
        {
          "output_type": "stream",
          "name": "stderr",
          "text": [
            "100%|██████████| 22/22 [00:03<00:00,  5.69it/s]\n"
          ]
        },
        {
          "output_type": "stream",
          "name": "stdout",
          "text": [
            "Train CrossEntropyLoss : nan\n",
            "Valid CrossEntropyLoss : nan\n",
            "Valid Accuracy : 0.176\n"
          ]
        },
        {
          "output_type": "stream",
          "name": "stderr",
          "text": [
            "100%|██████████| 22/22 [00:03<00:00,  5.65it/s]\n"
          ]
        },
        {
          "output_type": "stream",
          "name": "stdout",
          "text": [
            "Train CrossEntropyLoss : nan\n",
            "Valid CrossEntropyLoss : nan\n",
            "Valid Accuracy : 0.176\n"
          ]
        },
        {
          "output_type": "stream",
          "name": "stderr",
          "text": [
            "100%|██████████| 22/22 [00:04<00:00,  5.30it/s]\n"
          ]
        },
        {
          "output_type": "stream",
          "name": "stdout",
          "text": [
            "Train CrossEntropyLoss : nan\n",
            "Valid CrossEntropyLoss : nan\n",
            "Valid Accuracy : 0.176\n"
          ]
        },
        {
          "output_type": "stream",
          "name": "stderr",
          "text": [
            "100%|██████████| 22/22 [00:03<00:00,  5.66it/s]\n"
          ]
        },
        {
          "output_type": "stream",
          "name": "stdout",
          "text": [
            "Train CrossEntropyLoss : nan\n",
            "Valid CrossEntropyLoss : nan\n",
            "Valid Accuracy : 0.176\n"
          ]
        },
        {
          "output_type": "stream",
          "name": "stderr",
          "text": [
            "100%|██████████| 22/22 [00:03<00:00,  5.71it/s]\n"
          ]
        },
        {
          "output_type": "stream",
          "name": "stdout",
          "text": [
            "Train CrossEntropyLoss : nan\n",
            "Valid CrossEntropyLoss : nan\n",
            "Valid Accuracy : 0.176\n"
          ]
        },
        {
          "output_type": "stream",
          "name": "stderr",
          "text": [
            "100%|██████████| 22/22 [00:04<00:00,  5.38it/s]\n"
          ]
        },
        {
          "output_type": "stream",
          "name": "stdout",
          "text": [
            "Train CrossEntropyLoss : nan\n",
            "Valid CrossEntropyLoss : nan\n",
            "Valid Accuracy : 0.176\n"
          ]
        },
        {
          "output_type": "stream",
          "name": "stderr",
          "text": [
            "100%|██████████| 22/22 [00:03<00:00,  5.52it/s]\n"
          ]
        },
        {
          "output_type": "stream",
          "name": "stdout",
          "text": [
            "Train CrossEntropyLoss : nan\n",
            "Valid CrossEntropyLoss : nan\n",
            "Valid Accuracy : 0.176\n"
          ]
        },
        {
          "output_type": "stream",
          "name": "stderr",
          "text": [
            "100%|██████████| 22/22 [00:04<00:00,  5.48it/s]\n"
          ]
        },
        {
          "output_type": "stream",
          "name": "stdout",
          "text": [
            "Train CrossEntropyLoss : nan\n",
            "Valid CrossEntropyLoss : nan\n",
            "Valid Accuracy : 0.176\n"
          ]
        },
        {
          "output_type": "stream",
          "name": "stderr",
          "text": [
            "100%|██████████| 22/22 [00:03<00:00,  5.53it/s]\n"
          ]
        },
        {
          "output_type": "stream",
          "name": "stdout",
          "text": [
            "Train CrossEntropyLoss : nan\n",
            "Valid CrossEntropyLoss : nan\n",
            "Valid Accuracy : 0.176\n"
          ]
        },
        {
          "output_type": "stream",
          "name": "stderr",
          "text": [
            "100%|██████████| 22/22 [00:03<00:00,  5.52it/s]\n"
          ]
        },
        {
          "output_type": "stream",
          "name": "stdout",
          "text": [
            "Train CrossEntropyLoss : nan\n",
            "Valid CrossEntropyLoss : nan\n",
            "Valid Accuracy : 0.176\n"
          ]
        },
        {
          "output_type": "stream",
          "name": "stderr",
          "text": [
            "100%|██████████| 22/22 [00:03<00:00,  5.56it/s]\n"
          ]
        },
        {
          "output_type": "stream",
          "name": "stdout",
          "text": [
            "Train CrossEntropyLoss : nan\n",
            "Valid CrossEntropyLoss : nan\n",
            "Valid Accuracy : 0.176\n"
          ]
        },
        {
          "output_type": "stream",
          "name": "stderr",
          "text": [
            "100%|██████████| 22/22 [00:04<00:00,  5.50it/s]\n"
          ]
        },
        {
          "output_type": "stream",
          "name": "stdout",
          "text": [
            "Train CrossEntropyLoss : nan\n",
            "Valid CrossEntropyLoss : nan\n",
            "Valid Accuracy : 0.176\n"
          ]
        },
        {
          "output_type": "stream",
          "name": "stderr",
          "text": [
            "100%|██████████| 22/22 [00:03<00:00,  5.52it/s]\n"
          ]
        },
        {
          "output_type": "stream",
          "name": "stdout",
          "text": [
            "Train CrossEntropyLoss : nan\n",
            "Valid CrossEntropyLoss : nan\n",
            "Valid Accuracy : 0.176\n"
          ]
        }
      ]
    },
    {
      "cell_type": "code",
      "source": [
        "from matplotlib import colors as cl\n",
        "to_plot = []\n",
        "for lr in range(7):\n",
        "  row = []\n",
        "  for lamda in range(5):\n",
        "    row.append(results_dcasgd[lr][lamda][-1])\n",
        "  to_plot.append(row)\n",
        "plt.rcParams[\"figure.figsize\"] = [10, 10]\n",
        "plt.rcParams[\"figure.autolayout\"] = True\n",
        "data2D = results\n",
        "im = plt.imshow(to_plot, cmap=\"copper_r\", norm=cl.LogNorm())\n",
        "plt.xlabel('lambda')\n",
        "plt.ylabel('learning rate')\n",
        "plt.colorbar(im)\n",
        "plt.show()"
      ],
      "metadata": {
        "colab": {
          "base_uri": "https://localhost:8080/",
          "height": 729
        },
        "id": "DsVLDTh3UB-W",
        "outputId": "bf19cb84-6aa4-40f4-bd6f-8aebad263c38"
      },
      "execution_count": 91,
      "outputs": [
        {
          "output_type": "display_data",
          "data": {
            "text/plain": [
              "<Figure size 720x720 with 2 Axes>"
            ],
            "image/png": "[encoded data removed]"
          },
          "metadata": {
            "needs_background": "light"
          }
        }
      ]
    },
    {
      "cell_type": "markdown",
      "source": [
        "we can keep lr = 0.05 and lamda 0.1"
      ],
      "metadata": {
        "id": "bmFIzhDDmAe-"
      }
    },
    {
      "cell_type": "markdown",
      "source": [
        "# SGD"
      ],
      "metadata": {
        "id": "eYxY4AZC_RU_"
      }
    },
    {
      "cell_type": "code",
      "source": [
        "epochs=8\n",
        "results = []\n",
        "for i, lr in enumerate(np.logspace(-4,0,7)) :\n",
        "  print(i) \n",
        "  model = TextClassifier()\n",
        "  model.initialize()\n",
        "  loss_func = loss.SoftmaxCrossEntropyLoss()\n",
        "  dcasgd_optimizer = optimizer.SGD(learning_rate=lr, momentum = 0)\n",
        "\n",
        "  trainer = gluon.Trainer(model.collect_params(), dcasgd_optimizer)\n",
        "\n",
        "  accuracies = TrainModelInBatches(trainer, train_loader, test_loader, epochs)\n",
        "  results.append(accuracies)"
      ],
      "metadata": {
        "colab": {
          "base_uri": "https://localhost:8080/"
        },
        "id": "t9oZGamD7jMr",
        "outputId": "12237f9f-eff0-4d74-b460-284da403431b"
      },
      "execution_count": 81,
      "outputs": [
        {
          "output_type": "stream",
          "name": "stdout",
          "text": [
            "0\n"
          ]
        },
        {
          "output_type": "stream",
          "name": "stderr",
          "text": [
            "100%|██████████| 22/22 [00:04<00:00,  5.14it/s]\n"
          ]
        },
        {
          "output_type": "stream",
          "name": "stdout",
          "text": [
            "Train CrossEntropyLoss : 1.630\n",
            "Valid CrossEntropyLoss : 1.628\n",
            "Valid Accuracy : 0.210\n"
          ]
        },
        {
          "output_type": "stream",
          "name": "stderr",
          "text": [
            "100%|██████████| 22/22 [00:03<00:00,  6.22it/s]\n"
          ]
        },
        {
          "output_type": "stream",
          "name": "stdout",
          "text": [
            "Train CrossEntropyLoss : 1.629\n",
            "Valid CrossEntropyLoss : 1.627\n",
            "Valid Accuracy : 0.209\n"
          ]
        },
        {
          "output_type": "stream",
          "name": "stderr",
          "text": [
            "100%|██████████| 22/22 [00:03<00:00,  6.31it/s]\n"
          ]
        },
        {
          "output_type": "stream",
          "name": "stdout",
          "text": [
            "Train CrossEntropyLoss : 1.628\n",
            "Valid CrossEntropyLoss : 1.626\n",
            "Valid Accuracy : 0.208\n"
          ]
        },
        {
          "output_type": "stream",
          "name": "stderr",
          "text": [
            "100%|██████████| 22/22 [00:03<00:00,  6.22it/s]\n"
          ]
        },
        {
          "output_type": "stream",
          "name": "stdout",
          "text": [
            "Train CrossEntropyLoss : 1.627\n",
            "Valid CrossEntropyLoss : 1.626\n",
            "Valid Accuracy : 0.205\n"
          ]
        },
        {
          "output_type": "stream",
          "name": "stderr",
          "text": [
            "100%|██████████| 22/22 [00:03<00:00,  6.24it/s]\n"
          ]
        },
        {
          "output_type": "stream",
          "name": "stdout",
          "text": [
            "Train CrossEntropyLoss : 1.626\n",
            "Valid CrossEntropyLoss : 1.625\n",
            "Valid Accuracy : 0.206\n"
          ]
        },
        {
          "output_type": "stream",
          "name": "stderr",
          "text": [
            "100%|██████████| 22/22 [00:03<00:00,  6.23it/s]\n"
          ]
        },
        {
          "output_type": "stream",
          "name": "stdout",
          "text": [
            "Train CrossEntropyLoss : 1.626\n",
            "Valid CrossEntropyLoss : 1.625\n",
            "Valid Accuracy : 0.207\n"
          ]
        },
        {
          "output_type": "stream",
          "name": "stderr",
          "text": [
            "100%|██████████| 22/22 [00:03<00:00,  6.24it/s]\n"
          ]
        },
        {
          "output_type": "stream",
          "name": "stdout",
          "text": [
            "Train CrossEntropyLoss : 1.625\n",
            "Valid CrossEntropyLoss : 1.624\n",
            "Valid Accuracy : 0.207\n"
          ]
        },
        {
          "output_type": "stream",
          "name": "stderr",
          "text": [
            "100%|██████████| 22/22 [00:03<00:00,  6.25it/s]\n"
          ]
        },
        {
          "output_type": "stream",
          "name": "stdout",
          "text": [
            "Train CrossEntropyLoss : 1.624\n",
            "Valid CrossEntropyLoss : 1.623\n",
            "Valid Accuracy : 0.208\n",
            "1\n"
          ]
        },
        {
          "output_type": "stream",
          "name": "stderr",
          "text": [
            "100%|██████████| 22/22 [00:03<00:00,  5.91it/s]\n"
          ]
        },
        {
          "output_type": "stream",
          "name": "stdout",
          "text": [
            "Train CrossEntropyLoss : 1.625\n",
            "Valid CrossEntropyLoss : 1.620\n",
            "Valid Accuracy : 0.199\n"
          ]
        },
        {
          "output_type": "stream",
          "name": "stderr",
          "text": [
            "100%|██████████| 22/22 [00:03<00:00,  6.17it/s]\n"
          ]
        },
        {
          "output_type": "stream",
          "name": "stdout",
          "text": [
            "Train CrossEntropyLoss : 1.622\n",
            "Valid CrossEntropyLoss : 1.618\n",
            "Valid Accuracy : 0.200\n"
          ]
        },
        {
          "output_type": "stream",
          "name": "stderr",
          "text": [
            "100%|██████████| 22/22 [00:03<00:00,  6.16it/s]\n"
          ]
        },
        {
          "output_type": "stream",
          "name": "stdout",
          "text": [
            "Train CrossEntropyLoss : 1.619\n",
            "Valid CrossEntropyLoss : 1.617\n",
            "Valid Accuracy : 0.205\n"
          ]
        },
        {
          "output_type": "stream",
          "name": "stderr",
          "text": [
            "100%|██████████| 22/22 [00:03<00:00,  6.23it/s]\n"
          ]
        },
        {
          "output_type": "stream",
          "name": "stdout",
          "text": [
            "Train CrossEntropyLoss : 1.617\n",
            "Valid CrossEntropyLoss : 1.615\n",
            "Valid Accuracy : 0.209\n"
          ]
        },
        {
          "output_type": "stream",
          "name": "stderr",
          "text": [
            "100%|██████████| 22/22 [00:03<00:00,  6.20it/s]\n"
          ]
        },
        {
          "output_type": "stream",
          "name": "stdout",
          "text": [
            "Train CrossEntropyLoss : 1.615\n",
            "Valid CrossEntropyLoss : 1.614\n",
            "Valid Accuracy : 0.214\n"
          ]
        },
        {
          "output_type": "stream",
          "name": "stderr",
          "text": [
            "100%|██████████| 22/22 [00:03<00:00,  6.15it/s]\n"
          ]
        },
        {
          "output_type": "stream",
          "name": "stdout",
          "text": [
            "Train CrossEntropyLoss : 1.613\n",
            "Valid CrossEntropyLoss : 1.613\n",
            "Valid Accuracy : 0.218\n"
          ]
        },
        {
          "output_type": "stream",
          "name": "stderr",
          "text": [
            "100%|██████████| 22/22 [00:03<00:00,  6.23it/s]\n"
          ]
        },
        {
          "output_type": "stream",
          "name": "stdout",
          "text": [
            "Train CrossEntropyLoss : 1.611\n",
            "Valid CrossEntropyLoss : 1.612\n",
            "Valid Accuracy : 0.223\n"
          ]
        },
        {
          "output_type": "stream",
          "name": "stderr",
          "text": [
            "100%|██████████| 22/22 [00:03<00:00,  6.17it/s]\n"
          ]
        },
        {
          "output_type": "stream",
          "name": "stdout",
          "text": [
            "Train CrossEntropyLoss : 1.610\n",
            "Valid CrossEntropyLoss : 1.611\n",
            "Valid Accuracy : 0.227\n",
            "2\n"
          ]
        },
        {
          "output_type": "stream",
          "name": "stderr",
          "text": [
            "100%|██████████| 22/22 [00:03<00:00,  6.04it/s]\n"
          ]
        },
        {
          "output_type": "stream",
          "name": "stdout",
          "text": [
            "Train CrossEntropyLoss : 1.623\n",
            "Valid CrossEntropyLoss : 1.612\n",
            "Valid Accuracy : 0.214\n"
          ]
        },
        {
          "output_type": "stream",
          "name": "stderr",
          "text": [
            "100%|██████████| 22/22 [00:03<00:00,  6.15it/s]\n"
          ]
        },
        {
          "output_type": "stream",
          "name": "stdout",
          "text": [
            "Train CrossEntropyLoss : 1.611\n",
            "Valid CrossEntropyLoss : 1.605\n",
            "Valid Accuracy : 0.223\n"
          ]
        },
        {
          "output_type": "stream",
          "name": "stderr",
          "text": [
            "100%|██████████| 22/22 [00:03<00:00,  6.20it/s]\n"
          ]
        },
        {
          "output_type": "stream",
          "name": "stdout",
          "text": [
            "Train CrossEntropyLoss : 1.604\n",
            "Valid CrossEntropyLoss : 1.601\n",
            "Valid Accuracy : 0.231\n"
          ]
        },
        {
          "output_type": "stream",
          "name": "stderr",
          "text": [
            "100%|██████████| 22/22 [00:03<00:00,  6.20it/s]\n"
          ]
        },
        {
          "output_type": "stream",
          "name": "stdout",
          "text": [
            "Train CrossEntropyLoss : 1.599\n",
            "Valid CrossEntropyLoss : 1.597\n",
            "Valid Accuracy : 0.237\n"
          ]
        },
        {
          "output_type": "stream",
          "name": "stderr",
          "text": [
            "100%|██████████| 22/22 [00:03<00:00,  6.19it/s]\n"
          ]
        },
        {
          "output_type": "stream",
          "name": "stdout",
          "text": [
            "Train CrossEntropyLoss : 1.595\n",
            "Valid CrossEntropyLoss : 1.594\n",
            "Valid Accuracy : 0.250\n"
          ]
        },
        {
          "output_type": "stream",
          "name": "stderr",
          "text": [
            "100%|██████████| 22/22 [00:03<00:00,  6.22it/s]\n"
          ]
        },
        {
          "output_type": "stream",
          "name": "stdout",
          "text": [
            "Train CrossEntropyLoss : 1.592\n",
            "Valid CrossEntropyLoss : 1.592\n",
            "Valid Accuracy : 0.263\n"
          ]
        },
        {
          "output_type": "stream",
          "name": "stderr",
          "text": [
            "100%|██████████| 22/22 [00:03<00:00,  6.19it/s]\n"
          ]
        },
        {
          "output_type": "stream",
          "name": "stdout",
          "text": [
            "Train CrossEntropyLoss : 1.588\n",
            "Valid CrossEntropyLoss : 1.589\n",
            "Valid Accuracy : 0.268\n"
          ]
        },
        {
          "output_type": "stream",
          "name": "stderr",
          "text": [
            "100%|██████████| 22/22 [00:03<00:00,  6.19it/s]\n"
          ]
        },
        {
          "output_type": "stream",
          "name": "stdout",
          "text": [
            "Train CrossEntropyLoss : 1.585\n",
            "Valid CrossEntropyLoss : 1.587\n",
            "Valid Accuracy : 0.277\n",
            "3\n"
          ]
        },
        {
          "output_type": "stream",
          "name": "stderr",
          "text": [
            "100%|██████████| 22/22 [00:03<00:00,  6.01it/s]\n"
          ]
        },
        {
          "output_type": "stream",
          "name": "stdout",
          "text": [
            "Train CrossEntropyLoss : 1.616\n",
            "Valid CrossEntropyLoss : 1.601\n",
            "Valid Accuracy : 0.237\n"
          ]
        },
        {
          "output_type": "stream",
          "name": "stderr",
          "text": [
            "100%|██████████| 22/22 [00:03<00:00,  6.24it/s]\n"
          ]
        },
        {
          "output_type": "stream",
          "name": "stdout",
          "text": [
            "Train CrossEntropyLoss : 1.593\n",
            "Valid CrossEntropyLoss : 1.590\n",
            "Valid Accuracy : 0.274\n"
          ]
        },
        {
          "output_type": "stream",
          "name": "stderr",
          "text": [
            "100%|██████████| 22/22 [00:03<00:00,  6.25it/s]\n"
          ]
        },
        {
          "output_type": "stream",
          "name": "stdout",
          "text": [
            "Train CrossEntropyLoss : 1.581\n",
            "Valid CrossEntropyLoss : 1.579\n",
            "Valid Accuracy : 0.302\n"
          ]
        },
        {
          "output_type": "stream",
          "name": "stderr",
          "text": [
            "100%|██████████| 22/22 [00:03<00:00,  5.73it/s]\n"
          ]
        },
        {
          "output_type": "stream",
          "name": "stdout",
          "text": [
            "Train CrossEntropyLoss : 1.568\n",
            "Valid CrossEntropyLoss : 1.568\n",
            "Valid Accuracy : 0.339\n"
          ]
        },
        {
          "output_type": "stream",
          "name": "stderr",
          "text": [
            "100%|██████████| 22/22 [00:03<00:00,  6.25it/s]\n"
          ]
        },
        {
          "output_type": "stream",
          "name": "stdout",
          "text": [
            "Train CrossEntropyLoss : 1.556\n",
            "Valid CrossEntropyLoss : 1.556\n",
            "Valid Accuracy : 0.369\n"
          ]
        },
        {
          "output_type": "stream",
          "name": "stderr",
          "text": [
            "100%|██████████| 22/22 [00:03<00:00,  6.21it/s]\n"
          ]
        },
        {
          "output_type": "stream",
          "name": "stdout",
          "text": [
            "Train CrossEntropyLoss : 1.543\n",
            "Valid CrossEntropyLoss : 1.544\n",
            "Valid Accuracy : 0.394\n"
          ]
        },
        {
          "output_type": "stream",
          "name": "stderr",
          "text": [
            "100%|██████████| 22/22 [00:03<00:00,  6.25it/s]\n"
          ]
        },
        {
          "output_type": "stream",
          "name": "stdout",
          "text": [
            "Train CrossEntropyLoss : 1.529\n",
            "Valid CrossEntropyLoss : 1.530\n",
            "Valid Accuracy : 0.429\n"
          ]
        },
        {
          "output_type": "stream",
          "name": "stderr",
          "text": [
            "100%|██████████| 22/22 [00:03<00:00,  6.25it/s]\n"
          ]
        },
        {
          "output_type": "stream",
          "name": "stdout",
          "text": [
            "Train CrossEntropyLoss : 1.513\n",
            "Valid CrossEntropyLoss : 1.516\n",
            "Valid Accuracy : 0.453\n",
            "4\n"
          ]
        },
        {
          "output_type": "stream",
          "name": "stderr",
          "text": [
            "100%|██████████| 22/22 [00:03<00:00,  6.02it/s]\n"
          ]
        },
        {
          "output_type": "stream",
          "name": "stdout",
          "text": [
            "Train CrossEntropyLoss : 1.584\n",
            "Valid CrossEntropyLoss : 1.569\n",
            "Valid Accuracy : 0.304\n"
          ]
        },
        {
          "output_type": "stream",
          "name": "stderr",
          "text": [
            "100%|██████████| 22/22 [00:03<00:00,  6.21it/s]\n"
          ]
        },
        {
          "output_type": "stream",
          "name": "stdout",
          "text": [
            "Train CrossEntropyLoss : 1.525\n",
            "Valid CrossEntropyLoss : 1.517\n",
            "Valid Accuracy : 0.365\n"
          ]
        },
        {
          "output_type": "stream",
          "name": "stderr",
          "text": [
            "100%|██████████| 22/22 [00:03<00:00,  6.18it/s]\n"
          ]
        },
        {
          "output_type": "stream",
          "name": "stdout",
          "text": [
            "Train CrossEntropyLoss : 1.446\n",
            "Valid CrossEntropyLoss : 1.445\n",
            "Valid Accuracy : 0.437\n"
          ]
        },
        {
          "output_type": "stream",
          "name": "stderr",
          "text": [
            "100%|██████████| 22/22 [00:03<00:00,  6.20it/s]\n"
          ]
        },
        {
          "output_type": "stream",
          "name": "stdout",
          "text": [
            "Train CrossEntropyLoss : 1.316\n",
            "Valid CrossEntropyLoss : 1.394\n",
            "Valid Accuracy : 0.437\n"
          ]
        },
        {
          "output_type": "stream",
          "name": "stderr",
          "text": [
            "100%|██████████| 22/22 [00:03<00:00,  6.20it/s]\n"
          ]
        },
        {
          "output_type": "stream",
          "name": "stdout",
          "text": [
            "Train CrossEntropyLoss : 1.174\n",
            "Valid CrossEntropyLoss : 1.170\n",
            "Valid Accuracy : 0.615\n"
          ]
        },
        {
          "output_type": "stream",
          "name": "stderr",
          "text": [
            "100%|██████████| 22/22 [00:03<00:00,  6.21it/s]\n"
          ]
        },
        {
          "output_type": "stream",
          "name": "stdout",
          "text": [
            "Train CrossEntropyLoss : 1.074\n",
            "Valid CrossEntropyLoss : 1.120\n",
            "Valid Accuracy : 0.620\n"
          ]
        },
        {
          "output_type": "stream",
          "name": "stderr",
          "text": [
            "100%|██████████| 22/22 [00:03<00:00,  6.22it/s]\n"
          ]
        },
        {
          "output_type": "stream",
          "name": "stdout",
          "text": [
            "Train CrossEntropyLoss : 0.988\n",
            "Valid CrossEntropyLoss : 0.916\n",
            "Valid Accuracy : 0.729\n"
          ]
        },
        {
          "output_type": "stream",
          "name": "stderr",
          "text": [
            "100%|██████████| 22/22 [00:03<00:00,  6.21it/s]\n"
          ]
        },
        {
          "output_type": "stream",
          "name": "stdout",
          "text": [
            "Train CrossEntropyLoss : 0.690\n",
            "Valid CrossEntropyLoss : 0.818\n",
            "Valid Accuracy : 0.742\n",
            "5\n"
          ]
        },
        {
          "output_type": "stream",
          "name": "stderr",
          "text": [
            "100%|██████████| 22/22 [00:03<00:00,  6.07it/s]\n"
          ]
        },
        {
          "output_type": "stream",
          "name": "stdout",
          "text": [
            "Train CrossEntropyLoss : 1.617\n",
            "Valid CrossEntropyLoss : 1.574\n",
            "Valid Accuracy : 0.301\n"
          ]
        },
        {
          "output_type": "stream",
          "name": "stderr",
          "text": [
            "100%|██████████| 22/22 [00:03<00:00,  6.21it/s]\n"
          ]
        },
        {
          "output_type": "stream",
          "name": "stdout",
          "text": [
            "Train CrossEntropyLoss : 1.572\n",
            "Valid CrossEntropyLoss : 1.497\n",
            "Valid Accuracy : 0.362\n"
          ]
        },
        {
          "output_type": "stream",
          "name": "stderr",
          "text": [
            "100%|██████████| 22/22 [00:03<00:00,  6.24it/s]\n"
          ]
        },
        {
          "output_type": "stream",
          "name": "stdout",
          "text": [
            "Train CrossEntropyLoss : 1.557\n",
            "Valid CrossEntropyLoss : 1.498\n",
            "Valid Accuracy : 0.440\n"
          ]
        },
        {
          "output_type": "stream",
          "name": "stderr",
          "text": [
            "100%|██████████| 22/22 [00:03<00:00,  6.18it/s]\n"
          ]
        },
        {
          "output_type": "stream",
          "name": "stdout",
          "text": [
            "Train CrossEntropyLoss : 1.436\n",
            "Valid CrossEntropyLoss : 1.606\n",
            "Valid Accuracy : 0.306\n"
          ]
        },
        {
          "output_type": "stream",
          "name": "stderr",
          "text": [
            "100%|██████████| 22/22 [00:03<00:00,  6.31it/s]\n"
          ]
        },
        {
          "output_type": "stream",
          "name": "stdout",
          "text": [
            "Train CrossEntropyLoss : 1.373\n",
            "Valid CrossEntropyLoss : 1.262\n",
            "Valid Accuracy : 0.440\n"
          ]
        },
        {
          "output_type": "stream",
          "name": "stderr",
          "text": [
            "100%|██████████| 22/22 [00:03<00:00,  6.24it/s]\n"
          ]
        },
        {
          "output_type": "stream",
          "name": "stdout",
          "text": [
            "Train CrossEntropyLoss : 1.221\n",
            "Valid CrossEntropyLoss : 1.207\n",
            "Valid Accuracy : 0.524\n"
          ]
        },
        {
          "output_type": "stream",
          "name": "stderr",
          "text": [
            "100%|██████████| 22/22 [00:03<00:00,  6.21it/s]\n"
          ]
        },
        {
          "output_type": "stream",
          "name": "stdout",
          "text": [
            "Train CrossEntropyLoss : 1.200\n",
            "Valid CrossEntropyLoss : 1.263\n",
            "Valid Accuracy : 0.512\n"
          ]
        },
        {
          "output_type": "stream",
          "name": "stderr",
          "text": [
            "100%|██████████| 22/22 [00:03<00:00,  6.18it/s]\n"
          ]
        },
        {
          "output_type": "stream",
          "name": "stdout",
          "text": [
            "Train CrossEntropyLoss : 1.144\n",
            "Valid CrossEntropyLoss : 3.051\n",
            "Valid Accuracy : 0.377\n",
            "6\n"
          ]
        },
        {
          "output_type": "stream",
          "name": "stderr",
          "text": [
            "100%|██████████| 22/22 [00:03<00:00,  6.03it/s]\n"
          ]
        },
        {
          "output_type": "stream",
          "name": "stdout",
          "text": [
            "Train CrossEntropyLoss : 1.889\n",
            "Valid CrossEntropyLoss : 1.741\n",
            "Valid Accuracy : 0.218\n"
          ]
        },
        {
          "output_type": "stream",
          "name": "stderr",
          "text": [
            "100%|██████████| 22/22 [00:03<00:00,  6.23it/s]\n"
          ]
        },
        {
          "output_type": "stream",
          "name": "stdout",
          "text": [
            "Train CrossEntropyLoss : 1.715\n",
            "Valid CrossEntropyLoss : 1.595\n",
            "Valid Accuracy : 0.232\n"
          ]
        },
        {
          "output_type": "stream",
          "name": "stderr",
          "text": [
            "100%|██████████| 22/22 [00:03<00:00,  6.21it/s]\n"
          ]
        },
        {
          "output_type": "stream",
          "name": "stdout",
          "text": [
            "Train CrossEntropyLoss : 1.644\n",
            "Valid CrossEntropyLoss : 2.771\n",
            "Valid Accuracy : 0.224\n"
          ]
        },
        {
          "output_type": "stream",
          "name": "stderr",
          "text": [
            "100%|██████████| 22/22 [00:03<00:00,  6.24it/s]\n"
          ]
        },
        {
          "output_type": "stream",
          "name": "stdout",
          "text": [
            "Train CrossEntropyLoss : 2.231\n",
            "Valid CrossEntropyLoss : 1.600\n",
            "Valid Accuracy : 0.221\n"
          ]
        },
        {
          "output_type": "stream",
          "name": "stderr",
          "text": [
            "100%|██████████| 22/22 [00:03<00:00,  6.25it/s]\n"
          ]
        },
        {
          "output_type": "stream",
          "name": "stdout",
          "text": [
            "Train CrossEntropyLoss : 1.619\n",
            "Valid CrossEntropyLoss : 1.552\n",
            "Valid Accuracy : 0.252\n"
          ]
        },
        {
          "output_type": "stream",
          "name": "stderr",
          "text": [
            "100%|██████████| 22/22 [00:03<00:00,  6.19it/s]\n"
          ]
        },
        {
          "output_type": "stream",
          "name": "stdout",
          "text": [
            "Train CrossEntropyLoss : 1.665\n",
            "Valid CrossEntropyLoss : 1.585\n",
            "Valid Accuracy : 0.234\n"
          ]
        },
        {
          "output_type": "stream",
          "name": "stderr",
          "text": [
            "100%|██████████| 22/22 [00:03<00:00,  6.19it/s]\n"
          ]
        },
        {
          "output_type": "stream",
          "name": "stdout",
          "text": [
            "Train CrossEntropyLoss : 1.605\n",
            "Valid CrossEntropyLoss : 1.578\n",
            "Valid Accuracy : 0.234\n"
          ]
        },
        {
          "output_type": "stream",
          "name": "stderr",
          "text": [
            "100%|██████████| 22/22 [00:03<00:00,  6.24it/s]\n"
          ]
        },
        {
          "output_type": "stream",
          "name": "stdout",
          "text": [
            "Train CrossEntropyLoss : 1.659\n",
            "Valid CrossEntropyLoss : 1.597\n",
            "Valid Accuracy : 0.241\n"
          ]
        }
      ]
    },
    {
      "cell_type": "code",
      "source": [
        "results = np.array(results)"
      ],
      "metadata": {
        "id": "zC_TrNRyXOcu"
      },
      "execution_count": 82,
      "outputs": []
    },
    {
      "cell_type": "code",
      "source": [
        "plt.plot(results[:,-1])\n",
        "plt.xlabel('learning rate')\n",
        "plt.ylabel('accuracy')"
      ],
      "metadata": {
        "colab": {
          "base_uri": "https://localhost:8080/",
          "height": 746
        },
        "id": "Pt4sCT3i_k5e",
        "outputId": "dd6c6237-2b5d-4ef9-8bfe-186c8ad18a77"
      },
      "execution_count": 83,
      "outputs": [
        {
          "output_type": "execute_result",
          "data": {
            "text/plain": [
              "Text(0, 0.5, 'accuracy')"
            ]
          },
          "metadata": {},
          "execution_count": 83
        },
        {
          "output_type": "display_data",
          "data": {
            "text/plain": [
              "<Figure size 720x720 with 1 Axes>"
            ],
            "image/png": "[encoded data removed]"
          },
          "metadata": {
            "needs_background": "light"
          }
        }
      ]
    },
    {
      "cell_type": "markdown",
      "source": [
        "select learning rate 0.05"
      ],
      "metadata": {
        "id": "zpPsqedGaJDy"
      }
    },
    {
      "cell_type": "markdown",
      "source": [
        "# Compare the two algorithms"
      ],
      "metadata": {
        "id": "xRtdp_RsmwE9"
      }
    },
    {
      "cell_type": "markdown",
      "source": [
        "# SGD"
      ],
      "metadata": {
        "id": "TDE0bjhzmztA"
      }
    },
    {
      "cell_type": "code",
      "source": [
        "lr = 0.05 \n",
        "lamda = 0.2\n",
        "epochs = 30"
      ],
      "metadata": {
        "id": "W6lIE2gTmFd1"
      },
      "execution_count": 105,
      "outputs": []
    },
    {
      "cell_type": "code",
      "source": [
        "!pip install pytictoc\n",
        "from pytictoc import TicToc"
      ],
      "metadata": {
        "colab": {
          "base_uri": "https://localhost:8080/"
        },
        "id": "hDaQDgNPoLEf",
        "outputId": "b42e27df-d708-4e51-e7ca-6579405217d7"
      },
      "execution_count": 100,
      "outputs": [
        {
          "output_type": "stream",
          "name": "stdout",
          "text": [
            "Looking in indexes: https://pypi.org/simple, https://us-python.pkg.dev/colab-wheels/public/simple/\n",
            "Collecting pytictoc\n",
            "  Downloading pytictoc-1.5.2-py2.py3-none-any.whl (4.0 kB)\n",
            "Installing collected packages: pytictoc\n",
            "Successfully installed pytictoc-1.5.2\n"
          ]
        }
      ]
    },
    {
      "cell_type": "code",
      "source": [
        "model = TextClassifier()\n",
        "model.initialize()\n",
        "loss_func = loss.SoftmaxCrossEntropyLoss()\n",
        "dcasgd_optimizer = optimizer.SGD(learning_rate=lr, momentum = 0)\n",
        "\n",
        "trainer = gluon.Trainer(model.collect_params(), dcasgd_optimizer)\n",
        "\n",
        "t = TicToc() #create instance of class\n",
        "t.tic() #Start timer\n",
        "accuracies = TrainModelInBatches(trainer, train_loader, test_loader, epochs)\n",
        "t.toc() #Time elapsed since t.tic()"
      ],
      "metadata": {
        "colab": {
          "base_uri": "https://localhost:8080/"
        },
        "id": "_Z66i9Tbmk6N",
        "outputId": "2fd033b8-f7d0-40b0-f04a-1c56ea31ca35"
      },
      "execution_count": 101,
      "outputs": [
        {
          "output_type": "stream",
          "name": "stderr",
          "text": [
            "100%|██████████| 22/22 [00:03<00:00,  6.20it/s]\n"
          ]
        },
        {
          "output_type": "stream",
          "name": "stdout",
          "text": [
            "Train CrossEntropyLoss : 1.590\n",
            "Valid CrossEntropyLoss : 1.572\n",
            "Valid Accuracy : 0.290\n"
          ]
        },
        {
          "output_type": "stream",
          "name": "stderr",
          "text": [
            "100%|██████████| 22/22 [00:03<00:00,  6.42it/s]\n"
          ]
        },
        {
          "output_type": "stream",
          "name": "stdout",
          "text": [
            "Train CrossEntropyLoss : 1.532\n",
            "Valid CrossEntropyLoss : 1.521\n",
            "Valid Accuracy : 0.346\n"
          ]
        },
        {
          "output_type": "stream",
          "name": "stderr",
          "text": [
            "100%|██████████| 22/22 [00:03<00:00,  6.40it/s]\n"
          ]
        },
        {
          "output_type": "stream",
          "name": "stdout",
          "text": [
            "Train CrossEntropyLoss : 1.456\n",
            "Valid CrossEntropyLoss : 1.449\n",
            "Valid Accuracy : 0.424\n"
          ]
        },
        {
          "output_type": "stream",
          "name": "stderr",
          "text": [
            "100%|██████████| 22/22 [00:03<00:00,  6.38it/s]\n"
          ]
        },
        {
          "output_type": "stream",
          "name": "stdout",
          "text": [
            "Train CrossEntropyLoss : 1.335\n",
            "Valid CrossEntropyLoss : 1.376\n",
            "Valid Accuracy : 0.477\n"
          ]
        },
        {
          "output_type": "stream",
          "name": "stderr",
          "text": [
            "100%|██████████| 22/22 [00:03<00:00,  6.39it/s]\n"
          ]
        },
        {
          "output_type": "stream",
          "name": "stdout",
          "text": [
            "Train CrossEntropyLoss : 1.224\n",
            "Valid CrossEntropyLoss : 1.256\n",
            "Valid Accuracy : 0.583\n"
          ]
        },
        {
          "output_type": "stream",
          "name": "stderr",
          "text": [
            "100%|██████████| 22/22 [00:03<00:00,  6.41it/s]\n"
          ]
        },
        {
          "output_type": "stream",
          "name": "stdout",
          "text": [
            "Train CrossEntropyLoss : 1.294\n",
            "Valid CrossEntropyLoss : 1.168\n",
            "Valid Accuracy : 0.694\n"
          ]
        },
        {
          "output_type": "stream",
          "name": "stderr",
          "text": [
            "100%|██████████| 22/22 [00:03<00:00,  6.35it/s]\n"
          ]
        },
        {
          "output_type": "stream",
          "name": "stdout",
          "text": [
            "Train CrossEntropyLoss : 0.931\n",
            "Valid CrossEntropyLoss : 0.962\n",
            "Valid Accuracy : 0.723\n"
          ]
        },
        {
          "output_type": "stream",
          "name": "stderr",
          "text": [
            "100%|██████████| 22/22 [00:03<00:00,  6.42it/s]\n"
          ]
        },
        {
          "output_type": "stream",
          "name": "stdout",
          "text": [
            "Train CrossEntropyLoss : 0.801\n",
            "Valid CrossEntropyLoss : 0.844\n",
            "Valid Accuracy : 0.760\n"
          ]
        },
        {
          "output_type": "stream",
          "name": "stderr",
          "text": [
            "100%|██████████| 22/22 [00:03<00:00,  6.38it/s]\n"
          ]
        },
        {
          "output_type": "stream",
          "name": "stdout",
          "text": [
            "Train CrossEntropyLoss : 0.625\n",
            "Valid CrossEntropyLoss : 0.843\n",
            "Valid Accuracy : 0.739\n"
          ]
        },
        {
          "output_type": "stream",
          "name": "stderr",
          "text": [
            "100%|██████████| 22/22 [00:03<00:00,  6.37it/s]\n"
          ]
        },
        {
          "output_type": "stream",
          "name": "stdout",
          "text": [
            "Train CrossEntropyLoss : 0.491\n",
            "Valid CrossEntropyLoss : 0.696\n",
            "Valid Accuracy : 0.785\n"
          ]
        },
        {
          "output_type": "stream",
          "name": "stderr",
          "text": [
            "100%|██████████| 22/22 [00:03<00:00,  6.37it/s]\n"
          ]
        },
        {
          "output_type": "stream",
          "name": "stdout",
          "text": [
            "Train CrossEntropyLoss : 0.996\n",
            "Valid CrossEntropyLoss : 0.729\n",
            "Valid Accuracy : 0.772\n"
          ]
        },
        {
          "output_type": "stream",
          "name": "stderr",
          "text": [
            "100%|██████████| 22/22 [00:03<00:00,  6.39it/s]\n"
          ]
        },
        {
          "output_type": "stream",
          "name": "stdout",
          "text": [
            "Train CrossEntropyLoss : 0.699\n",
            "Valid CrossEntropyLoss : 0.797\n",
            "Valid Accuracy : 0.769\n"
          ]
        },
        {
          "output_type": "stream",
          "name": "stderr",
          "text": [
            "100%|██████████| 22/22 [00:03<00:00,  6.48it/s]\n"
          ]
        },
        {
          "output_type": "stream",
          "name": "stdout",
          "text": [
            "Train CrossEntropyLoss : 0.365\n",
            "Valid CrossEntropyLoss : 0.541\n",
            "Valid Accuracy : 0.837\n"
          ]
        },
        {
          "output_type": "stream",
          "name": "stderr",
          "text": [
            "100%|██████████| 22/22 [00:03<00:00,  6.42it/s]\n"
          ]
        },
        {
          "output_type": "stream",
          "name": "stdout",
          "text": [
            "Train CrossEntropyLoss : 0.259\n",
            "Valid CrossEntropyLoss : 0.498\n",
            "Valid Accuracy : 0.847\n"
          ]
        },
        {
          "output_type": "stream",
          "name": "stderr",
          "text": [
            "100%|██████████| 22/22 [00:03<00:00,  6.42it/s]\n"
          ]
        },
        {
          "output_type": "stream",
          "name": "stdout",
          "text": [
            "Train CrossEntropyLoss : 0.209\n",
            "Valid CrossEntropyLoss : 0.464\n",
            "Valid Accuracy : 0.856\n"
          ]
        },
        {
          "output_type": "stream",
          "name": "stderr",
          "text": [
            "100%|██████████| 22/22 [00:03<00:00,  6.39it/s]\n"
          ]
        },
        {
          "output_type": "stream",
          "name": "stdout",
          "text": [
            "Train CrossEntropyLoss : 0.175\n",
            "Valid CrossEntropyLoss : 0.438\n",
            "Valid Accuracy : 0.866\n"
          ]
        },
        {
          "output_type": "stream",
          "name": "stderr",
          "text": [
            "100%|██████████| 22/22 [00:03<00:00,  6.43it/s]\n"
          ]
        },
        {
          "output_type": "stream",
          "name": "stdout",
          "text": [
            "Train CrossEntropyLoss : 0.149\n",
            "Valid CrossEntropyLoss : 0.418\n",
            "Valid Accuracy : 0.875\n"
          ]
        },
        {
          "output_type": "stream",
          "name": "stderr",
          "text": [
            "100%|██████████| 22/22 [00:03<00:00,  6.38it/s]\n"
          ]
        },
        {
          "output_type": "stream",
          "name": "stdout",
          "text": [
            "Train CrossEntropyLoss : 0.127\n",
            "Valid CrossEntropyLoss : 0.403\n",
            "Valid Accuracy : 0.880\n"
          ]
        },
        {
          "output_type": "stream",
          "name": "stderr",
          "text": [
            "100%|██████████| 22/22 [00:03<00:00,  6.45it/s]\n"
          ]
        },
        {
          "output_type": "stream",
          "name": "stdout",
          "text": [
            "Train CrossEntropyLoss : 0.109\n",
            "Valid CrossEntropyLoss : 0.393\n",
            "Valid Accuracy : 0.883\n"
          ]
        },
        {
          "output_type": "stream",
          "name": "stderr",
          "text": [
            "100%|██████████| 22/22 [00:03<00:00,  6.31it/s]\n"
          ]
        },
        {
          "output_type": "stream",
          "name": "stdout",
          "text": [
            "Train CrossEntropyLoss : 0.095\n",
            "Valid CrossEntropyLoss : 0.385\n",
            "Valid Accuracy : 0.886\n"
          ]
        },
        {
          "output_type": "stream",
          "name": "stderr",
          "text": [
            "100%|██████████| 22/22 [00:03<00:00,  6.39it/s]\n"
          ]
        },
        {
          "output_type": "stream",
          "name": "stdout",
          "text": [
            "Train CrossEntropyLoss : 0.083\n",
            "Valid CrossEntropyLoss : 0.379\n",
            "Valid Accuracy : 0.891\n"
          ]
        },
        {
          "output_type": "stream",
          "name": "stderr",
          "text": [
            "100%|██████████| 22/22 [00:04<00:00,  5.44it/s]\n"
          ]
        },
        {
          "output_type": "stream",
          "name": "stdout",
          "text": [
            "Train CrossEntropyLoss : 0.074\n",
            "Valid CrossEntropyLoss : 0.375\n",
            "Valid Accuracy : 0.892\n"
          ]
        },
        {
          "output_type": "stream",
          "name": "stderr",
          "text": [
            "100%|██████████| 22/22 [00:03<00:00,  6.41it/s]\n"
          ]
        },
        {
          "output_type": "stream",
          "name": "stdout",
          "text": [
            "Train CrossEntropyLoss : 0.066\n",
            "Valid CrossEntropyLoss : 0.372\n",
            "Valid Accuracy : 0.896\n"
          ]
        },
        {
          "output_type": "stream",
          "name": "stderr",
          "text": [
            "100%|██████████| 22/22 [00:03<00:00,  6.42it/s]\n"
          ]
        },
        {
          "output_type": "stream",
          "name": "stdout",
          "text": [
            "Train CrossEntropyLoss : 0.059\n",
            "Valid CrossEntropyLoss : 0.369\n",
            "Valid Accuracy : 0.898\n"
          ]
        },
        {
          "output_type": "stream",
          "name": "stderr",
          "text": [
            "100%|██████████| 22/22 [00:03<00:00,  6.37it/s]\n"
          ]
        },
        {
          "output_type": "stream",
          "name": "stdout",
          "text": [
            "Train CrossEntropyLoss : 0.053\n",
            "Valid CrossEntropyLoss : 0.367\n",
            "Valid Accuracy : 0.899\n"
          ]
        },
        {
          "output_type": "stream",
          "name": "stderr",
          "text": [
            "100%|██████████| 22/22 [00:03<00:00,  6.40it/s]\n"
          ]
        },
        {
          "output_type": "stream",
          "name": "stdout",
          "text": [
            "Train CrossEntropyLoss : 0.048\n",
            "Valid CrossEntropyLoss : 0.366\n",
            "Valid Accuracy : 0.900\n"
          ]
        },
        {
          "output_type": "stream",
          "name": "stderr",
          "text": [
            "100%|██████████| 22/22 [00:03<00:00,  6.37it/s]\n"
          ]
        },
        {
          "output_type": "stream",
          "name": "stdout",
          "text": [
            "Train CrossEntropyLoss : 0.044\n",
            "Valid CrossEntropyLoss : 0.365\n",
            "Valid Accuracy : 0.902\n"
          ]
        },
        {
          "output_type": "stream",
          "name": "stderr",
          "text": [
            "100%|██████████| 22/22 [00:03<00:00,  6.37it/s]\n"
          ]
        },
        {
          "output_type": "stream",
          "name": "stdout",
          "text": [
            "Train CrossEntropyLoss : 0.040\n",
            "Valid CrossEntropyLoss : 0.364\n",
            "Valid Accuracy : 0.902\n"
          ]
        },
        {
          "output_type": "stream",
          "name": "stderr",
          "text": [
            "100%|██████████| 22/22 [00:03<00:00,  6.34it/s]\n"
          ]
        },
        {
          "output_type": "stream",
          "name": "stdout",
          "text": [
            "Train CrossEntropyLoss : 0.037\n",
            "Valid CrossEntropyLoss : 0.364\n",
            "Valid Accuracy : 0.901\n"
          ]
        },
        {
          "output_type": "stream",
          "name": "stderr",
          "text": [
            "100%|██████████| 22/22 [00:03<00:00,  6.35it/s]\n"
          ]
        },
        {
          "output_type": "stream",
          "name": "stdout",
          "text": [
            "Train CrossEntropyLoss : 0.034\n",
            "Valid CrossEntropyLoss : 0.364\n",
            "Valid Accuracy : 0.902\n",
            "Elapsed time is 170.587249 seconds.\n"
          ]
        }
      ]
    },
    {
      "cell_type": "markdown",
      "source": [
        "# DC ASGD"
      ],
      "metadata": {
        "id": "nJwC7EvOnuYc"
      }
    },
    {
      "cell_type": "code",
      "source": [
        "model = TextClassifier()\n",
        "model.initialize()\n",
        "loss_func = loss.SoftmaxCrossEntropyLoss()\n",
        "dcasgd_optimizer = optimizer.DCASGD(learning_rate=lr, lamda = lamda)\n",
        "\n",
        "trainer = gluon.Trainer(model.collect_params(), dcasgd_optimizer)\n",
        "\n",
        "t = TicToc() #create instance of class\n",
        "t.tic() #Start timer\n",
        "accuracies = TrainModelInBatches(trainer, train_loader, test_loader, epochs)\n",
        "t.toc() #Time elapsed since t.tic()"
      ],
      "metadata": {
        "colab": {
          "base_uri": "https://localhost:8080/"
        },
        "id": "zAMF_JHWm_5w",
        "outputId": "65acda5d-288e-4eb6-c6c0-27eaf082fafe"
      },
      "execution_count": 106,
      "outputs": [
        {
          "output_type": "stream",
          "name": "stderr",
          "text": [
            "100%|██████████| 22/22 [00:03<00:00,  5.53it/s]\n"
          ]
        },
        {
          "output_type": "stream",
          "name": "stdout",
          "text": [
            "Train CrossEntropyLoss : 1.588\n",
            "Valid CrossEntropyLoss : 1.569\n",
            "Valid Accuracy : 0.300\n"
          ]
        },
        {
          "output_type": "stream",
          "name": "stderr",
          "text": [
            "100%|██████████| 22/22 [00:03<00:00,  5.62it/s]\n"
          ]
        },
        {
          "output_type": "stream",
          "name": "stdout",
          "text": [
            "Train CrossEntropyLoss : 1.521\n",
            "Valid CrossEntropyLoss : 1.522\n",
            "Valid Accuracy : 0.364\n"
          ]
        },
        {
          "output_type": "stream",
          "name": "stderr",
          "text": [
            "100%|██████████| 22/22 [00:03<00:00,  5.64it/s]\n"
          ]
        },
        {
          "output_type": "stream",
          "name": "stdout",
          "text": [
            "Train CrossEntropyLoss : 1.427\n",
            "Valid CrossEntropyLoss : 1.448\n",
            "Valid Accuracy : 0.426\n"
          ]
        },
        {
          "output_type": "stream",
          "name": "stderr",
          "text": [
            "100%|██████████| 22/22 [00:03<00:00,  5.64it/s]\n"
          ]
        },
        {
          "output_type": "stream",
          "name": "stdout",
          "text": [
            "Train CrossEntropyLoss : 1.277\n",
            "Valid CrossEntropyLoss : 1.438\n",
            "Valid Accuracy : 0.459\n"
          ]
        },
        {
          "output_type": "stream",
          "name": "stderr",
          "text": [
            "100%|██████████| 22/22 [00:03<00:00,  5.65it/s]\n"
          ]
        },
        {
          "output_type": "stream",
          "name": "stdout",
          "text": [
            "Train CrossEntropyLoss : 1.406\n",
            "Valid CrossEntropyLoss : 1.613\n",
            "Valid Accuracy : 0.365\n"
          ]
        },
        {
          "output_type": "stream",
          "name": "stderr",
          "text": [
            "100%|██████████| 22/22 [00:03<00:00,  5.63it/s]\n"
          ]
        },
        {
          "output_type": "stream",
          "name": "stdout",
          "text": [
            "Train CrossEntropyLoss : 1.203\n",
            "Valid CrossEntropyLoss : 1.047\n",
            "Valid Accuracy : 0.694\n"
          ]
        },
        {
          "output_type": "stream",
          "name": "stderr",
          "text": [
            "100%|██████████| 22/22 [00:03<00:00,  5.66it/s]\n"
          ]
        },
        {
          "output_type": "stream",
          "name": "stdout",
          "text": [
            "Train CrossEntropyLoss : 0.854\n",
            "Valid CrossEntropyLoss : 0.892\n",
            "Valid Accuracy : 0.738\n"
          ]
        },
        {
          "output_type": "stream",
          "name": "stderr",
          "text": [
            "100%|██████████| 22/22 [00:03<00:00,  5.66it/s]\n"
          ]
        },
        {
          "output_type": "stream",
          "name": "stdout",
          "text": [
            "Train CrossEntropyLoss : 0.911\n",
            "Valid CrossEntropyLoss : 0.794\n",
            "Valid Accuracy : 0.759\n"
          ]
        },
        {
          "output_type": "stream",
          "name": "stderr",
          "text": [
            "100%|██████████| 22/22 [00:03<00:00,  5.65it/s]\n"
          ]
        },
        {
          "output_type": "stream",
          "name": "stdout",
          "text": [
            "Train CrossEntropyLoss : 0.601\n",
            "Valid CrossEntropyLoss : 0.725\n",
            "Valid Accuracy : 0.771\n"
          ]
        },
        {
          "output_type": "stream",
          "name": "stderr",
          "text": [
            "100%|██████████| 22/22 [00:03<00:00,  5.63it/s]\n"
          ]
        },
        {
          "output_type": "stream",
          "name": "stdout",
          "text": [
            "Train CrossEntropyLoss : 0.479\n",
            "Valid CrossEntropyLoss : 0.676\n",
            "Valid Accuracy : 0.786\n"
          ]
        },
        {
          "output_type": "stream",
          "name": "stderr",
          "text": [
            "100%|██████████| 22/22 [00:03<00:00,  5.65it/s]\n"
          ]
        },
        {
          "output_type": "stream",
          "name": "stdout",
          "text": [
            "Train CrossEntropyLoss : 0.828\n",
            "Valid CrossEntropyLoss : 0.636\n",
            "Valid Accuracy : 0.803\n"
          ]
        },
        {
          "output_type": "stream",
          "name": "stderr",
          "text": [
            "100%|██████████| 22/22 [00:03<00:00,  5.64it/s]\n"
          ]
        },
        {
          "output_type": "stream",
          "name": "stdout",
          "text": [
            "Train CrossEntropyLoss : 0.360\n",
            "Valid CrossEntropyLoss : 0.572\n",
            "Valid Accuracy : 0.819\n"
          ]
        },
        {
          "output_type": "stream",
          "name": "stderr",
          "text": [
            "100%|██████████| 22/22 [00:03<00:00,  5.71it/s]\n"
          ]
        },
        {
          "output_type": "stream",
          "name": "stdout",
          "text": [
            "Train CrossEntropyLoss : 0.284\n",
            "Valid CrossEntropyLoss : 0.527\n",
            "Valid Accuracy : 0.844\n"
          ]
        },
        {
          "output_type": "stream",
          "name": "stderr",
          "text": [
            "100%|██████████| 22/22 [00:03<00:00,  5.67it/s]\n"
          ]
        },
        {
          "output_type": "stream",
          "name": "stdout",
          "text": [
            "Train CrossEntropyLoss : 0.231\n",
            "Valid CrossEntropyLoss : 0.492\n",
            "Valid Accuracy : 0.851\n"
          ]
        },
        {
          "output_type": "stream",
          "name": "stderr",
          "text": [
            "100%|██████████| 22/22 [00:03<00:00,  5.64it/s]\n"
          ]
        },
        {
          "output_type": "stream",
          "name": "stdout",
          "text": [
            "Train CrossEntropyLoss : 0.192\n",
            "Valid CrossEntropyLoss : 0.469\n",
            "Valid Accuracy : 0.861\n"
          ]
        },
        {
          "output_type": "stream",
          "name": "stderr",
          "text": [
            "100%|██████████| 22/22 [00:03<00:00,  5.68it/s]\n"
          ]
        },
        {
          "output_type": "stream",
          "name": "stdout",
          "text": [
            "Train CrossEntropyLoss : 0.162\n",
            "Valid CrossEntropyLoss : 0.449\n",
            "Valid Accuracy : 0.866\n"
          ]
        },
        {
          "output_type": "stream",
          "name": "stderr",
          "text": [
            "100%|██████████| 22/22 [00:03<00:00,  5.66it/s]\n"
          ]
        },
        {
          "output_type": "stream",
          "name": "stdout",
          "text": [
            "Train CrossEntropyLoss : 0.137\n",
            "Valid CrossEntropyLoss : 0.441\n",
            "Valid Accuracy : 0.871\n"
          ]
        },
        {
          "output_type": "stream",
          "name": "stderr",
          "text": [
            "100%|██████████| 22/22 [00:03<00:00,  5.68it/s]\n"
          ]
        },
        {
          "output_type": "stream",
          "name": "stdout",
          "text": [
            "Train CrossEntropyLoss : 0.117\n",
            "Valid CrossEntropyLoss : 0.429\n",
            "Valid Accuracy : 0.875\n"
          ]
        },
        {
          "output_type": "stream",
          "name": "stderr",
          "text": [
            "100%|██████████| 22/22 [00:03<00:00,  5.67it/s]\n"
          ]
        },
        {
          "output_type": "stream",
          "name": "stdout",
          "text": [
            "Train CrossEntropyLoss : 0.101\n",
            "Valid CrossEntropyLoss : 0.419\n",
            "Valid Accuracy : 0.876\n"
          ]
        },
        {
          "output_type": "stream",
          "name": "stderr",
          "text": [
            "100%|██████████| 22/22 [00:03<00:00,  5.68it/s]\n"
          ]
        },
        {
          "output_type": "stream",
          "name": "stdout",
          "text": [
            "Train CrossEntropyLoss : 0.089\n",
            "Valid CrossEntropyLoss : 0.410\n",
            "Valid Accuracy : 0.879\n"
          ]
        },
        {
          "output_type": "stream",
          "name": "stderr",
          "text": [
            "100%|██████████| 22/22 [00:03<00:00,  5.69it/s]\n"
          ]
        },
        {
          "output_type": "stream",
          "name": "stdout",
          "text": [
            "Train CrossEntropyLoss : 0.078\n",
            "Valid CrossEntropyLoss : 0.403\n",
            "Valid Accuracy : 0.883\n"
          ]
        },
        {
          "output_type": "stream",
          "name": "stderr",
          "text": [
            "100%|██████████| 22/22 [00:03<00:00,  5.66it/s]\n"
          ]
        },
        {
          "output_type": "stream",
          "name": "stdout",
          "text": [
            "Train CrossEntropyLoss : 0.069\n",
            "Valid CrossEntropyLoss : 0.396\n",
            "Valid Accuracy : 0.886\n"
          ]
        },
        {
          "output_type": "stream",
          "name": "stderr",
          "text": [
            "100%|██████████| 22/22 [00:03<00:00,  5.65it/s]\n"
          ]
        },
        {
          "output_type": "stream",
          "name": "stdout",
          "text": [
            "Train CrossEntropyLoss : 0.061\n",
            "Valid CrossEntropyLoss : 0.392\n",
            "Valid Accuracy : 0.888\n"
          ]
        },
        {
          "output_type": "stream",
          "name": "stderr",
          "text": [
            "100%|██████████| 22/22 [00:03<00:00,  5.66it/s]\n"
          ]
        },
        {
          "output_type": "stream",
          "name": "stdout",
          "text": [
            "Train CrossEntropyLoss : 0.055\n",
            "Valid CrossEntropyLoss : 0.388\n",
            "Valid Accuracy : 0.891\n"
          ]
        },
        {
          "output_type": "stream",
          "name": "stderr",
          "text": [
            "100%|██████████| 22/22 [00:03<00:00,  5.73it/s]\n"
          ]
        },
        {
          "output_type": "stream",
          "name": "stdout",
          "text": [
            "Train CrossEntropyLoss : 0.050\n",
            "Valid CrossEntropyLoss : 0.386\n",
            "Valid Accuracy : 0.891\n"
          ]
        },
        {
          "output_type": "stream",
          "name": "stderr",
          "text": [
            "100%|██████████| 22/22 [00:03<00:00,  5.71it/s]\n"
          ]
        },
        {
          "output_type": "stream",
          "name": "stdout",
          "text": [
            "Train CrossEntropyLoss : 0.045\n",
            "Valid CrossEntropyLoss : 0.385\n",
            "Valid Accuracy : 0.893\n"
          ]
        },
        {
          "output_type": "stream",
          "name": "stderr",
          "text": [
            "100%|██████████| 22/22 [00:03<00:00,  5.72it/s]\n"
          ]
        },
        {
          "output_type": "stream",
          "name": "stdout",
          "text": [
            "Train CrossEntropyLoss : 0.041\n",
            "Valid CrossEntropyLoss : 0.384\n",
            "Valid Accuracy : 0.896\n"
          ]
        },
        {
          "output_type": "stream",
          "name": "stderr",
          "text": [
            "100%|██████████| 22/22 [00:03<00:00,  5.68it/s]\n"
          ]
        },
        {
          "output_type": "stream",
          "name": "stdout",
          "text": [
            "Train CrossEntropyLoss : 0.037\n",
            "Valid CrossEntropyLoss : 0.383\n",
            "Valid Accuracy : 0.895\n"
          ]
        },
        {
          "output_type": "stream",
          "name": "stderr",
          "text": [
            "100%|██████████| 22/22 [00:03<00:00,  5.70it/s]\n"
          ]
        },
        {
          "output_type": "stream",
          "name": "stdout",
          "text": [
            "Train CrossEntropyLoss : 0.034\n",
            "Valid CrossEntropyLoss : 0.383\n",
            "Valid Accuracy : 0.898\n"
          ]
        },
        {
          "output_type": "stream",
          "name": "stderr",
          "text": [
            "100%|██████████| 22/22 [00:03<00:00,  5.73it/s]\n"
          ]
        },
        {
          "output_type": "stream",
          "name": "stdout",
          "text": [
            "Train CrossEntropyLoss : 0.031\n",
            "Valid CrossEntropyLoss : 0.383\n",
            "Valid Accuracy : 0.899\n",
            "Elapsed time is 184.710651 seconds.\n"
          ]
        }
      ]
    },
    {
      "cell_type": "markdown",
      "source": [
        "Here, the additionnal term of the hessian doesn't lead to better performance, but doesn't decrease accuracy either. The time of operation between the two algorithm is less that 10% of SGD's runtime, which leads us to think that the DCASGD would be ideal for nlp with a cluster of GPUs."
      ],
      "metadata": {
        "id": "DMx0wcinroIq"
      }
    }
  ]
}