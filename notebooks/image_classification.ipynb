{
  "cells": [
    {
      "cell_type": "markdown",
      "metadata": {
        "id": "UJ6n7T-Dtuxf"
      },
      "source": [
        "In this notebook, we compare the performance of SGD and DCASGD for several datasets after some hyperparameter tuning\n"
      ]
    },
    {
      "cell_type": "code",
      "execution_count": null,
      "metadata": {
        "colab": {
          "base_uri": "https://localhost:8080/"
        },
        "id": "5Xrtl3pfhF04",
        "outputId": "d36ce446-b68c-43ea-dd0f-341f34b46f5e"
      },
      "outputs": [
        {
          "name": "stdout",
          "output_type": "stream",
          "text": [
            "/usr/local/cuda/bin/nvcc\n",
            "nvcc: NVIDIA (R) Cuda compiler driver\n",
            "Copyright (c) 2005-2020 NVIDIA Corporation\n",
            "Built on Mon_Oct_12_20:09:46_PDT_2020\n",
            "Cuda compilation tools, release 11.1, V11.1.105\n",
            "Build cuda_11.1.TC455_06.29190527_0\n"
          ]
        }
      ],
      "source": [
        "!which nvcc\n",
        "!nvcc --version"
      ]
    },
    {
      "cell_type": "code",
      "execution_count": null,
      "metadata": {
        "colab": {
          "base_uri": "https://localhost:8080/"
        },
        "id": "Pv1c_-pQVUmU",
        "outputId": "cea41490-255d-4e93-d42d-71861ff4a9b0"
      },
      "outputs": [
        {
          "name": "stdout",
          "output_type": "stream",
          "text": [
            "Looking in indexes: https://pypi.org/simple, https://us-python.pkg.dev/colab-wheels/public/simple/\n",
            "Collecting mxnet-cu110\n",
            "  Downloading mxnet_cu110-1.9.1-py3-none-manylinux2014_x86_64.whl (327.3 MB)\n",
            "\u001b[K     |████████████████████████████████| 327.3 MB 6.7 kB/s \n",
            "\u001b[?25hRequirement already satisfied: requests<3,>=2.20.0 in /usr/local/lib/python3.7/dist-packages (from mxnet-cu110) (2.23.0)\n",
            "Requirement already satisfied: numpy<2.0.0,>1.16.0 in /usr/local/lib/python3.7/dist-packages (from mxnet-cu110) (1.21.6)\n",
            "Collecting graphviz<0.9.0,>=0.8.1\n",
            "  Downloading graphviz-0.8.4-py2.py3-none-any.whl (16 kB)\n",
            "Requirement already satisfied: idna<3,>=2.5 in /usr/local/lib/python3.7/dist-packages (from requests<3,>=2.20.0->mxnet-cu110) (2.10)\n",
            "Requirement already satisfied: certifi>=2017.4.17 in /usr/local/lib/python3.7/dist-packages (from requests<3,>=2.20.0->mxnet-cu110) (2022.5.18.1)\n",
            "Requirement already satisfied: chardet<4,>=3.0.2 in /usr/local/lib/python3.7/dist-packages (from requests<3,>=2.20.0->mxnet-cu110) (3.0.4)\n",
            "Requirement already satisfied: urllib3!=1.25.0,!=1.25.1,<1.26,>=1.21.1 in /usr/local/lib/python3.7/dist-packages (from requests<3,>=2.20.0->mxnet-cu110) (1.24.3)\n",
            "Installing collected packages: graphviz, mxnet-cu110\n",
            "  Attempting uninstall: graphviz\n",
            "    Found existing installation: graphviz 0.10.1\n",
            "    Uninstalling graphviz-0.10.1:\n",
            "      Successfully uninstalled graphviz-0.10.1\n",
            "Successfully installed graphviz-0.8.4 mxnet-cu110-1.9.1\n",
            "Mounted at /content/gdrive\n"
          ]
        }
      ],
      "source": [
        "# !pip install requests jupyter\n",
        "!pip install mxnet-cu110\n",
        "from google.colab import drive\n",
        "drive.mount('/content/gdrive')\n",
        "import os\n",
        "import mxnet as mx\n",
        "from mxnet import gluon\n",
        "from mxnet import gluon, optimizer\n",
        "from mxnet.gluon.model_zoo import vision\n",
        "\n",
        "# Uncomment the following line if matplotlib is not installed.\n",
        "# !pip install matplotlib\n",
        "\n",
        "from mxnet import nd, gluon, init, autograd,gpu\n",
        "from mxnet.gluon import data as gdata, utils\n",
        "from mxnet.gluon import nn\n",
        "from mxnet.gluon.data.vision import datasets, transforms\n",
        "from mxnet import image\n",
        "\n",
        "from IPython import display\n",
        "import matplotlib.pyplot as plt\n",
        "import time\n",
        "from tqdm import tqdm\n",
        "import math\n",
        "import numpy as np\n",
        "import copy"
      ]
    },
    {
      "cell_type": "code",
      "execution_count": null,
      "metadata": {
        "id": "dnB2jB1jRUiB"
      },
      "outputs": [],
      "source": [
        "# Simple network to do some tests if you prefer replacing the ResNet18 that we are using thereafter\n",
        "net = nn.Sequential()\n",
        "net.add(nn.Conv2D(channels=32, kernel_size=6, activation='relu'),\n",
        "        nn.BatchNorm(),\n",
        "        nn.Activation('relu'),\n",
        "        nn.Conv2D(channels=32, kernel_size=6, activation='relu'),\n",
        "        nn.BatchNorm(),\n",
        "        nn.Activation('relu'),\n",
        "        nn.MaxPool2D(pool_size=2, strides=2),\n",
        "        nn.Flatten(),\n",
        "        nn.Dense(128),\n",
        "        nn.BatchNorm(),\n",
        "        nn.Activation('relu'),\n",
        "        nn.Dense(10),\n",
        "        nn.BatchNorm(),\n",
        "        nn.Activation('softrelu')\n",
        ")"
      ]
    },
    {
      "cell_type": "code",
      "execution_count": null,
      "metadata": {
        "id": "NFHS6RUWRjVX"
      },
      "outputs": [],
      "source": [
        "def acc(output, label):\n",
        "    \"\"\"\n",
        "    Accuracy\n",
        "\n",
        "    Arguments:\n",
        "        output {(batch, num_output) float32 ndarray} -- the labels computed by the model from the data\n",
        "        label {(batch, ) int32 ndarray} -- actual labels\n",
        "\n",
        "    Returns:\n",
        "        float -- the accuracy\n",
        "    \"\"\"    \n",
        "    # output: \n",
        "    # label: \n",
        "    return (output.argmax(axis=1) ==\n",
        "            label.astype('float32')).mean().asscalar()"
      ]
    },
    {
      "cell_type": "markdown",
      "metadata": {
        "id": "JoNEujxRTThj"
      },
      "source": [
        "# Functions"
      ]
    },
    {
      "cell_type": "code",
      "execution_count": null,
      "metadata": {
        "id": "Yo5ovIfoPjuq"
      },
      "outputs": [],
      "source": [
        "def train_model(optimizer_, train_data, valid_data, batch_size, epochs):\n",
        "    \"\"\"\n",
        "    This is where the model does the training. \n",
        "\n",
        "    Arguments:\n",
        "        optimizer_ {mxnet.optimizer} -- the optimizer we would like to use for the training. It must be already initialised with \n",
        "        the right parameters.\n",
        "        train_data {NDArray} -- data used for the training\n",
        "        valid_data {NDArray} -- data used for the validation\n",
        "        batch_size {int} -- self-explanatory\n",
        "        epochs {int} -- number of epochs to compute\n",
        "\n",
        "    Returns:\n",
        "        train_loss_ -- self-explanatory\n",
        "        train_acc_ -- train accuracy \n",
        "        test_acc -- test accuracy\n",
        "        time_per_epochs -- time per epoch computed (in seconds)\n",
        "    \"\"\"    \n",
        "  trainer = gluon.Trainer(net.collect_params(), optimizer=optimizer_)\n",
        "  test_acc = []\n",
        "  train_loss_ = []\n",
        "  train_acc_ = []\n",
        "  time_per_epochs = []\n",
        "  for epoch in tqdm(range(epochs)):\n",
        "      train_loss, train_acc, valid_acc = 0., 0., 0.\n",
        "      tic = time.time()\n",
        "      \n",
        "      #for data, label in tqdm(train_data):\n",
        "      for data, label in train_data:\n",
        "          data = data.as_in_context(mx.gpu(0))\n",
        "          label = label.as_in_context(mx.gpu(0))\n",
        "\n",
        "          # forward + backward\n",
        "          with autograd.record():\n",
        "              output = net(data)\n",
        "              loss = softmax_cross_entropy(output, label)\n",
        "          \n",
        "          loss.backward()\n",
        "          # update parameters\n",
        "          \n",
        "          trainer.step(batch_size)\n",
        "          # calculate training metrics\n",
        "          train_loss += loss.mean().asscalar()\n",
        "          train_acc += acc(output, label)\n",
        "      \n",
        "      # calculate validation accuracy\n",
        "      for data, label in valid_data:\n",
        "          data = data.as_in_context(mx.gpu(0))\n",
        "          label = label.as_in_context(mx.gpu(0))\n",
        "          valid_acc += acc(net(data), label)\n",
        "      print(\"Epoch %d: loss %.3f, train acc %.3f, test acc %.3f, in %.1f sec\" % (\n",
        "              epoch, train_loss/len(train_data), train_acc/len(train_data),\n",
        "              valid_acc/len(valid_data), time.time()-tic))\n",
        "      train_loss_.append(train_loss/len(train_data))\n",
        "      train_acc_.append(train_acc/len(train_data))\n",
        "      test_acc.append(valid_acc/len(valid_data))\n",
        "      time_per_epochs.append(time.time()-tic)\n",
        "\n",
        "  return train_loss_, train_acc_, test_acc, time_per_epochs"
      ]
    },
    {
      "cell_type": "code",
      "execution_count": null,
      "metadata": {
        "id": "uDXUXoR8Feyo"
      },
      "outputs": [],
      "source": [
        "def comparison(epochs, train_data, valid_data,batch_size, net, lr,lamdas, momentum, num_workers, folder):\n",
        "  \"\"\"\n",
        "  This function allows to compare the performance of a network between DC-ASGD and another optimizer of choice. \n",
        "  We added the required parameters for \n",
        "  DC-ASGD \n",
        "\n",
        "  Arguments:\n",
        "      epochs {int} -- number of epochs to compute\n",
        "      train_data {NDArray} -- data used for the training\n",
        "      valid_data {NDArray} -- data used for the validation\n",
        "      batch_size {int} -- self-explanatory\n",
        "      net {mxnet network} -- the network to be trained\n",
        "      lr {_type_} -- learning rate we apply to both algorithms\n",
        "      lamdas {list, nparray} -- list of the delay compensation factors \n",
        "      momentum {float} -- momentum we apply to both algorithms\n",
        "      num_workers {int} -- number of workers used for data preprocessing in the dataloader\n",
        "      folder {str} -- name to save the figures\n",
        "  \"\"\"  \n",
        "  transformer = transforms.Compose([transforms.ToTensor(),\n",
        "                                    transforms.Normalize(0.13, 0.31)])\n",
        "\n",
        "  train_data = gluon.data.DataLoader(train_data.transform_first(transformer), \n",
        "                                    batch_size=batch_size, \n",
        "                                    shuffle=True, \n",
        "                                    num_workers=num_workers) \n",
        "  valid_data = gluon.data.DataLoader( valid_data.transform_first(transformer),\n",
        "                                      batch_size=batch_size,\n",
        "                                      num_workers=num_workers)\n",
        "  \n",
        "  # DC-ASGD\n",
        "  dcasgd_net = net\n",
        "\n",
        "  all_results = []\n",
        "  for l in lamdas : \n",
        "    dcasgd_net.collect_params().initialize(init=init.Xavier(),force_reinit=True, ctx=mx.gpu(0))\n",
        "    optimizer_ = optimizer.DCASGD(momentum=momentum, lamda=l, learning_rate = lr)\n",
        "    results_dcasgd = train_model(optimizer_, train_data, valid_data, batch_size, epochs)\n",
        "    all_results.append(results_dcasgd)\n",
        "\n",
        "  # SGD\n",
        "  sgd_net = net\n",
        "  sgd_net.collect_params().initialize(init=init.Xavier(),force_reinit=True, ctx=mx.gpu(0))\n",
        "  optimizer_ = optimizer.SGD( wd=0.1, momentum=momentum, learning_rate = 0.03)\n",
        "  results_sgd = train_model(optimizer_, train_data, valid_data, batch_size, epochs)\n",
        "\n",
        "  results = np.array(all_results)\n",
        "\n",
        "\n",
        "  plt.rcParams['figure.figsize'] = [24, 4]\n",
        "  plt.rcParams.update({'font.size': 15})\n",
        "\n",
        "  # Test ACC\n",
        "  plt.subplot(1, 3, 1)\n",
        "  for i, l in enumerate(lamdas) : \n",
        "    plt.scatter(range(epochs),results[:,2][i], label='DC-ASGD, lamda = ' + str(l))\n",
        "  plt.plot(range(epochs),results_sgd[2], label='SGD')\n",
        "  plt.xlabel('Epochs')\n",
        "  plt.ylabel('Accuracy (validation set)')\n",
        "  plt.legend()\n",
        "  plt.grid(True)\n",
        "\n",
        "\n",
        "  # Time per epochs\n",
        "  plt.subplot(1, 3, 2)\n",
        "  for i, l in enumerate(lamdas) : \n",
        "    plt.scatter(range(epochs),results[:,3][i], label='DC-ASGD, lamda = ' + str(l))\n",
        "  plt.plot(range(epochs),results_sgd[3], label='SGD')\n",
        "  plt.xlabel('Epochs')\n",
        "  plt.ylabel('Time per epochs')\n",
        "  plt.legend()\n",
        "  plt.grid(True)\n",
        "\n",
        "\n",
        "  # Training loss\n",
        "  plt.subplot(1, 3, 3)\n",
        "  for i, l in enumerate(lamdas) : \n",
        "    plt.scatter(range(epochs),results[:,0][i], label='DC-ASGD, lamda = ' + str(l))\n",
        "  plt.plot(range(epochs),results_sgd[0], label='SGD')\n",
        "  plt.xlabel('Epochs')\n",
        "  plt.ylabel('Training loss')\n",
        "  plt.legend()\n",
        "  plt.grid(True)\n",
        "\n",
        "  plt.suptitle('Comparison between DCASGD and SGD for learning rate =' + str(lr))\n",
        "  plt.show()\n",
        "  plt.savefig(\"/content/gdrive/My Drive/\" + folder + \"learning_rate_\" + str(lr)+\"_epochs_\" + str(epochs)+ \".png\")\n"
      ]
    },
    {
      "cell_type": "markdown",
      "metadata": {
        "id": "7O1EV5uva27i"
      },
      "source": [
        "## Fashion MNIST\n",
        "\n",
        "we start with the fashion MNSIT dataset"
      ]
    },
    {
      "cell_type": "code",
      "execution_count": null,
      "metadata": {
        "colab": {
          "base_uri": "https://localhost:8080/"
        },
        "id": "wWW4sgaD9nrH",
        "outputId": "729f9f50-61e4-46b7-f75b-7c95d577da46"
      },
      "outputs": [
        {
          "name": "stdout",
          "output_type": "stream",
          "text": [
            "Downloading /root/.mxnet/datasets/fashion-mnist/train-images-idx3-ubyte.gz from https://apache-mxnet.s3-accelerate.dualstack.amazonaws.com/gluon/dataset/fashion-mnist/train-images-idx3-ubyte.gz...\n",
            "Downloading /root/.mxnet/datasets/fashion-mnist/train-labels-idx1-ubyte.gz from https://apache-mxnet.s3-accelerate.dualstack.amazonaws.com/gluon/dataset/fashion-mnist/train-labels-idx1-ubyte.gz...\n",
            "Downloading /root/.mxnet/datasets/fashion-mnist/t10k-images-idx3-ubyte.gz from https://apache-mxnet.s3-accelerate.dualstack.amazonaws.com/gluon/dataset/fashion-mnist/t10k-images-idx3-ubyte.gz...\n",
            "Downloading /root/.mxnet/datasets/fashion-mnist/t10k-labels-idx1-ubyte.gz from https://apache-mxnet.s3-accelerate.dualstack.amazonaws.com/gluon/dataset/fashion-mnist/t10k-labels-idx1-ubyte.gz...\n"
          ]
        }
      ],
      "source": [
        "  mnist_train = datasets.FashionMNIST(train=True)\n",
        "  mnist_valid = datasets.FashionMNIST(train=False)"
      ]
    },
    {
      "cell_type": "code",
      "execution_count": null,
      "metadata": {
        "id": "08-OLvbxuzzL"
      },
      "outputs": [],
      "source": [
        "# hyper-parameters\n",
        "epochs = 10\n",
        "batch_size = 256\n",
        "\n",
        "# model\n",
        "net = vision.resnet18_v1()\n",
        "\n",
        "# criterion\n",
        "softmax_cross_entropy = gluon.loss.SoftmaxCrossEntropyLoss()\n",
        "\n",
        "lr_num_update = 3"
      ]
    },
    {
      "cell_type": "markdown",
      "metadata": {
        "id": "rGj6Fc7OjWWe"
      },
      "source": [
        "### Find best learning rate for SGD"
      ]
    },
    {
      "cell_type": "code",
      "execution_count": null,
      "metadata": {
        "colab": {
          "base_uri": "https://localhost:8080/",
          "height": 1000
        },
        "id": "ggig_KaRlqQz",
        "outputId": "645e71ce-5c7c-454b-9054-7c3694589c60"
      },
      "outputs": [
        {
          "name": "stderr",
          "output_type": "stream",
          "text": [
            " 10%|█         | 1/10 [00:35<05:18, 35.44s/it]"
          ]
        },
        {
          "name": "stdout",
          "output_type": "stream",
          "text": [
            "Epoch 0: loss 0.570, train acc 0.815, test acc 0.862, in 35.4 sec\n"
          ]
        },
        {
          "name": "stderr",
          "output_type": "stream",
          "text": [
            "\r 20%|██        | 2/10 [01:01<04:00, 30.07s/it]"
          ]
        },
        {
          "name": "stdout",
          "output_type": "stream",
          "text": [
            "Epoch 1: loss 0.309, train acc 0.885, test acc 0.886, in 26.3 sec\n"
          ]
        },
        {
          "name": "stderr",
          "output_type": "stream",
          "text": [
            "\r 30%|███       | 3/10 [01:29<03:21, 28.84s/it]"
          ]
        },
        {
          "name": "stdout",
          "output_type": "stream",
          "text": [
            "Epoch 2: loss 0.255, train acc 0.905, test acc 0.883, in 27.4 sec\n"
          ]
        },
        {
          "name": "stderr",
          "output_type": "stream",
          "text": [
            "\r 40%|████      | 4/10 [01:55<02:46, 27.78s/it]"
          ]
        },
        {
          "name": "stdout",
          "output_type": "stream",
          "text": [
            "Epoch 3: loss 0.217, train acc 0.919, test acc 0.896, in 26.1 sec\n"
          ]
        },
        {
          "name": "stderr",
          "output_type": "stream",
          "text": [
            "\r 50%|█████     | 5/10 [02:21<02:16, 27.38s/it]"
          ]
        },
        {
          "name": "stdout",
          "output_type": "stream",
          "text": [
            "Epoch 4: loss 0.188, train acc 0.928, test acc 0.901, in 26.7 sec\n"
          ]
        },
        {
          "name": "stderr",
          "output_type": "stream",
          "text": [
            "\r 60%|██████    | 6/10 [02:48<01:48, 27.08s/it]"
          ]
        },
        {
          "name": "stdout",
          "output_type": "stream",
          "text": [
            "Epoch 5: loss 0.163, train acc 0.938, test acc 0.910, in 26.5 sec\n"
          ]
        },
        {
          "name": "stderr",
          "output_type": "stream",
          "text": [
            "\r 70%|███████   | 7/10 [03:14<01:20, 26.89s/it]"
          ]
        },
        {
          "name": "stdout",
          "output_type": "stream",
          "text": [
            "Epoch 6: loss 0.139, train acc 0.947, test acc 0.909, in 26.5 sec\n"
          ]
        },
        {
          "name": "stderr",
          "output_type": "stream",
          "text": [
            "\r 80%|████████  | 8/10 [03:41<00:53, 26.63s/it]"
          ]
        },
        {
          "name": "stdout",
          "output_type": "stream",
          "text": [
            "Epoch 7: loss 0.122, train acc 0.954, test acc 0.907, in 26.1 sec\n"
          ]
        },
        {
          "name": "stderr",
          "output_type": "stream",
          "text": [
            "\r 90%|█████████ | 9/10 [04:07<00:26, 26.45s/it]"
          ]
        },
        {
          "name": "stdout",
          "output_type": "stream",
          "text": [
            "Epoch 8: loss 0.107, train acc 0.960, test acc 0.900, in 26.1 sec\n"
          ]
        },
        {
          "name": "stderr",
          "output_type": "stream",
          "text": [
            "100%|██████████| 10/10 [04:34<00:00, 27.48s/it]\n"
          ]
        },
        {
          "name": "stdout",
          "output_type": "stream",
          "text": [
            "Epoch 9: loss 0.092, train acc 0.966, test acc 0.900, in 27.7 sec\n"
          ]
        },
        {
          "name": "stderr",
          "output_type": "stream",
          "text": [
            " 10%|█         | 1/10 [00:26<03:55, 26.12s/it]"
          ]
        },
        {
          "name": "stdout",
          "output_type": "stream",
          "text": [
            "Epoch 0: loss 0.570, train acc 0.816, test acc 0.874, in 26.1 sec\n"
          ]
        },
        {
          "name": "stderr",
          "output_type": "stream",
          "text": [
            "\r 20%|██        | 2/10 [00:52<03:31, 26.39s/it]"
          ]
        },
        {
          "name": "stdout",
          "output_type": "stream",
          "text": [
            "Epoch 1: loss 0.308, train acc 0.886, test acc 0.890, in 26.6 sec\n"
          ]
        },
        {
          "name": "stderr",
          "output_type": "stream",
          "text": [
            "\r 30%|███       | 3/10 [01:19<03:04, 26.38s/it]"
          ]
        },
        {
          "name": "stdout",
          "output_type": "stream",
          "text": [
            "Epoch 2: loss 0.251, train acc 0.906, test acc 0.883, in 26.4 sec\n"
          ]
        },
        {
          "name": "stderr",
          "output_type": "stream",
          "text": [
            "\r 40%|████      | 4/10 [01:46<02:41, 26.95s/it]"
          ]
        },
        {
          "name": "stdout",
          "output_type": "stream",
          "text": [
            "Epoch 3: loss 0.215, train acc 0.918, test acc 0.892, in 27.8 sec\n"
          ]
        },
        {
          "name": "stderr",
          "output_type": "stream",
          "text": [
            "\r 50%|█████     | 5/10 [02:13<02:14, 26.84s/it]"
          ]
        },
        {
          "name": "stdout",
          "output_type": "stream",
          "text": [
            "Epoch 4: loss 0.181, train acc 0.931, test acc 0.898, in 26.6 sec\n"
          ]
        },
        {
          "name": "stderr",
          "output_type": "stream",
          "text": [
            "\r 60%|██████    | 6/10 [02:39<01:46, 26.66s/it]"
          ]
        },
        {
          "name": "stdout",
          "output_type": "stream",
          "text": [
            "Epoch 5: loss 0.162, train acc 0.938, test acc 0.897, in 26.3 sec\n"
          ]
        },
        {
          "name": "stderr",
          "output_type": "stream",
          "text": [
            "\r 70%|███████   | 7/10 [03:06<01:19, 26.51s/it]"
          ]
        },
        {
          "name": "stdout",
          "output_type": "stream",
          "text": [
            "Epoch 6: loss 0.140, train acc 0.947, test acc 0.901, in 26.2 sec\n"
          ]
        },
        {
          "name": "stderr",
          "output_type": "stream",
          "text": [
            "\r 80%|████████  | 8/10 [03:32<00:52, 26.49s/it]"
          ]
        },
        {
          "name": "stdout",
          "output_type": "stream",
          "text": [
            "Epoch 7: loss 0.123, train acc 0.953, test acc 0.906, in 26.5 sec\n"
          ]
        },
        {
          "name": "stderr",
          "output_type": "stream",
          "text": [
            "\r 90%|█████████ | 9/10 [03:58<00:26, 26.38s/it]"
          ]
        },
        {
          "name": "stdout",
          "output_type": "stream",
          "text": [
            "Epoch 8: loss 0.109, train acc 0.959, test acc 0.906, in 26.1 sec\n"
          ]
        },
        {
          "name": "stderr",
          "output_type": "stream",
          "text": [
            "100%|██████████| 10/10 [04:25<00:00, 26.50s/it]\n"
          ]
        },
        {
          "name": "stdout",
          "output_type": "stream",
          "text": [
            "Epoch 9: loss 0.095, train acc 0.965, test acc 0.910, in 26.4 sec\n"
          ]
        },
        {
          "name": "stderr",
          "output_type": "stream",
          "text": [
            " 10%|█         | 1/10 [00:28<04:15, 28.33s/it]"
          ]
        },
        {
          "name": "stdout",
          "output_type": "stream",
          "text": [
            "Epoch 0: loss 0.555, train acc 0.819, test acc 0.863, in 28.3 sec\n"
          ]
        },
        {
          "name": "stderr",
          "output_type": "stream",
          "text": [
            "\r 20%|██        | 2/10 [00:54<03:37, 27.15s/it]"
          ]
        },
        {
          "name": "stdout",
          "output_type": "stream",
          "text": [
            "Epoch 1: loss 0.312, train acc 0.884, test acc 0.872, in 26.3 sec\n"
          ]
        },
        {
          "name": "stderr",
          "output_type": "stream",
          "text": [
            "\r 30%|███       | 3/10 [01:20<03:07, 26.75s/it]"
          ]
        },
        {
          "name": "stdout",
          "output_type": "stream",
          "text": [
            "Epoch 2: loss 0.255, train acc 0.904, test acc 0.897, in 26.3 sec\n"
          ]
        },
        {
          "name": "stderr",
          "output_type": "stream",
          "text": [
            "\r 40%|████      | 4/10 [01:47<02:40, 26.68s/it]"
          ]
        },
        {
          "name": "stdout",
          "output_type": "stream",
          "text": [
            "Epoch 3: loss 0.217, train acc 0.918, test acc 0.902, in 26.6 sec\n"
          ]
        },
        {
          "name": "stderr",
          "output_type": "stream",
          "text": [
            "\r 50%|█████     | 5/10 [02:13<02:12, 26.55s/it]"
          ]
        },
        {
          "name": "stdout",
          "output_type": "stream",
          "text": [
            "Epoch 4: loss 0.189, train acc 0.929, test acc 0.892, in 26.3 sec\n"
          ]
        },
        {
          "name": "stderr",
          "output_type": "stream",
          "text": [
            "\r 60%|██████    | 6/10 [02:40<01:46, 26.54s/it]"
          ]
        },
        {
          "name": "stdout",
          "output_type": "stream",
          "text": [
            "Epoch 5: loss 0.163, train acc 0.939, test acc 0.901, in 26.5 sec\n"
          ]
        },
        {
          "name": "stderr",
          "output_type": "stream",
          "text": [
            "\r 70%|███████   | 7/10 [03:06<01:19, 26.47s/it]"
          ]
        },
        {
          "name": "stdout",
          "output_type": "stream",
          "text": [
            "Epoch 6: loss 0.145, train acc 0.944, test acc 0.907, in 26.3 sec\n"
          ]
        },
        {
          "name": "stderr",
          "output_type": "stream",
          "text": [
            "\r 80%|████████  | 8/10 [03:35<00:54, 27.20s/it]"
          ]
        },
        {
          "name": "stdout",
          "output_type": "stream",
          "text": [
            "Epoch 7: loss 0.124, train acc 0.953, test acc 0.897, in 28.8 sec\n"
          ]
        },
        {
          "name": "stderr",
          "output_type": "stream",
          "text": [
            "\r 90%|█████████ | 9/10 [04:01<00:26, 26.97s/it]"
          ]
        },
        {
          "name": "stdout",
          "output_type": "stream",
          "text": [
            "Epoch 8: loss 0.108, train acc 0.959, test acc 0.906, in 26.4 sec\n"
          ]
        },
        {
          "name": "stderr",
          "output_type": "stream",
          "text": [
            "100%|██████████| 10/10 [04:28<00:00, 26.83s/it]\n"
          ]
        },
        {
          "name": "stdout",
          "output_type": "stream",
          "text": [
            "Epoch 9: loss 0.093, train acc 0.965, test acc 0.908, in 26.4 sec\n"
          ]
        },
        {
          "name": "stderr",
          "output_type": "stream",
          "text": [
            " 10%|█         | 1/10 [00:26<03:55, 26.22s/it]"
          ]
        },
        {
          "name": "stdout",
          "output_type": "stream",
          "text": [
            "Epoch 0: loss 0.557, train acc 0.820, test acc 0.867, in 26.2 sec\n"
          ]
        },
        {
          "name": "stderr",
          "output_type": "stream",
          "text": [
            "\r 20%|██        | 2/10 [00:52<03:29, 26.21s/it]"
          ]
        },
        {
          "name": "stdout",
          "output_type": "stream",
          "text": [
            "Epoch 1: loss 0.308, train acc 0.886, test acc 0.891, in 26.2 sec\n"
          ]
        },
        {
          "name": "stderr",
          "output_type": "stream",
          "text": [
            "\r 30%|███       | 3/10 [01:20<03:09, 27.03s/it]"
          ]
        },
        {
          "name": "stdout",
          "output_type": "stream",
          "text": [
            "Epoch 2: loss 0.252, train acc 0.906, test acc 0.897, in 28.0 sec\n"
          ]
        },
        {
          "name": "stderr",
          "output_type": "stream",
          "text": [
            "\r 40%|████      | 4/10 [01:46<02:40, 26.71s/it]"
          ]
        },
        {
          "name": "stdout",
          "output_type": "stream",
          "text": [
            "Epoch 3: loss 0.213, train acc 0.919, test acc 0.901, in 26.2 sec\n"
          ]
        },
        {
          "name": "stderr",
          "output_type": "stream",
          "text": [
            "\r 50%|█████     | 5/10 [02:12<02:12, 26.55s/it]"
          ]
        },
        {
          "name": "stdout",
          "output_type": "stream",
          "text": [
            "Epoch 4: loss 0.186, train acc 0.929, test acc 0.905, in 26.3 sec\n"
          ]
        },
        {
          "name": "stderr",
          "output_type": "stream",
          "text": [
            "\r 60%|██████    | 6/10 [02:39<01:45, 26.50s/it]"
          ]
        },
        {
          "name": "stdout",
          "output_type": "stream",
          "text": [
            "Epoch 5: loss 0.163, train acc 0.939, test acc 0.902, in 26.4 sec\n"
          ]
        },
        {
          "name": "stderr",
          "output_type": "stream",
          "text": [
            "\r 70%|███████   | 7/10 [03:05<01:19, 26.37s/it]"
          ]
        },
        {
          "name": "stdout",
          "output_type": "stream",
          "text": [
            "Epoch 6: loss 0.138, train acc 0.948, test acc 0.897, in 26.1 sec\n"
          ]
        },
        {
          "name": "stderr",
          "output_type": "stream",
          "text": [
            "\r 80%|████████  | 8/10 [03:31<00:52, 26.38s/it]"
          ]
        },
        {
          "name": "stdout",
          "output_type": "stream",
          "text": [
            "Epoch 7: loss 0.121, train acc 0.954, test acc 0.903, in 26.4 sec\n"
          ]
        },
        {
          "name": "stderr",
          "output_type": "stream",
          "text": [
            "\r 90%|█████████ | 9/10 [03:58<00:26, 26.38s/it]"
          ]
        },
        {
          "name": "stdout",
          "output_type": "stream",
          "text": [
            "Epoch 8: loss 0.107, train acc 0.959, test acc 0.907, in 26.4 sec\n"
          ]
        },
        {
          "name": "stderr",
          "output_type": "stream",
          "text": [
            "100%|██████████| 10/10 [04:24<00:00, 26.43s/it]\n"
          ]
        },
        {
          "name": "stdout",
          "output_type": "stream",
          "text": [
            "Epoch 9: loss 0.094, train acc 0.965, test acc 0.907, in 26.1 sec\n"
          ]
        },
        {
          "name": "stderr",
          "output_type": "stream",
          "text": [
            " 10%|█         | 1/10 [00:14<02:08, 14.24s/it]"
          ]
        },
        {
          "name": "stdout",
          "output_type": "stream",
          "text": [
            "Epoch 0: loss 0.567, train acc 0.824, test acc 0.779, in 14.2 sec\n"
          ]
        },
        {
          "name": "stderr",
          "output_type": "stream",
          "text": [
            "\r 20%|██        | 2/10 [00:28<01:52, 14.08s/it]"
          ]
        },
        {
          "name": "stdout",
          "output_type": "stream",
          "text": [
            "Epoch 1: loss 0.413, train acc 0.872, test acc 0.818, in 14.0 sec\n"
          ]
        },
        {
          "name": "stderr",
          "output_type": "stream",
          "text": [
            "\r 30%|███       | 3/10 [00:42<01:38, 14.08s/it]"
          ]
        },
        {
          "name": "stdout",
          "output_type": "stream",
          "text": [
            "Epoch 2: loss 0.500, train acc 0.874, test acc 0.858, in 14.1 sec\n"
          ]
        },
        {
          "name": "stderr",
          "output_type": "stream",
          "text": [
            "\r 40%|████      | 4/10 [00:56<01:24, 14.11s/it]"
          ]
        },
        {
          "name": "stdout",
          "output_type": "stream",
          "text": [
            "Epoch 3: loss 0.709, train acc 0.835, test acc 0.694, in 14.1 sec\n"
          ]
        },
        {
          "name": "stderr",
          "output_type": "stream",
          "text": [
            "\r 50%|█████     | 5/10 [01:10<01:10, 14.07s/it]"
          ]
        },
        {
          "name": "stdout",
          "output_type": "stream",
          "text": [
            "Epoch 4: loss 0.643, train acc 0.852, test acc 0.859, in 14.0 sec\n"
          ]
        },
        {
          "name": "stderr",
          "output_type": "stream",
          "text": [
            "\r 60%|██████    | 6/10 [01:24<00:56, 14.08s/it]"
          ]
        },
        {
          "name": "stdout",
          "output_type": "stream",
          "text": [
            "Epoch 5: loss 0.581, train acc 0.878, test acc 0.875, in 14.1 sec\n"
          ]
        },
        {
          "name": "stderr",
          "output_type": "stream",
          "text": [
            "\r 70%|███████   | 7/10 [01:39<00:43, 14.38s/it]"
          ]
        },
        {
          "name": "stdout",
          "output_type": "stream",
          "text": [
            "Epoch 6: loss 0.568, train acc 0.883, test acc 0.873, in 15.0 sec\n"
          ]
        },
        {
          "name": "stderr",
          "output_type": "stream",
          "text": [
            "\r 80%|████████  | 8/10 [01:54<00:29, 14.55s/it]"
          ]
        },
        {
          "name": "stdout",
          "output_type": "stream",
          "text": [
            "Epoch 7: loss 0.559, train acc 0.887, test acc 0.889, in 14.9 sec\n"
          ]
        },
        {
          "name": "stderr",
          "output_type": "stream",
          "text": [
            "\r 90%|█████████ | 9/10 [02:08<00:14, 14.44s/it]"
          ]
        },
        {
          "name": "stdout",
          "output_type": "stream",
          "text": [
            "Epoch 8: loss 0.551, train acc 0.889, test acc 0.890, in 14.2 sec\n"
          ]
        },
        {
          "name": "stderr",
          "output_type": "stream",
          "text": [
            "100%|██████████| 10/10 [02:22<00:00, 14.29s/it]"
          ]
        },
        {
          "name": "stdout",
          "output_type": "stream",
          "text": [
            "Epoch 9: loss 0.547, train acc 0.890, test acc 0.873, in 14.3 sec\n"
          ]
        },
        {
          "name": "stderr",
          "output_type": "stream",
          "text": [
            "\n"
          ]
        },
        {
          "data": {
            "image/png": "[encoded data removed]",
            "text/plain": [
              "<Figure size 1728x288 with 3 Axes>"
            ]
          },
          "metadata": {
            "needs_background": "light"
          },
          "output_type": "display_data"
        },
        {
          "data": {
            "text/plain": [
              "<Figure size 1728x288 with 0 Axes>"
            ]
          },
          "metadata": {},
          "output_type": "display_data"
        }
      ],
      "source": [
        "comparison(10, mnist_train, mnist_valid, batch_size,net, lr = 0.03, lamdas = np.logspace(-3,0,4), momentum=0.0, num_workers=8, folder = \"fMNIST\")"
      ]
    },
    {
      "cell_type": "markdown",
      "metadata": {
        "id": "M253Td7X9D5W"
      },
      "source": [
        "## MNIST"
      ]
    },
    {
      "cell_type": "code",
      "execution_count": null,
      "metadata": {
        "colab": {
          "base_uri": "https://localhost:8080/"
        },
        "id": "xzkLa5Be9DcF",
        "outputId": "7ae1cbf7-e4f4-4851-a03f-6474e284b696"
      },
      "outputs": [
        {
          "name": "stdout",
          "output_type": "stream",
          "text": [
            "Downloading /root/.mxnet/datasets/mnist/train-images-idx3-ubyte.gz from https://apache-mxnet.s3-accelerate.dualstack.amazonaws.com/gluon/dataset/mnist/train-images-idx3-ubyte.gz...\n",
            "Downloading /root/.mxnet/datasets/mnist/train-labels-idx1-ubyte.gz from https://apache-mxnet.s3-accelerate.dualstack.amazonaws.com/gluon/dataset/mnist/train-labels-idx1-ubyte.gz...\n",
            "Downloading /root/.mxnet/datasets/mnist/t10k-images-idx3-ubyte.gz from https://apache-mxnet.s3-accelerate.dualstack.amazonaws.com/gluon/dataset/mnist/t10k-images-idx3-ubyte.gz...\n",
            "Downloading /root/.mxnet/datasets/mnist/t10k-labels-idx1-ubyte.gz from https://apache-mxnet.s3-accelerate.dualstack.amazonaws.com/gluon/dataset/mnist/t10k-labels-idx1-ubyte.gz...\n"
          ]
        }
      ],
      "source": [
        "mnist_train = datasets.MNIST(train=True)\n",
        "mnist_valid = datasets.MNIST(train=False)"
      ]
    },
    {
      "cell_type": "code",
      "execution_count": null,
      "metadata": {
        "id": "osEfVRckGErX"
      },
      "outputs": [],
      "source": [
        "# hyper-parameters\n",
        "epochs = 10\n",
        "batch_size = 256\n",
        "\n",
        "# model\n",
        "net = vision.resnet18_v1()\n",
        "\n",
        "lr_num_update = 3"
      ]
    },
    {
      "cell_type": "code",
      "execution_count": null,
      "metadata": {
        "colab": {
          "base_uri": "https://localhost:8080/",
          "height": 1000
        },
        "id": "tyQWiA-AGGC1",
        "outputId": "5e957562-b305-46b4-ab0f-5753a8341158"
      },
      "outputs": [
        {
          "name": "stderr",
          "output_type": "stream",
          "text": [
            " 10%|█         | 1/10 [00:27<04:04, 27.17s/it]"
          ]
        },
        {
          "name": "stdout",
          "output_type": "stream",
          "text": [
            "Epoch 0: loss 0.184, train acc 0.958, test acc 0.984, in 27.2 sec\n"
          ]
        },
        {
          "name": "stderr",
          "output_type": "stream",
          "text": [
            "\r 20%|██        | 2/10 [00:53<03:35, 26.92s/it]"
          ]
        },
        {
          "name": "stdout",
          "output_type": "stream",
          "text": [
            "Epoch 1: loss 0.032, train acc 0.990, test acc 0.987, in 26.7 sec\n"
          ]
        },
        {
          "name": "stderr",
          "output_type": "stream",
          "text": [
            "\r 30%|███       | 3/10 [01:20<03:07, 26.82s/it]"
          ]
        },
        {
          "name": "stdout",
          "output_type": "stream",
          "text": [
            "Epoch 2: loss 0.013, train acc 0.996, test acc 0.990, in 26.7 sec\n"
          ]
        },
        {
          "name": "stderr",
          "output_type": "stream",
          "text": [
            "\r 40%|████      | 4/10 [01:47<02:40, 26.79s/it]"
          ]
        },
        {
          "name": "stdout",
          "output_type": "stream",
          "text": [
            "Epoch 3: loss 0.006, train acc 0.999, test acc 0.991, in 26.7 sec\n"
          ]
        },
        {
          "name": "stderr",
          "output_type": "stream",
          "text": [
            "\r 50%|█████     | 5/10 [02:14<02:13, 26.78s/it]"
          ]
        },
        {
          "name": "stdout",
          "output_type": "stream",
          "text": [
            "Epoch 4: loss 0.003, train acc 1.000, test acc 0.991, in 26.8 sec\n"
          ]
        },
        {
          "name": "stderr",
          "output_type": "stream",
          "text": [
            "\r 60%|██████    | 6/10 [02:40<01:46, 26.69s/it]"
          ]
        },
        {
          "name": "stdout",
          "output_type": "stream",
          "text": [
            "Epoch 5: loss 0.001, train acc 1.000, test acc 0.992, in 26.5 sec\n"
          ]
        },
        {
          "name": "stderr",
          "output_type": "stream",
          "text": [
            "\r 70%|███████   | 7/10 [03:06<01:19, 26.58s/it]"
          ]
        },
        {
          "name": "stdout",
          "output_type": "stream",
          "text": [
            "Epoch 6: loss 0.001, train acc 1.000, test acc 0.992, in 26.3 sec\n"
          ]
        },
        {
          "name": "stderr",
          "output_type": "stream",
          "text": [
            "\r 80%|████████  | 8/10 [03:33<00:53, 26.56s/it]"
          ]
        },
        {
          "name": "stdout",
          "output_type": "stream",
          "text": [
            "Epoch 7: loss 0.001, train acc 1.000, test acc 0.992, in 26.5 sec\n"
          ]
        },
        {
          "name": "stderr",
          "output_type": "stream",
          "text": [
            "\r 90%|█████████ | 9/10 [04:00<00:26, 26.57s/it]"
          ]
        },
        {
          "name": "stdout",
          "output_type": "stream",
          "text": [
            "Epoch 8: loss 0.000, train acc 1.000, test acc 0.992, in 26.6 sec\n"
          ]
        },
        {
          "name": "stderr",
          "output_type": "stream",
          "text": [
            "100%|██████████| 10/10 [04:28<00:00, 26.81s/it]\n"
          ]
        },
        {
          "name": "stdout",
          "output_type": "stream",
          "text": [
            "Epoch 9: loss 0.000, train acc 1.000, test acc 0.992, in 28.0 sec\n"
          ]
        },
        {
          "name": "stderr",
          "output_type": "stream",
          "text": [
            " 10%|█         | 1/10 [00:26<03:59, 26.59s/it]"
          ]
        },
        {
          "name": "stdout",
          "output_type": "stream",
          "text": [
            "Epoch 0: loss 0.187, train acc 0.959, test acc 0.987, in 26.6 sec\n"
          ]
        },
        {
          "name": "stderr",
          "output_type": "stream",
          "text": [
            "\r 20%|██        | 2/10 [00:53<03:33, 26.73s/it]"
          ]
        },
        {
          "name": "stdout",
          "output_type": "stream",
          "text": [
            "Epoch 1: loss 0.032, train acc 0.990, test acc 0.990, in 26.8 sec\n"
          ]
        },
        {
          "name": "stderr",
          "output_type": "stream",
          "text": [
            "\r 30%|███       | 3/10 [01:20<03:07, 26.78s/it]"
          ]
        },
        {
          "name": "stdout",
          "output_type": "stream",
          "text": [
            "Epoch 2: loss 0.014, train acc 0.996, test acc 0.990, in 26.8 sec\n"
          ]
        },
        {
          "name": "stderr",
          "output_type": "stream",
          "text": [
            "\r 40%|████      | 4/10 [01:46<02:40, 26.69s/it]"
          ]
        },
        {
          "name": "stdout",
          "output_type": "stream",
          "text": [
            "Epoch 3: loss 0.006, train acc 0.998, test acc 0.992, in 26.5 sec\n"
          ]
        },
        {
          "name": "stderr",
          "output_type": "stream",
          "text": [
            "\r 50%|█████     | 5/10 [02:13<02:13, 26.70s/it]"
          ]
        },
        {
          "name": "stdout",
          "output_type": "stream",
          "text": [
            "Epoch 4: loss 0.003, train acc 1.000, test acc 0.992, in 26.7 sec\n"
          ]
        },
        {
          "name": "stderr",
          "output_type": "stream",
          "text": [
            "\r 60%|██████    | 6/10 [02:40<01:46, 26.65s/it]"
          ]
        },
        {
          "name": "stdout",
          "output_type": "stream",
          "text": [
            "Epoch 5: loss 0.001, train acc 1.000, test acc 0.992, in 26.6 sec\n"
          ]
        },
        {
          "name": "stderr",
          "output_type": "stream",
          "text": [
            "\r 70%|███████   | 7/10 [03:06<01:19, 26.66s/it]"
          ]
        },
        {
          "name": "stdout",
          "output_type": "stream",
          "text": [
            "Epoch 6: loss 0.001, train acc 1.000, test acc 0.992, in 26.7 sec\n"
          ]
        },
        {
          "name": "stderr",
          "output_type": "stream",
          "text": [
            "\r 80%|████████  | 8/10 [03:33<00:53, 26.59s/it]"
          ]
        },
        {
          "name": "stdout",
          "output_type": "stream",
          "text": [
            "Epoch 7: loss 0.001, train acc 1.000, test acc 0.992, in 26.4 sec\n"
          ]
        },
        {
          "name": "stderr",
          "output_type": "stream",
          "text": [
            "\r 90%|█████████ | 9/10 [03:59<00:26, 26.48s/it]"
          ]
        },
        {
          "name": "stdout",
          "output_type": "stream",
          "text": [
            "Epoch 8: loss 0.000, train acc 1.000, test acc 0.993, in 26.2 sec\n"
          ]
        },
        {
          "name": "stderr",
          "output_type": "stream",
          "text": [
            "100%|██████████| 10/10 [04:25<00:00, 26.58s/it]\n"
          ]
        },
        {
          "name": "stdout",
          "output_type": "stream",
          "text": [
            "Epoch 9: loss 0.000, train acc 1.000, test acc 0.992, in 26.3 sec\n"
          ]
        },
        {
          "name": "stderr",
          "output_type": "stream",
          "text": [
            " 10%|█         | 1/10 [00:28<04:14, 28.33s/it]"
          ]
        },
        {
          "name": "stdout",
          "output_type": "stream",
          "text": [
            "Epoch 0: loss 0.178, train acc 0.959, test acc 0.984, in 28.3 sec\n"
          ]
        },
        {
          "name": "stderr",
          "output_type": "stream",
          "text": [
            "\r 20%|██        | 2/10 [00:54<03:37, 27.22s/it]"
          ]
        },
        {
          "name": "stdout",
          "output_type": "stream",
          "text": [
            "Epoch 1: loss 0.030, train acc 0.991, test acc 0.988, in 26.4 sec\n"
          ]
        },
        {
          "name": "stderr",
          "output_type": "stream",
          "text": [
            "\r 30%|███       | 3/10 [01:21<03:07, 26.80s/it]"
          ]
        },
        {
          "name": "stdout",
          "output_type": "stream",
          "text": [
            "Epoch 2: loss 0.013, train acc 0.996, test acc 0.989, in 26.3 sec\n"
          ]
        },
        {
          "name": "stderr",
          "output_type": "stream",
          "text": [
            "\r 40%|████      | 4/10 [01:47<02:40, 26.71s/it]"
          ]
        },
        {
          "name": "stdout",
          "output_type": "stream",
          "text": [
            "Epoch 3: loss 0.005, train acc 0.999, test acc 0.991, in 26.6 sec\n"
          ]
        },
        {
          "name": "stderr",
          "output_type": "stream",
          "text": [
            "\r 50%|█████     | 5/10 [02:14<02:13, 26.69s/it]"
          ]
        },
        {
          "name": "stdout",
          "output_type": "stream",
          "text": [
            "Epoch 4: loss 0.002, train acc 1.000, test acc 0.990, in 26.7 sec\n"
          ]
        },
        {
          "name": "stderr",
          "output_type": "stream",
          "text": [
            "\r 60%|██████    | 6/10 [02:41<01:46, 26.74s/it]"
          ]
        },
        {
          "name": "stdout",
          "output_type": "stream",
          "text": [
            "Epoch 5: loss 0.001, train acc 1.000, test acc 0.991, in 26.8 sec\n"
          ]
        },
        {
          "name": "stderr",
          "output_type": "stream",
          "text": [
            "\r 70%|███████   | 7/10 [03:07<01:19, 26.61s/it]"
          ]
        },
        {
          "name": "stdout",
          "output_type": "stream",
          "text": [
            "Epoch 6: loss 0.001, train acc 1.000, test acc 0.991, in 26.4 sec\n"
          ]
        },
        {
          "name": "stderr",
          "output_type": "stream",
          "text": [
            "\r 80%|████████  | 8/10 [03:33<00:53, 26.57s/it]"
          ]
        },
        {
          "name": "stdout",
          "output_type": "stream",
          "text": [
            "Epoch 7: loss 0.000, train acc 1.000, test acc 0.991, in 26.5 sec\n"
          ]
        },
        {
          "name": "stderr",
          "output_type": "stream",
          "text": [
            "\r 90%|█████████ | 9/10 [04:00<00:26, 26.52s/it]"
          ]
        },
        {
          "name": "stdout",
          "output_type": "stream",
          "text": [
            "Epoch 8: loss 0.000, train acc 1.000, test acc 0.991, in 26.4 sec\n"
          ]
        },
        {
          "name": "stderr",
          "output_type": "stream",
          "text": [
            "100%|██████████| 10/10 [04:26<00:00, 26.69s/it]\n"
          ]
        },
        {
          "name": "stdout",
          "output_type": "stream",
          "text": [
            "Epoch 9: loss 0.000, train acc 1.000, test acc 0.991, in 26.5 sec\n"
          ]
        },
        {
          "name": "stderr",
          "output_type": "stream",
          "text": [
            " 10%|█         | 1/10 [00:26<03:59, 26.60s/it]"
          ]
        },
        {
          "name": "stdout",
          "output_type": "stream",
          "text": [
            "Epoch 0: loss 0.180, train acc 0.959, test acc 0.983, in 26.6 sec\n"
          ]
        },
        {
          "name": "stderr",
          "output_type": "stream",
          "text": [
            "\r 20%|██        | 2/10 [00:53<03:32, 26.53s/it]"
          ]
        },
        {
          "name": "stdout",
          "output_type": "stream",
          "text": [
            "Epoch 1: loss 0.032, train acc 0.990, test acc 0.990, in 26.5 sec\n"
          ]
        },
        {
          "name": "stderr",
          "output_type": "stream",
          "text": [
            "\r 30%|███       | 3/10 [01:21<03:11, 27.35s/it]"
          ]
        },
        {
          "name": "stdout",
          "output_type": "stream",
          "text": [
            "Epoch 2: loss 0.015, train acc 0.996, test acc 0.989, in 28.3 sec\n"
          ]
        },
        {
          "name": "stderr",
          "output_type": "stream",
          "text": [
            "\r 40%|████      | 4/10 [01:47<02:41, 26.95s/it]"
          ]
        },
        {
          "name": "stdout",
          "output_type": "stream",
          "text": [
            "Epoch 3: loss 0.007, train acc 0.998, test acc 0.992, in 26.3 sec\n"
          ]
        },
        {
          "name": "stderr",
          "output_type": "stream",
          "text": [
            "\r 50%|█████     | 5/10 [02:14<02:13, 26.71s/it]"
          ]
        },
        {
          "name": "stdout",
          "output_type": "stream",
          "text": [
            "Epoch 4: loss 0.003, train acc 1.000, test acc 0.991, in 26.3 sec\n"
          ]
        },
        {
          "name": "stderr",
          "output_type": "stream",
          "text": [
            "\r 60%|██████    | 6/10 [02:40<01:46, 26.63s/it]"
          ]
        },
        {
          "name": "stdout",
          "output_type": "stream",
          "text": [
            "Epoch 5: loss 0.001, train acc 1.000, test acc 0.992, in 26.5 sec\n"
          ]
        },
        {
          "name": "stderr",
          "output_type": "stream",
          "text": [
            "\r 70%|███████   | 7/10 [03:06<01:19, 26.58s/it]"
          ]
        },
        {
          "name": "stdout",
          "output_type": "stream",
          "text": [
            "Epoch 6: loss 0.001, train acc 1.000, test acc 0.992, in 26.5 sec\n"
          ]
        },
        {
          "name": "stderr",
          "output_type": "stream",
          "text": [
            "\r 80%|████████  | 8/10 [03:33<00:53, 26.55s/it]"
          ]
        },
        {
          "name": "stdout",
          "output_type": "stream",
          "text": [
            "Epoch 7: loss 0.001, train acc 1.000, test acc 0.992, in 26.5 sec\n"
          ]
        },
        {
          "name": "stderr",
          "output_type": "stream",
          "text": [
            "\r 90%|█████████ | 9/10 [03:59<00:26, 26.49s/it]"
          ]
        },
        {
          "name": "stdout",
          "output_type": "stream",
          "text": [
            "Epoch 8: loss 0.000, train acc 1.000, test acc 0.992, in 26.4 sec\n"
          ]
        },
        {
          "name": "stderr",
          "output_type": "stream",
          "text": [
            "100%|██████████| 10/10 [04:26<00:00, 26.61s/it]\n"
          ]
        },
        {
          "name": "stdout",
          "output_type": "stream",
          "text": [
            "Epoch 9: loss 0.000, train acc 1.000, test acc 0.992, in 26.3 sec\n"
          ]
        },
        {
          "name": "stderr",
          "output_type": "stream",
          "text": [
            " 10%|█         | 1/10 [00:14<02:07, 14.19s/it]"
          ]
        },
        {
          "name": "stdout",
          "output_type": "stream",
          "text": [
            "Epoch 0: loss 0.199, train acc 0.960, test acc 0.982, in 14.2 sec\n"
          ]
        },
        {
          "name": "stderr",
          "output_type": "stream",
          "text": [
            "\r 20%|██        | 2/10 [00:28<01:53, 14.17s/it]"
          ]
        },
        {
          "name": "stdout",
          "output_type": "stream",
          "text": [
            "Epoch 1: loss 0.135, train acc 0.979, test acc 0.983, in 14.2 sec\n"
          ]
        },
        {
          "name": "stderr",
          "output_type": "stream",
          "text": [
            "\r 30%|███       | 3/10 [00:42<01:39, 14.26s/it]"
          ]
        },
        {
          "name": "stdout",
          "output_type": "stream",
          "text": [
            "Epoch 2: loss 0.224, train acc 0.979, test acc 0.976, in 14.4 sec\n"
          ]
        },
        {
          "name": "stderr",
          "output_type": "stream",
          "text": [
            "\r 40%|████      | 4/10 [00:56<01:25, 14.27s/it]"
          ]
        },
        {
          "name": "stdout",
          "output_type": "stream",
          "text": [
            "Epoch 3: loss 0.366, train acc 0.965, test acc 0.986, in 14.3 sec\n"
          ]
        },
        {
          "name": "stderr",
          "output_type": "stream",
          "text": [
            "\r 50%|█████     | 5/10 [01:11<01:11, 14.23s/it]"
          ]
        },
        {
          "name": "stdout",
          "output_type": "stream",
          "text": [
            "Epoch 4: loss 0.297, train acc 0.983, test acc 0.960, in 14.2 sec\n"
          ]
        },
        {
          "name": "stderr",
          "output_type": "stream",
          "text": [
            "\r 60%|██████    | 6/10 [01:25<00:56, 14.22s/it]"
          ]
        },
        {
          "name": "stdout",
          "output_type": "stream",
          "text": [
            "Epoch 5: loss 0.287, train acc 0.986, test acc 0.983, in 14.2 sec\n"
          ]
        },
        {
          "name": "stderr",
          "output_type": "stream",
          "text": [
            "\r 70%|███████   | 7/10 [01:39<00:42, 14.22s/it]"
          ]
        },
        {
          "name": "stdout",
          "output_type": "stream",
          "text": [
            "Epoch 6: loss 0.290, train acc 0.984, test acc 0.987, in 14.2 sec\n"
          ]
        },
        {
          "name": "stderr",
          "output_type": "stream",
          "text": [
            "\r 80%|████████  | 8/10 [01:53<00:28, 14.26s/it]"
          ]
        },
        {
          "name": "stdout",
          "output_type": "stream",
          "text": [
            "Epoch 7: loss 0.283, train acc 0.986, test acc 0.981, in 14.3 sec\n"
          ]
        },
        {
          "name": "stderr",
          "output_type": "stream",
          "text": [
            "\r 90%|█████████ | 9/10 [02:09<00:14, 14.79s/it]"
          ]
        },
        {
          "name": "stdout",
          "output_type": "stream",
          "text": [
            "Epoch 8: loss 0.335, train acc 0.972, test acc 0.969, in 15.9 sec\n"
          ]
        },
        {
          "name": "stderr",
          "output_type": "stream",
          "text": [
            "100%|██████████| 10/10 [02:24<00:00, 14.41s/it]"
          ]
        },
        {
          "name": "stdout",
          "output_type": "stream",
          "text": [
            "Epoch 9: loss 0.287, train acc 0.985, test acc 0.987, in 14.2 sec\n"
          ]
        },
        {
          "name": "stderr",
          "output_type": "stream",
          "text": [
            "\n"
          ]
        },
        {
          "data": {
            "image/png": "[encoded data removed]",
            "text/plain": [
              "<Figure size 1728x288 with 3 Axes>"
            ]
          },
          "metadata": {
            "needs_background": "light"
          },
          "output_type": "display_data"
        },
        {
          "data": {
            "text/plain": [
              "<Figure size 1728x288 with 0 Axes>"
            ]
          },
          "metadata": {},
          "output_type": "display_data"
        }
      ],
      "source": [
        "comparison(epochs, mnist_train, mnist_valid, batch_size,net, lr = 0.03, lamdas = np.logspace(-3,0,4), momentum=0.0, num_workers=8, folder = \"fMNIST\")"
      ]
    },
    {
      "cell_type": "markdown",
      "metadata": {
        "id": "JA1NyhwcJdpn"
      },
      "source": [
        "## CIFAR100"
      ]
    },
    {
      "cell_type": "code",
      "execution_count": null,
      "metadata": {
        "colab": {
          "base_uri": "https://localhost:8080/"
        },
        "id": "BQ1xNqVLMMXS",
        "outputId": "e6ca0eb2-a526-494a-9dbe-f375e456ec1a"
      },
      "outputs": [
        {
          "name": "stdout",
          "output_type": "stream",
          "text": [
            "Downloading /root/.mxnet/datasets/cifar100/cifar-100-binary.tar.gz from https://apache-mxnet.s3-accelerate.dualstack.amazonaws.com/gluon/dataset/cifar100/cifar-100-binary.tar.gz...\n"
          ]
        }
      ],
      "source": [
        "cifar_train = datasets.CIFAR100(train=True)\n",
        "cifar_valid = datasets.CIFAR100(train=False)"
      ]
    },
    {
      "cell_type": "code",
      "execution_count": null,
      "metadata": {
        "id": "5m7YxDKVNAy9"
      },
      "outputs": [],
      "source": [
        "# hyper-parameters\n",
        "epochs = 10\n",
        "batch_size = 256\n",
        "\n",
        "# model\n",
        "net = vision.resnet18_v1()\n",
        "net.collect_params().initialize(init=init.Xavier(),force_reinit=True, ctx=mx.gpu(0))\n",
        "\n",
        "# criterion\n",
        "softmax_cross_entropy = gluon.loss.SoftmaxCrossEntropyLoss()\n",
        "\n",
        "lr_num_update = 3"
      ]
    },
    {
      "cell_type": "code",
      "execution_count": null,
      "metadata": {
        "colab": {
          "base_uri": "https://localhost:8080/",
          "height": 1000
        },
        "id": "ueixVfOyNDa_",
        "outputId": "6e61c23b-6c99-4b8e-bf96-c4ac3554942c"
      },
      "outputs": [
        {
          "name": "stderr",
          "output_type": "stream",
          "text": [
            " 10%|█         | 1/10 [00:24<03:41, 24.60s/it]"
          ]
        },
        {
          "name": "stdout",
          "output_type": "stream",
          "text": [
            "Epoch 0: loss 2.554, train acc 0.268, test acc 0.328, in 24.6 sec\n"
          ]
        },
        {
          "name": "stderr",
          "output_type": "stream",
          "text": [
            "\r 20%|██        | 2/10 [00:47<03:11, 23.89s/it]"
          ]
        },
        {
          "name": "stdout",
          "output_type": "stream",
          "text": [
            "Epoch 1: loss 1.967, train acc 0.390, test acc 0.365, in 23.4 sec\n"
          ]
        },
        {
          "name": "stderr",
          "output_type": "stream",
          "text": [
            "\r 30%|███       | 3/10 [01:11<02:46, 23.81s/it]"
          ]
        },
        {
          "name": "stdout",
          "output_type": "stream",
          "text": [
            "Epoch 2: loss 1.733, train acc 0.459, test acc 0.401, in 23.7 sec\n"
          ]
        },
        {
          "name": "stderr",
          "output_type": "stream",
          "text": [
            "\r 40%|████      | 4/10 [01:35<02:21, 23.64s/it]"
          ]
        },
        {
          "name": "stdout",
          "output_type": "stream",
          "text": [
            "Epoch 3: loss 1.532, train acc 0.517, test acc 0.425, in 23.4 sec\n"
          ]
        },
        {
          "name": "stderr",
          "output_type": "stream",
          "text": [
            "\r 50%|█████     | 5/10 [01:58<01:58, 23.67s/it]"
          ]
        },
        {
          "name": "stdout",
          "output_type": "stream",
          "text": [
            "Epoch 4: loss 1.343, train acc 0.575, test acc 0.439, in 23.7 sec\n"
          ]
        },
        {
          "name": "stderr",
          "output_type": "stream",
          "text": [
            "\r 60%|██████    | 6/10 [02:22<01:35, 23.81s/it]"
          ]
        },
        {
          "name": "stdout",
          "output_type": "stream",
          "text": [
            "Epoch 5: loss 1.166, train acc 0.629, test acc 0.441, in 24.1 sec\n"
          ]
        },
        {
          "name": "stderr",
          "output_type": "stream",
          "text": [
            "\r 70%|███████   | 7/10 [02:46<01:11, 23.79s/it]"
          ]
        },
        {
          "name": "stdout",
          "output_type": "stream",
          "text": [
            "Epoch 6: loss 0.979, train acc 0.685, test acc 0.423, in 23.8 sec\n"
          ]
        },
        {
          "name": "stderr",
          "output_type": "stream",
          "text": [
            "\r 80%|████████  | 8/10 [03:09<00:47, 23.63s/it]"
          ]
        },
        {
          "name": "stdout",
          "output_type": "stream",
          "text": [
            "Epoch 7: loss 0.804, train acc 0.741, test acc 0.430, in 23.3 sec\n"
          ]
        },
        {
          "name": "stderr",
          "output_type": "stream",
          "text": [
            "\r 90%|█████████ | 9/10 [03:33<00:23, 23.53s/it]"
          ]
        },
        {
          "name": "stdout",
          "output_type": "stream",
          "text": [
            "Epoch 8: loss 0.652, train acc 0.788, test acc 0.397, in 23.3 sec\n"
          ]
        },
        {
          "name": "stderr",
          "output_type": "stream",
          "text": [
            "100%|██████████| 10/10 [03:56<00:00, 23.66s/it]\n"
          ]
        },
        {
          "name": "stdout",
          "output_type": "stream",
          "text": [
            "Epoch 9: loss 0.494, train acc 0.841, test acc 0.430, in 23.4 sec\n"
          ]
        },
        {
          "name": "stderr",
          "output_type": "stream",
          "text": [
            " 10%|█         | 1/10 [00:23<03:31, 23.51s/it]"
          ]
        },
        {
          "name": "stdout",
          "output_type": "stream",
          "text": [
            "Epoch 0: loss 2.553, train acc 0.269, test acc 0.323, in 23.5 sec\n"
          ]
        },
        {
          "name": "stderr",
          "output_type": "stream",
          "text": [
            "\r 20%|██        | 2/10 [00:47<03:11, 23.91s/it]"
          ]
        },
        {
          "name": "stdout",
          "output_type": "stream",
          "text": [
            "Epoch 1: loss 1.963, train acc 0.391, test acc 0.384, in 24.2 sec\n"
          ]
        },
        {
          "name": "stderr",
          "output_type": "stream",
          "text": [
            "\r 30%|███       | 3/10 [01:12<02:49, 24.17s/it]"
          ]
        },
        {
          "name": "stdout",
          "output_type": "stream",
          "text": [
            "Epoch 2: loss 1.718, train acc 0.464, test acc 0.405, in 24.5 sec\n"
          ]
        },
        {
          "name": "stderr",
          "output_type": "stream",
          "text": [
            "\r 40%|████      | 4/10 [01:35<02:23, 23.89s/it]"
          ]
        },
        {
          "name": "stdout",
          "output_type": "stream",
          "text": [
            "Epoch 3: loss 1.514, train acc 0.522, test acc 0.363, in 23.4 sec\n"
          ]
        },
        {
          "name": "stderr",
          "output_type": "stream",
          "text": [
            "\r 50%|█████     | 5/10 [01:59<01:58, 23.73s/it]"
          ]
        },
        {
          "name": "stdout",
          "output_type": "stream",
          "text": [
            "Epoch 4: loss 1.333, train acc 0.578, test acc 0.414, in 23.5 sec\n"
          ]
        },
        {
          "name": "stderr",
          "output_type": "stream",
          "text": [
            "\r 60%|██████    | 6/10 [02:22<01:34, 23.71s/it]"
          ]
        },
        {
          "name": "stdout",
          "output_type": "stream",
          "text": [
            "Epoch 5: loss 1.150, train acc 0.632, test acc 0.397, in 23.7 sec\n"
          ]
        },
        {
          "name": "stderr",
          "output_type": "stream",
          "text": [
            "\r 70%|███████   | 7/10 [02:46<01:10, 23.61s/it]"
          ]
        },
        {
          "name": "stdout",
          "output_type": "stream",
          "text": [
            "Epoch 6: loss 0.979, train acc 0.685, test acc 0.433, in 23.4 sec\n"
          ]
        },
        {
          "name": "stderr",
          "output_type": "stream",
          "text": [
            "\r 80%|████████  | 8/10 [03:09<00:47, 23.55s/it]"
          ]
        },
        {
          "name": "stdout",
          "output_type": "stream",
          "text": [
            "Epoch 7: loss 0.807, train acc 0.738, test acc 0.428, in 23.4 sec\n"
          ]
        },
        {
          "name": "stderr",
          "output_type": "stream",
          "text": [
            "\r 90%|█████████ | 9/10 [03:32<00:23, 23.50s/it]"
          ]
        },
        {
          "name": "stdout",
          "output_type": "stream",
          "text": [
            "Epoch 8: loss 0.643, train acc 0.792, test acc 0.434, in 23.4 sec\n"
          ]
        },
        {
          "name": "stderr",
          "output_type": "stream",
          "text": [
            "100%|██████████| 10/10 [03:56<00:00, 23.66s/it]\n"
          ]
        },
        {
          "name": "stdout",
          "output_type": "stream",
          "text": [
            "Epoch 9: loss 0.494, train acc 0.839, test acc 0.434, in 23.6 sec\n"
          ]
        },
        {
          "name": "stderr",
          "output_type": "stream",
          "text": [
            " 10%|█         | 1/10 [00:23<03:33, 23.71s/it]"
          ]
        },
        {
          "name": "stdout",
          "output_type": "stream",
          "text": [
            "Epoch 0: loss 2.531, train acc 0.272, test acc 0.302, in 23.7 sec\n"
          ]
        },
        {
          "name": "stderr",
          "output_type": "stream",
          "text": [
            "\r 20%|██        | 2/10 [00:47<03:08, 23.53s/it]"
          ]
        },
        {
          "name": "stdout",
          "output_type": "stream",
          "text": [
            "Epoch 1: loss 1.970, train acc 0.390, test acc 0.374, in 23.4 sec\n"
          ]
        },
        {
          "name": "stderr",
          "output_type": "stream",
          "text": [
            "\r 30%|███       | 3/10 [01:10<02:44, 23.50s/it]"
          ]
        },
        {
          "name": "stdout",
          "output_type": "stream",
          "text": [
            "Epoch 2: loss 1.735, train acc 0.456, test acc 0.356, in 23.5 sec\n"
          ]
        },
        {
          "name": "stderr",
          "output_type": "stream",
          "text": [
            "\r 40%|████      | 4/10 [01:33<02:20, 23.46s/it]"
          ]
        },
        {
          "name": "stdout",
          "output_type": "stream",
          "text": [
            "Epoch 3: loss 1.547, train acc 0.514, test acc 0.397, in 23.4 sec\n"
          ]
        },
        {
          "name": "stderr",
          "output_type": "stream",
          "text": [
            "\r 50%|█████     | 5/10 [01:57<01:57, 23.45s/it]"
          ]
        },
        {
          "name": "stdout",
          "output_type": "stream",
          "text": [
            "Epoch 4: loss 1.362, train acc 0.567, test acc 0.410, in 23.4 sec\n"
          ]
        },
        {
          "name": "stderr",
          "output_type": "stream",
          "text": [
            "\r 60%|██████    | 6/10 [02:22<01:36, 24.05s/it]"
          ]
        },
        {
          "name": "stdout",
          "output_type": "stream",
          "text": [
            "Epoch 5: loss 1.180, train acc 0.624, test acc 0.417, in 25.2 sec\n"
          ]
        },
        {
          "name": "stderr",
          "output_type": "stream",
          "text": [
            "\r 70%|███████   | 7/10 [02:46<01:11, 23.83s/it]"
          ]
        },
        {
          "name": "stdout",
          "output_type": "stream",
          "text": [
            "Epoch 6: loss 1.006, train acc 0.678, test acc 0.438, in 23.4 sec\n"
          ]
        },
        {
          "name": "stderr",
          "output_type": "stream",
          "text": [
            "\r 80%|████████  | 8/10 [03:09<00:47, 23.67s/it]"
          ]
        },
        {
          "name": "stdout",
          "output_type": "stream",
          "text": [
            "Epoch 7: loss 0.843, train acc 0.726, test acc 0.432, in 23.3 sec\n"
          ]
        },
        {
          "name": "stderr",
          "output_type": "stream",
          "text": [
            "\r 90%|█████████ | 9/10 [03:32<00:23, 23.65s/it]"
          ]
        },
        {
          "name": "stdout",
          "output_type": "stream",
          "text": [
            "Epoch 8: loss 0.689, train acc 0.775, test acc 0.430, in 23.6 sec\n"
          ]
        },
        {
          "name": "stderr",
          "output_type": "stream",
          "text": [
            "100%|██████████| 10/10 [03:56<00:00, 23.65s/it]\n"
          ]
        },
        {
          "name": "stdout",
          "output_type": "stream",
          "text": [
            "Epoch 9: loss 0.528, train acc 0.828, test acc 0.430, in 23.5 sec\n"
          ]
        },
        {
          "name": "stderr",
          "output_type": "stream",
          "text": [
            " 10%|█         | 1/10 [00:23<03:35, 23.92s/it]"
          ]
        },
        {
          "name": "stdout",
          "output_type": "stream",
          "text": [
            "Epoch 0: loss 2.547, train acc 0.268, test acc 0.314, in 23.9 sec\n"
          ]
        },
        {
          "name": "stderr",
          "output_type": "stream",
          "text": [
            "\r 20%|██        | 2/10 [00:47<03:09, 23.64s/it]"
          ]
        },
        {
          "name": "stdout",
          "output_type": "stream",
          "text": [
            "Epoch 1: loss 1.978, train acc 0.385, test acc 0.357, in 23.4 sec\n"
          ]
        },
        {
          "name": "stderr",
          "output_type": "stream",
          "text": [
            "\r 30%|███       | 3/10 [01:10<02:44, 23.53s/it]"
          ]
        },
        {
          "name": "stdout",
          "output_type": "stream",
          "text": [
            "Epoch 2: loss 1.748, train acc 0.453, test acc 0.395, in 23.4 sec\n"
          ]
        },
        {
          "name": "stderr",
          "output_type": "stream",
          "text": [
            "\r 40%|████      | 4/10 [01:34<02:20, 23.44s/it]"
          ]
        },
        {
          "name": "stdout",
          "output_type": "stream",
          "text": [
            "Epoch 3: loss 1.550, train acc 0.509, test acc 0.403, in 23.3 sec\n"
          ]
        },
        {
          "name": "stderr",
          "output_type": "stream",
          "text": [
            "\r 50%|█████     | 5/10 [01:57<01:57, 23.42s/it]"
          ]
        },
        {
          "name": "stdout",
          "output_type": "stream",
          "text": [
            "Epoch 4: loss 1.360, train acc 0.569, test acc 0.438, in 23.4 sec\n"
          ]
        },
        {
          "name": "stderr",
          "output_type": "stream",
          "text": [
            "\r 60%|██████    | 6/10 [02:20<01:33, 23.38s/it]"
          ]
        },
        {
          "name": "stdout",
          "output_type": "stream",
          "text": [
            "Epoch 5: loss 1.182, train acc 0.622, test acc 0.432, in 23.3 sec\n"
          ]
        },
        {
          "name": "stderr",
          "output_type": "stream",
          "text": [
            "\r 70%|███████   | 7/10 [02:44<01:10, 23.40s/it]"
          ]
        },
        {
          "name": "stdout",
          "output_type": "stream",
          "text": [
            "Epoch 6: loss 1.006, train acc 0.676, test acc 0.402, in 23.4 sec\n"
          ]
        },
        {
          "name": "stderr",
          "output_type": "stream",
          "text": [
            "\r 80%|████████  | 8/10 [03:07<00:46, 23.39s/it]"
          ]
        },
        {
          "name": "stdout",
          "output_type": "stream",
          "text": [
            "Epoch 7: loss 0.838, train acc 0.728, test acc 0.426, in 23.4 sec\n"
          ]
        },
        {
          "name": "stderr",
          "output_type": "stream",
          "text": [
            "\r 90%|█████████ | 9/10 [03:32<00:23, 23.94s/it]"
          ]
        },
        {
          "name": "stdout",
          "output_type": "stream",
          "text": [
            "Epoch 8: loss 0.671, train acc 0.783, test acc 0.431, in 25.1 sec\n"
          ]
        },
        {
          "name": "stderr",
          "output_type": "stream",
          "text": [
            "100%|██████████| 10/10 [03:56<00:00, 23.60s/it]\n"
          ]
        },
        {
          "name": "stdout",
          "output_type": "stream",
          "text": [
            "Epoch 9: loss 0.518, train acc 0.831, test acc 0.430, in 23.3 sec\n"
          ]
        },
        {
          "name": "stderr",
          "output_type": "stream",
          "text": [
            " 10%|█         | 1/10 [00:13<01:59, 13.31s/it]"
          ]
        },
        {
          "name": "stdout",
          "output_type": "stream",
          "text": [
            "Epoch 0: loss 2.548, train acc 0.278, test acc 0.272, in 13.3 sec\n"
          ]
        },
        {
          "name": "stderr",
          "output_type": "stream",
          "text": [
            "\r 20%|██        | 2/10 [00:26<01:46, 13.28s/it]"
          ]
        },
        {
          "name": "stdout",
          "output_type": "stream",
          "text": [
            "Epoch 1: loss 2.172, train acc 0.368, test acc 0.266, in 13.3 sec\n"
          ]
        },
        {
          "name": "stderr",
          "output_type": "stream",
          "text": [
            "\r 30%|███       | 3/10 [00:39<01:32, 13.21s/it]"
          ]
        },
        {
          "name": "stdout",
          "output_type": "stream",
          "text": [
            "Epoch 2: loss 2.241, train acc 0.392, test acc 0.235, in 13.1 sec\n"
          ]
        },
        {
          "name": "stderr",
          "output_type": "stream",
          "text": [
            "\r 40%|████      | 4/10 [00:52<01:19, 13.21s/it]"
          ]
        },
        {
          "name": "stdout",
          "output_type": "stream",
          "text": [
            "Epoch 3: loss 2.325, train acc 0.405, test acc 0.281, in 13.2 sec\n"
          ]
        },
        {
          "name": "stderr",
          "output_type": "stream",
          "text": [
            "\r 50%|█████     | 5/10 [01:06<01:06, 13.28s/it]"
          ]
        },
        {
          "name": "stdout",
          "output_type": "stream",
          "text": [
            "Epoch 4: loss 2.295, train acc 0.422, test acc 0.305, in 13.4 sec\n"
          ]
        },
        {
          "name": "stderr",
          "output_type": "stream",
          "text": [
            "\r 60%|██████    | 6/10 [01:19<00:52, 13.24s/it]"
          ]
        },
        {
          "name": "stdout",
          "output_type": "stream",
          "text": [
            "Epoch 5: loss 2.230, train acc 0.438, test acc 0.354, in 13.2 sec\n"
          ]
        },
        {
          "name": "stderr",
          "output_type": "stream",
          "text": [
            "\r 70%|███████   | 7/10 [01:32<00:39, 13.25s/it]"
          ]
        },
        {
          "name": "stdout",
          "output_type": "stream",
          "text": [
            "Epoch 6: loss 2.185, train acc 0.449, test acc 0.428, in 13.3 sec\n"
          ]
        },
        {
          "name": "stderr",
          "output_type": "stream",
          "text": [
            "\r 80%|████████  | 8/10 [01:45<00:26, 13.25s/it]"
          ]
        },
        {
          "name": "stdout",
          "output_type": "stream",
          "text": [
            "Epoch 7: loss 2.171, train acc 0.454, test acc 0.424, in 13.2 sec\n"
          ]
        },
        {
          "name": "stderr",
          "output_type": "stream",
          "text": [
            "\r 90%|█████████ | 9/10 [01:59<00:13, 13.25s/it]"
          ]
        },
        {
          "name": "stdout",
          "output_type": "stream",
          "text": [
            "Epoch 8: loss 2.162, train acc 0.458, test acc 0.389, in 13.2 sec\n"
          ]
        },
        {
          "name": "stderr",
          "output_type": "stream",
          "text": [
            "100%|██████████| 10/10 [02:12<00:00, 13.24s/it]"
          ]
        },
        {
          "name": "stdout",
          "output_type": "stream",
          "text": [
            "Epoch 9: loss 2.155, train acc 0.456, test acc 0.400, in 13.1 sec\n"
          ]
        },
        {
          "name": "stderr",
          "output_type": "stream",
          "text": [
            "\n"
          ]
        },
        {
          "data": {
            "image/png": "[encoded data removed]",
            "text/plain": [
              "<Figure size 1728x288 with 3 Axes>"
            ]
          },
          "metadata": {
            "needs_background": "light"
          },
          "output_type": "display_data"
        },
        {
          "data": {
            "text/plain": [
              "<Figure size 1728x288 with 0 Axes>"
            ]
          },
          "metadata": {},
          "output_type": "display_data"
        }
      ],
      "source": [
        "comparison(epochs, cifar_train, cifar_valid, batch_size,net, lr = 0.03, lamdas = np.logspace(-3,0,4), momentum=0.0, num_workers=8, folder = \"CIPHAR\")"
      ]
    },
    {
      "cell_type": "markdown",
      "metadata": {},
      "source": [
        "### A brief comment on the momentum parameter :\n",
        "This parameter has been a problem for us. Ultimately, we set it equal to zero as any other value led to computation errors in the ASGD algorithm, and not in the SGD algorithm. Hence, to ensure fairness of comparison, we set it to zero. This choice was also motivated by this [paper](https://arxiv.org/abs/2005.06728), which argues that the momentum parameter does not play a crucial role. "
      ]
    }
  ],
  "metadata": {
    "accelerator": "GPU",
    "colab": {
      "collapsed_sections": [],
      "name": "comparison_Bastien.ipynb",
      "provenance": []
    },
    "gpuClass": "standard",
    "kernelspec": {
      "display_name": "Python 3",
      "name": "python3"
    },
    "language_info": {
      "name": "python"
    }
  },
  "nbformat": 4,
  "nbformat_minor": 0
}
